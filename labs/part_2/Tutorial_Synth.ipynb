{
  "nbformat": 4,
  "nbformat_minor": 0,
  "metadata": {
    "colab": {
      "provenance": [],
      "authorship_tag": "ABX9TyPpBdS1341wNmKQuZKgqg37",
      "include_colab_link": true
    },
    "kernelspec": {
      "name": "python3",
      "display_name": "Python 3"
    },
    "language_info": {
      "name": "python"
    }
  },
  "cells": [
    {
      "cell_type": "markdown",
      "metadata": {
        "id": "view-in-github",
        "colab_type": "text"
      },
      "source": [
        "<a href=\"https://colab.research.google.com/github/misoc-mml/ncrm-causality-2022/blob/main/labs/part_2/Tutorial_Synth.ipynb\" target=\"_parent\"><img src=\"https://colab.research.google.com/assets/colab-badge.svg\" alt=\"Open In Colab\"/></a>"
      ]
    },
    {
      "cell_type": "markdown",
      "source": [
        "# Causal Inference - Tutorial\n",
        "\n",
        "We are going to combine our knowledge of regression and classification methods to estimate some causal effects.\n",
        "\n",
        "Steps we are going to take:\n",
        "1. Problem description.\n",
        "2. Importing packages.\n",
        "3. Loading and exploring the data.\n",
        "4. ATE - classic (explanatory) perspective.\n",
        "5. CATE - ML (predictive) perspective.\n",
        "6. Performance evaluation."
      ],
      "metadata": {
        "id": "0jROXuqYA9eM"
      }
    },
    {
      "cell_type": "markdown",
      "source": [
        "## Step 1 - problem setting\n",
        "\n"
      ],
      "metadata": {
        "id": "UXgakXNmBOii"
      }
    },
    {
      "cell_type": "markdown",
      "source": [
        "We use the data generating process (DGP) from [Kunzel et al.](https://arxiv.org/abs/1706.03461) and EconML's [example notebooks](https://github.com/Microsoft/EconML/blob/main/notebooks/Metalearners%20Examples.ipynb). The DGP is described by the following equations:\n",
        "\n",
        "$\n",
        "Y = \\mu_1(x) \\cdot T + \\mu_0(x) \\cdot (1-T) + \\epsilon \\\\\n",
        "T \\sim Bern(e(x)), \\; e(x) = P(T=1|X=x)\n",
        "$\n",
        "\n",
        "where \n",
        "\n",
        "$\n",
        "\\mu_0(x) = x^T\\beta,\\; with \\;\\beta\\sim Unif([-3, 3]^d),\\; X_i \\sim N(0, \\Sigma)\\\\\n",
        "\\mu_1(x) = \\mu_0(x) + 8 \\mathbb{I}(x_2>0.1) => CATE(x) = 8 \\mathbb{I}(x_2>0.1)\n",
        "$"
      ],
      "metadata": {
        "id": "EtQrqWVJBPkB"
      }
    },
    {
      "cell_type": "markdown",
      "source": [
        "We generated 1,000 samples with 5 covariates (X), binary treatment (T) and continuous outcome (Y)."
      ],
      "metadata": {
        "id": "D8XLZu3MCXYs"
      }
    },
    {
      "cell_type": "markdown",
      "source": [
        "In terms of evaluation metrics, we are interested in predicting both individual and average treatment effects for this task. As the outcomes are simulated, we have access to both true outcomes $\\mathcal{Y}_1$ and $\\mathcal{Y}_0$ for each individual (i). As a result, we have access to true ITEs and true ATE:\n",
        "\n",
        "$$ITE^{(i)} = \\mathcal{Y}_1^{(i)} - \\mathcal{Y}_0^{(i)}$$\n",
        "\n",
        "$$ATE = \\mathbb{E}[ITE]$$\n",
        "\n",
        "We can define our predictions as:\n",
        "\n",
        "$$\\widehat{ITE}^{(i)} = \\hat{y}_1^{(i)} - \\hat{y}_0^{(i)}$$\n",
        "\n",
        "$$\\widehat{ATE} = \\frac{1}{n}\\sum \\limits_{i=1}^{n}\\widehat{ITE}^{(i)}$$\n",
        "\n",
        "This allows us to define measurement errors with respect to each as:\n",
        "\n",
        "$$\\epsilon_{PEHE} = \\sqrt{\\frac{1}{n}\\sum \\limits_{i=1}^{n}(\\widehat{ITE}^{(i)} - ITE^{(i)})^2}$$\n",
        "\n",
        "$$\\epsilon_{ATE} = \\left| \\widehat{ATE} - ATE \\right|$$\n",
        "\n",
        "Where PEHE stands for Precision in Estimation of Heterogeneous Effect, and which essentially is a Root Mean Squared Error (RMSE) between predicted and true ITEs. Implementations of both metrics are provided below."
      ],
      "metadata": {
        "id": "geCP9-CmCuwD"
      }
    },
    {
      "cell_type": "code",
      "execution_count": 31,
      "metadata": {
        "id": "F0hohyprA19E"
      },
      "outputs": [],
      "source": [
        "def rmse(a, b):\n",
        "    a = a.reshape(-1, 1)\n",
        "    b = b.reshape(-1, 1)\n",
        "    return np.sqrt(((a - b)**2).mean())\n",
        "\n",
        "def ate_error(pred_te, true_te):\n",
        "  return np.abs(np.mean(pred_te) - np.mean(true_te))\n",
        "\n",
        "def pehe_error(pred_te, true_te):\n",
        "  return rmse(true_te, pred_te)"
      ]
    },
    {
      "cell_type": "markdown",
      "metadata": {
        "id": "6HGVdq5cJt6h"
      },
      "source": [
        "## Step 2 - packages"
      ]
    },
    {
      "cell_type": "markdown",
      "metadata": {
        "id": "udhdowJ8Jw3C"
      },
      "source": [
        "Google Colab has loads of pre-installed packages already. What if we need more? We can install additional packages by knowing that:\n",
        "- The exclamation mark ('!') gives us access to the Linux command line that runs behind our notebook.\n",
        "- We can access the default python's package manager with the command 'pip'.\n",
        "\n",
        "In our case, we are interested in using the [EconML](https://econml.azurewebsites.net/index.html) package, which is not part of the default Colab environment. We can install it via the following command:"
      ]
    },
    {
      "cell_type": "code",
      "metadata": {
        "id": "12hISSkts2bJ",
        "colab": {
          "base_uri": "https://localhost:8080/"
        },
        "outputId": "f45cdd4b-2c12-4cc1-cff4-a4c7251eac4e"
      },
      "source": [
        "!pip install econml"
      ],
      "execution_count": 32,
      "outputs": [
        {
          "output_type": "stream",
          "name": "stdout",
          "text": [
            "Looking in indexes: https://pypi.org/simple, https://us-python.pkg.dev/colab-wheels/public/simple/\n",
            "Requirement already satisfied: econml in /usr/local/lib/python3.7/dist-packages (0.13.1)\n",
            "Requirement already satisfied: dowhy<0.8 in /usr/local/lib/python3.7/dist-packages (from econml) (0.7.1)\n",
            "Requirement already satisfied: lightgbm in /usr/local/lib/python3.7/dist-packages (from econml) (2.2.3)\n",
            "Requirement already satisfied: shap<0.41.0,>=0.38.1 in /usr/local/lib/python3.7/dist-packages (from econml) (0.40.0)\n",
            "Requirement already satisfied: pandas in /usr/local/lib/python3.7/dist-packages (from econml) (1.3.5)\n",
            "Requirement already satisfied: joblib>=0.13.0 in /usr/local/lib/python3.7/dist-packages (from econml) (1.2.0)\n",
            "Requirement already satisfied: statsmodels>=0.10 in /usr/local/lib/python3.7/dist-packages (from econml) (0.12.2)\n",
            "Requirement already satisfied: sparse in /usr/local/lib/python3.7/dist-packages (from econml) (0.13.0)\n",
            "Requirement already satisfied: numpy in /usr/local/lib/python3.7/dist-packages (from econml) (1.21.6)\n",
            "Requirement already satisfied: scipy>1.4.0 in /usr/local/lib/python3.7/dist-packages (from econml) (1.7.3)\n",
            "Requirement already satisfied: scikit-learn<1.2,>0.22.0 in /usr/local/lib/python3.7/dist-packages (from econml) (1.0.2)\n",
            "Requirement already satisfied: networkx>=2.0 in /usr/local/lib/python3.7/dist-packages (from dowhy<0.8->econml) (2.6.3)\n",
            "Requirement already satisfied: pydot>=1.4 in /usr/local/lib/python3.7/dist-packages (from dowhy<0.8->econml) (1.4.2)\n",
            "Requirement already satisfied: sympy>=1.4 in /usr/local/lib/python3.7/dist-packages (from dowhy<0.8->econml) (1.7.1)\n",
            "Requirement already satisfied: python-dateutil>=2.7.3 in /usr/local/lib/python3.7/dist-packages (from pandas->econml) (2.8.2)\n",
            "Requirement already satisfied: pytz>=2017.3 in /usr/local/lib/python3.7/dist-packages (from pandas->econml) (2022.4)\n",
            "Requirement already satisfied: pyparsing>=2.1.4 in /usr/local/lib/python3.7/dist-packages (from pydot>=1.4->dowhy<0.8->econml) (3.0.9)\n",
            "Requirement already satisfied: six>=1.5 in /usr/local/lib/python3.7/dist-packages (from python-dateutil>=2.7.3->pandas->econml) (1.15.0)\n",
            "Requirement already satisfied: threadpoolctl>=2.0.0 in /usr/local/lib/python3.7/dist-packages (from scikit-learn<1.2,>0.22.0->econml) (3.1.0)\n",
            "Requirement already satisfied: slicer==0.0.7 in /usr/local/lib/python3.7/dist-packages (from shap<0.41.0,>=0.38.1->econml) (0.0.7)\n",
            "Requirement already satisfied: tqdm>4.25.0 in /usr/local/lib/python3.7/dist-packages (from shap<0.41.0,>=0.38.1->econml) (4.64.1)\n",
            "Requirement already satisfied: packaging>20.9 in /usr/local/lib/python3.7/dist-packages (from shap<0.41.0,>=0.38.1->econml) (21.3)\n",
            "Requirement already satisfied: cloudpickle in /usr/local/lib/python3.7/dist-packages (from shap<0.41.0,>=0.38.1->econml) (1.5.0)\n",
            "Requirement already satisfied: numba in /usr/local/lib/python3.7/dist-packages (from shap<0.41.0,>=0.38.1->econml) (0.56.2)\n",
            "Requirement already satisfied: patsy>=0.5 in /usr/local/lib/python3.7/dist-packages (from statsmodels>=0.10->econml) (0.5.3)\n",
            "Requirement already satisfied: mpmath>=0.19 in /usr/local/lib/python3.7/dist-packages (from sympy>=1.4->dowhy<0.8->econml) (1.2.1)\n",
            "Requirement already satisfied: importlib-metadata in /usr/local/lib/python3.7/dist-packages (from numba->shap<0.41.0,>=0.38.1->econml) (5.0.0)\n",
            "Requirement already satisfied: llvmlite<0.40,>=0.39.0dev0 in /usr/local/lib/python3.7/dist-packages (from numba->shap<0.41.0,>=0.38.1->econml) (0.39.1)\n",
            "Requirement already satisfied: setuptools<60 in /usr/local/lib/python3.7/dist-packages (from numba->shap<0.41.0,>=0.38.1->econml) (57.4.0)\n",
            "Requirement already satisfied: zipp>=0.5 in /usr/local/lib/python3.7/dist-packages (from importlib-metadata->numba->shap<0.41.0,>=0.38.1->econml) (3.9.0)\n",
            "Requirement already satisfied: typing-extensions>=3.6.4 in /usr/local/lib/python3.7/dist-packages (from importlib-metadata->numba->shap<0.41.0,>=0.38.1->econml) (4.1.1)\n"
          ]
        }
      ]
    },
    {
      "cell_type": "markdown",
      "metadata": {
        "id": "UGDzbwBGMFwL"
      },
      "source": [
        "Note this command has to be executed everytime you restart the notebook.\n",
        "\n",
        "Now, we can import anything we need from EconML, together with the rest of the packages we need."
      ]
    },
    {
      "cell_type": "code",
      "metadata": {
        "id": "WsdoBHUxtWPC"
      },
      "source": [
        "from econml.metalearners import XLearner, TLearner\n",
        "from econml.dr import DRLearner\n",
        "from sklearn.linear_model import LinearRegression, LogisticRegression\n",
        "from sklearn.ensemble import RandomForestRegressor, RandomForestClassifier\n",
        "import numpy as np\n",
        "import pandas as pd\n",
        "import scipy.stats as st\n",
        "import matplotlib.pyplot as plt"
      ],
      "execution_count": 64,
      "outputs": []
    },
    {
      "cell_type": "markdown",
      "metadata": {
        "id": "QVBwNWseMlw2"
      },
      "source": [
        "## Step 3 - data"
      ]
    },
    {
      "cell_type": "markdown",
      "metadata": {
        "id": "jZ4d-KelM4DK"
      },
      "source": [
        "We are dealing here with the '.npz' file format. In order to access the data, the file can be either manually uploaded to Colab, or downloaded via the following command:"
      ]
    },
    {
      "cell_type": "code",
      "metadata": {
        "id": "IxY0wgfFtj8U",
        "colab": {
          "base_uri": "https://localhost:8080/"
        },
        "outputId": "4050862e-4c4e-48be-ac7d-2e7c4b3876b4"
      },
      "source": [
        "!wget https://github.com/misoc-mml/ncrm-causality-2022/raw/main/labs/part_2/data/synth_train.npz\n",
        "!wget https://github.com/misoc-mml/ncrm-causality-2022/raw/main/labs/part_2/data/synth_test.npz"
      ],
      "execution_count": 34,
      "outputs": [
        {
          "output_type": "stream",
          "name": "stdout",
          "text": [
            "--2022-10-17 14:30:03--  https://github.com/misoc-mml/ncrm-causality-2022/raw/main/labs/part_2/data/synth_train.npz\n",
            "Resolving github.com (github.com)... 140.82.114.4\n",
            "Connecting to github.com (github.com)|140.82.114.4|:443... connected.\n",
            "HTTP request sent, awaiting response... 302 Found\n",
            "Location: https://raw.githubusercontent.com/misoc-mml/ncrm-causality-2022/main/labs/part_2/data/synth_train.npz [following]\n",
            "--2022-10-17 14:30:03--  https://raw.githubusercontent.com/misoc-mml/ncrm-causality-2022/main/labs/part_2/data/synth_train.npz\n",
            "Resolving raw.githubusercontent.com (raw.githubusercontent.com)... 185.199.110.133, 185.199.108.133, 185.199.109.133, ...\n",
            "Connecting to raw.githubusercontent.com (raw.githubusercontent.com)|185.199.110.133|:443... connected.\n",
            "HTTP request sent, awaiting response... 200 OK\n",
            "Length: 56724 (55K) [application/octet-stream]\n",
            "Saving to: ‘synth_train.npz.1’\n",
            "\n",
            "synth_train.npz.1   100%[===================>]  55.39K  --.-KB/s    in 0.01s   \n",
            "\n",
            "2022-10-17 14:30:03 (3.81 MB/s) - ‘synth_train.npz.1’ saved [56724/56724]\n",
            "\n",
            "--2022-10-17 14:30:03--  https://github.com/misoc-mml/ncrm-causality-2022/raw/main/labs/part_2/data/synth_test.npz\n",
            "Resolving github.com (github.com)... 20.27.177.113\n",
            "Connecting to github.com (github.com)|20.27.177.113|:443... connected.\n",
            "HTTP request sent, awaiting response... 302 Found\n",
            "Location: https://raw.githubusercontent.com/misoc-mml/ncrm-causality-2022/main/labs/part_2/data/synth_test.npz [following]\n",
            "--2022-10-17 14:30:04--  https://raw.githubusercontent.com/misoc-mml/ncrm-causality-2022/main/labs/part_2/data/synth_test.npz\n",
            "Resolving raw.githubusercontent.com (raw.githubusercontent.com)... 185.199.110.133, 185.199.108.133, 185.199.109.133, ...\n",
            "Connecting to raw.githubusercontent.com (raw.githubusercontent.com)|185.199.110.133|:443... connected.\n",
            "HTTP request sent, awaiting response... 200 OK\n",
            "Length: 12492 (12K) [application/octet-stream]\n",
            "Saving to: ‘synth_test.npz.1’\n",
            "\n",
            "synth_test.npz.1    100%[===================>]  12.20K  --.-KB/s    in 0.001s  \n",
            "\n",
            "2022-10-17 14:30:04 (22.5 MB/s) - ‘synth_test.npz.1’ saved [12492/12492]\n",
            "\n"
          ]
        }
      ]
    },
    {
      "cell_type": "markdown",
      "metadata": {
        "id": "-AvBEAf5Nb0N"
      },
      "source": [
        "Let's load the file with numpy's 'load' function"
      ]
    },
    {
      "cell_type": "code",
      "metadata": {
        "id": "gtaff_ZittAW"
      },
      "source": [
        "data_train = np.load('synth_train.npz')\n",
        "data_test = np.load('synth_test.npz')"
      ],
      "execution_count": 35,
      "outputs": []
    },
    {
      "cell_type": "markdown",
      "metadata": {
        "id": "SIhlKjfTNhsA"
      },
      "source": [
        "We can see what variable names are available by examining the 'files' property."
      ]
    },
    {
      "cell_type": "code",
      "metadata": {
        "id": "0Zzkcsd-tx6N",
        "colab": {
          "base_uri": "https://localhost:8080/"
        },
        "outputId": "9004e9fc-5b32-412d-c9b7-d4c6df7e300b"
      },
      "source": [
        "data_train.files"
      ],
      "execution_count": null,
      "outputs": [
        {
          "output_type": "execute_result",
          "data": {
            "text/plain": [
              "['x', 't', 'y']"
            ]
          },
          "metadata": {},
          "execution_count": 6
        }
      ]
    },
    {
      "cell_type": "code",
      "source": [
        "print(data_train['x'].shape)\n",
        "print(data_train['t'].shape)\n",
        "print(data_train['y'].shape)"
      ],
      "metadata": {
        "colab": {
          "base_uri": "https://localhost:8080/"
        },
        "id": "Dh3yiGdFFVLQ",
        "outputId": "792f186a-2144-4b5e-9f57-266dc6d93808"
      },
      "execution_count": null,
      "outputs": [
        {
          "output_type": "stream",
          "name": "stdout",
          "text": [
            "(1000, 5)\n",
            "(1000,)\n",
            "(1000,)\n"
          ]
        }
      ]
    },
    {
      "cell_type": "code",
      "source": [
        "data_test.files"
      ],
      "metadata": {
        "colab": {
          "base_uri": "https://localhost:8080/"
        },
        "id": "5mFH3F1XD777",
        "outputId": "8446af8a-ce7c-4b8e-e0ea-b7891e939136"
      },
      "execution_count": null,
      "outputs": [
        {
          "output_type": "execute_result",
          "data": {
            "text/plain": [
              "['x', 'te']"
            ]
          },
          "metadata": {},
          "execution_count": 7
        }
      ]
    },
    {
      "cell_type": "code",
      "source": [
        "print(data_test['x'].shape)\n",
        "print(data_test['te'].shape)"
      ],
      "metadata": {
        "colab": {
          "base_uri": "https://localhost:8080/"
        },
        "id": "2_gRk4mmFKfL",
        "outputId": "3b989f94-8431-42a4-d135-9b0ba9aaa931"
      },
      "execution_count": null,
      "outputs": [
        {
          "output_type": "stream",
          "name": "stdout",
          "text": [
            "(250, 5)\n",
            "(250,)\n"
          ]
        }
      ]
    },
    {
      "cell_type": "code",
      "source": [
        "X_train = data_train['x']\n",
        "t_train = data_train['t']\n",
        "y_train = data_train['y']\n",
        "\n",
        "X_test = data_test['x']\n",
        "expected_te = data_test['te']\n",
        "expected_ate = np.mean(expected_te)"
      ],
      "metadata": {
        "id": "T0wMS8yiFfh3"
      },
      "execution_count": 38,
      "outputs": []
    },
    {
      "cell_type": "code",
      "source": [
        "bins=20\n",
        "fig, axs = plt.subplots(1, 5, figsize=(20, 4))\n",
        "for i, ax in enumerate(axs):\n",
        "  ax.hist(X_train[:, i], bins=bins)\n",
        "  ax.set_xlabel(f'x{i+1}')\n",
        "  ax.set_ylabel('Freq')"
      ],
      "metadata": {
        "colab": {
          "base_uri": "https://localhost:8080/",
          "height": 282
        },
        "id": "DVt8XThpF5VK",
        "outputId": "d2c21269-cd2c-4db6-8c21-d0d96cac96b9"
      },
      "execution_count": 37,
      "outputs": [
        {
          "output_type": "display_data",
          "data": {
            "text/plain": [
              "<Figure size 1440x288 with 5 Axes>"
            ],
            "image/png": "[encoded data removed]"
          },
          "metadata": {
            "needs_background": "light"
          }
        }
      ]
    },
    {
      "cell_type": "code",
      "source": [
        "plt.hist(t_train)\n",
        "plt.xlabel('T')\n",
        "plt.ylabel('Freq')"
      ],
      "metadata": {
        "id": "ikv0Uvu28V9g",
        "outputId": "eb05c309-51e4-42bc-b82f-130ba330d9e6",
        "colab": {
          "base_uri": "https://localhost:8080/",
          "height": 296
        }
      },
      "execution_count": 14,
      "outputs": [
        {
          "output_type": "execute_result",
          "data": {
            "text/plain": [
              "Text(0, 0.5, 'Freq')"
            ]
          },
          "metadata": {},
          "execution_count": 14
        },
        {
          "output_type": "display_data",
          "data": {
            "text/plain": [
              "<Figure size 432x288 with 1 Axes>"
            ],
            "image/png": "[encoded data removed]"
          },
          "metadata": {
            "needs_background": "light"
          }
        }
      ]
    },
    {
      "cell_type": "code",
      "source": [
        "plt.hist(y_train)\n",
        "plt.xlabel('Y')\n",
        "plt.ylabel('Freq')"
      ],
      "metadata": {
        "id": "_-6MuMW_Dlyc",
        "outputId": "265ea3eb-b430-43d7-b2a1-268ff55b8a21",
        "colab": {
          "base_uri": "https://localhost:8080/",
          "height": 296
        }
      },
      "execution_count": 21,
      "outputs": [
        {
          "output_type": "execute_result",
          "data": {
            "text/plain": [
              "Text(0, 0.5, 'Freq')"
            ]
          },
          "metadata": {},
          "execution_count": 21
        },
        {
          "output_type": "display_data",
          "data": {
            "text/plain": [
              "<Figure size 432x288 with 1 Axes>"
            ],
            "image/png": "[encoded data removed]"
          },
          "metadata": {
            "needs_background": "light"
          }
        }
      ]
    },
    {
      "cell_type": "code",
      "source": [
        "id = 1\n",
        "plt.scatter(X_train[t_train==0, id], y_train[t_train==0], c='red', label='control')\n",
        "plt.scatter(X_train[t_train==1, id], y_train[t_train==1], c='blue', label='treated')\n",
        "plt.legend()\n",
        "plt.xlabel(f'x{id+1}')\n",
        "plt.ylabel('Y')"
      ],
      "metadata": {
        "colab": {
          "base_uri": "https://localhost:8080/",
          "height": 297
        },
        "id": "AkkEUSvoGbAr",
        "outputId": "ed77ebde-25d4-41c8-ce64-d7ef694d3790"
      },
      "execution_count": 20,
      "outputs": [
        {
          "output_type": "execute_result",
          "data": {
            "text/plain": [
              "Text(0, 0.5, 'Y')"
            ]
          },
          "metadata": {},
          "execution_count": 20
        },
        {
          "output_type": "display_data",
          "data": {
            "text/plain": [
              "<Figure size 432x288 with 1 Axes>"
            ],
            "image/png": "[encoded data removed]"
          },
          "metadata": {
            "needs_background": "light"
          }
        }
      ]
    },
    {
      "cell_type": "code",
      "source": [
        "fig, axs = plt.subplots(1, 5, figsize=(20, 4))\n",
        "for i, ax in enumerate(axs):\n",
        "  ax.scatter(X_train[t_train==0, i], y_train[t_train==0], c='red', label='control')\n",
        "  ax.scatter(X_train[t_train==1, i], y_train[t_train==1], c='blue', label='treated')\n",
        "  ax.set_xlabel(f'x{i+1}')\n",
        "  ax.set_ylabel('Y')\n",
        "plt.legend()"
      ],
      "metadata": {
        "colab": {
          "base_uri": "https://localhost:8080/",
          "height": 297
        },
        "id": "xOmWUBQLHPi_",
        "outputId": "f3b669fc-2ab6-4390-dacf-632d6cb1f42f"
      },
      "execution_count": 19,
      "outputs": [
        {
          "output_type": "execute_result",
          "data": {
            "text/plain": [
              "<matplotlib.legend.Legend at 0x7f197913b550>"
            ]
          },
          "metadata": {},
          "execution_count": 19
        },
        {
          "output_type": "display_data",
          "data": {
            "text/plain": [
              "<Figure size 1440x288 with 5 Axes>"
            ],
            "image/png": "[encoded data removed]"
          },
          "metadata": {
            "needs_background": "light"
          }
        }
      ]
    },
    {
      "cell_type": "code",
      "source": [
        "plt.scatter(t_train, y_train)\n",
        "plt.xlabel('T')\n",
        "plt.ylabel('Y')"
      ],
      "metadata": {
        "id": "HoUI6kvFDtrH",
        "outputId": "1271af85-131a-4ed0-b53c-bb0da9c05b41",
        "colab": {
          "base_uri": "https://localhost:8080/",
          "height": 297
        }
      },
      "execution_count": 23,
      "outputs": [
        {
          "output_type": "execute_result",
          "data": {
            "text/plain": [
              "Text(0, 0.5, 'Y')"
            ]
          },
          "metadata": {},
          "execution_count": 23
        },
        {
          "output_type": "display_data",
          "data": {
            "text/plain": [
              "<Figure size 432x288 with 1 Axes>"
            ],
            "image/png": "[encoded data removed]"
          },
          "metadata": {
            "needs_background": "light"
          }
        }
      ]
    },
    {
      "cell_type": "markdown",
      "source": [
        "## Step 4 - classic perspective"
      ],
      "metadata": {
        "id": "zcosoMUTILpm"
      }
    },
    {
      "cell_type": "markdown",
      "source": [
        "We are going to use the following three approaches:\n",
        "- PredDiff\n",
        "- IPW\n",
        "- Pred-IPW\n",
        "\n",
        "Goals:\n",
        "- Explain existing data.\n",
        "- Estimate ATE."
      ],
      "metadata": {
        "id": "fWtJc2AHIoRB"
      }
    },
    {
      "cell_type": "markdown",
      "source": [
        "### PredDiff"
      ],
      "metadata": {
        "id": "5kehKEFIIyp5"
      }
    },
    {
      "cell_type": "code",
      "source": [
        "mu0 = LinearRegression()\n",
        "mu1 = LinearRegression()\n",
        "\n",
        "# T=0\n",
        "X0_train = X_train[t_train < 1]\n",
        "y0_train = y_train[t_train < 1]\n",
        "\n",
        "# T=1\n",
        "X1_train = X_train[t_train > 0]\n",
        "y1_train = y_train[t_train > 0]\n",
        "\n",
        "# Fit mu0 and mu1.\n",
        "mu0.fit(X0_train, y0_train)\n",
        "mu1.fit(X1_train, y1_train)\n",
        "\n",
        "# ATE predictions.\n",
        "pred_diff_train = np.mean(mu1.predict(X_train) - mu0.predict(X_train))\n",
        "pred_diff_test = np.mean(mu1.predict(X_test) - mu0.predict(X_test))"
      ],
      "metadata": {
        "id": "yN2b6SyPILUj"
      },
      "execution_count": 44,
      "outputs": []
    },
    {
      "cell_type": "code",
      "source": [
        "print(expected_ate)\n",
        "print(pred_diff_train)\n",
        "print(pred_diff_test)"
      ],
      "metadata": {
        "colab": {
          "base_uri": "https://localhost:8080/"
        },
        "id": "CQGtdU-AKfO3",
        "outputId": "815606b3-84da-462a-e313-f76a677d33fb"
      },
      "execution_count": 45,
      "outputs": [
        {
          "output_type": "stream",
          "name": "stdout",
          "text": [
            "3.84\n",
            "3.877387981734657\n",
            "3.8076882012945483\n"
          ]
        }
      ]
    },
    {
      "cell_type": "markdown",
      "source": [
        "### IPW"
      ],
      "metadata": {
        "id": "uhywxovYLk36"
      }
    },
    {
      "cell_type": "markdown",
      "source": [
        "IPW formula:\n",
        "\n",
        "$$w_i = \\frac{t_i}{P(t_i|x_i)} + \\frac{1-t_i}{1-P(t_i|x_i)}$$"
      ],
      "metadata": {
        "id": "l9Z0kA1uMPR8"
      }
    },
    {
      "cell_type": "code",
      "source": [
        "def get_ps_weights(clf, x, t):\n",
        "  ti = np.squeeze(t)\n",
        "  clf.fit(x, ti)\n",
        "  ptx = clf.predict_proba(x).T[1].T + 0.0001\n",
        "  return ti / ptx + ((1.0 - ti) / (1.0 - ptx))"
      ],
      "metadata": {
        "id": "pW5WbFDDLCmO"
      },
      "execution_count": 42,
      "outputs": []
    },
    {
      "cell_type": "code",
      "source": [
        "ex = LogisticRegression()\n",
        "weights = get_ps_weights(ex, X_train, t_train)\n",
        "\n",
        "# ATE predictions.\n",
        "ipw_train = np.mean(weights * y_train)\n",
        "\n",
        "# We don't know y_test -- can't make ATE test predictions!"
      ],
      "metadata": {
        "id": "7ulcAhiAMUoQ"
      },
      "execution_count": 46,
      "outputs": []
    },
    {
      "cell_type": "code",
      "source": [
        "print(expected_ate)\n",
        "print(ipw_train)\n",
        "print('N/A')"
      ],
      "metadata": {
        "colab": {
          "base_uri": "https://localhost:8080/"
        },
        "id": "x7cTK3vJM-X_",
        "outputId": "7c48ecd4-7bcd-46d5-d790-a8b14e877db5"
      },
      "execution_count": 47,
      "outputs": [
        {
          "output_type": "stream",
          "name": "stdout",
          "text": [
            "3.84\n",
            "3.6092288807053854\n",
            "N/A\n"
          ]
        }
      ]
    },
    {
      "cell_type": "markdown",
      "source": [
        "### Pred-IPW"
      ],
      "metadata": {
        "id": "jKgqkE2wGZdV"
      }
    },
    {
      "cell_type": "code",
      "source": [
        "ex = LogisticRegression()\n",
        "weights = get_ps_weights(ex, X_train, t_train)\n",
        "\n",
        "# Init models.\n",
        "mu0 = LinearRegression()\n",
        "mu1 = LinearRegression()\n",
        "\n",
        "# Fit mu0 and mu1.\n",
        "mu0.fit(X0_train, y0_train)\n",
        "mu1.fit(X1_train, y1_train)\n",
        "\n",
        "# Make predictions.\n",
        "y0_hat = mu0.predict(X0_train)\n",
        "y1_hat = mu1.predict(X1_train)\n",
        "\n",
        "# Extract mu_ti(x_i)\n",
        "y_hat = np.zeros_like(y_train)\n",
        "# Take from mu0 where t=0\n",
        "y_hat[t_train < 1] = y0_hat\n",
        "# Take from mu1 where t=1\n",
        "y_hat[t_train > 0] = y1_hat\n",
        "# This is more efficient than a for loop.\n",
        "\n",
        "# ATE predictions\n",
        "pred_ipw_train = np.mean(weights * y_hat)\n",
        "\n",
        "# We don't know t_test -- can't make test predictions!"
      ],
      "metadata": {
        "id": "Oo6bMLxqGenV"
      },
      "execution_count": 48,
      "outputs": []
    },
    {
      "cell_type": "code",
      "source": [
        "print(expected_ate)\n",
        "print(pred_ipw_train)\n",
        "print('N/A')"
      ],
      "metadata": {
        "id": "sd7QDH8jgK6J",
        "outputId": "886508a8-fa11-4320-b19f-355bb31f5d6b",
        "colab": {
          "base_uri": "https://localhost:8080/"
        }
      },
      "execution_count": 49,
      "outputs": [
        {
          "output_type": "stream",
          "name": "stdout",
          "text": [
            "3.84\n",
            "3.6094844771281287\n",
            "N/A\n"
          ]
        }
      ]
    },
    {
      "cell_type": "markdown",
      "source": [
        "### Summary"
      ],
      "metadata": {
        "id": "K4Ss2hmENJ8c"
      }
    },
    {
      "cell_type": "code",
      "source": [
        "results = []\n",
        "results.append(['True ATE', '-', expected_ate])\n",
        "results.append(['PredDiff', pred_diff_train, pred_diff_test])\n",
        "results.append(['IPW', ipw_train, '-'])\n",
        "results.append(['Pred-IPW', pred_ipw_train, '-'])\n",
        "\n",
        "cols = ['Method', 'Train', 'Test']\n",
        "\n",
        "df = pd.DataFrame(results, columns=cols)\n",
        "df"
      ],
      "metadata": {
        "colab": {
          "base_uri": "https://localhost:8080/",
          "height": 175
        },
        "id": "hiNww7PxNDoo",
        "outputId": "e4fb9b34-f1bf-4742-c07f-2acb074a28c3"
      },
      "execution_count": 54,
      "outputs": [
        {
          "output_type": "execute_result",
          "data": {
            "text/plain": [
              "     Method     Train      Test\n",
              "0  True ATE         -      3.84\n",
              "1  PredDiff  3.877388  3.807688\n",
              "2       IPW  3.609229         -\n",
              "3  Pred-IPW  3.609484         -"
            ],
            "text/html": [
              "\n",
              "  <div id=\"df-f9ee2aed-93bb-4a5c-ba71-f64c93b8f340\">\n",
              "    <div class=\"colab-df-container\">\n",
              "      <div>\n",
              "<style scoped>\n",
              "    .dataframe tbody tr th:only-of-type {\n",
              "        vertical-align: middle;\n",
              "    }\n",
              "\n",
              "    .dataframe tbody tr th {\n",
              "        vertical-align: top;\n",
              "    }\n",
              "\n",
              "    .dataframe thead th {\n",
              "        text-align: right;\n",
              "    }\n",
              "</style>\n",
              "<table border=\"1\" class=\"dataframe\">\n",
              "  <thead>\n",
              "    <tr style=\"text-align: right;\">\n",
              "      <th></th>\n",
              "      <th>Method</th>\n",
              "      <th>Train</th>\n",
              "      <th>Test</th>\n",
              "    </tr>\n",
              "  </thead>\n",
              "  <tbody>\n",
              "    <tr>\n",
              "      <th>0</th>\n",
              "      <td>True ATE</td>\n",
              "      <td>-</td>\n",
              "      <td>3.84</td>\n",
              "    </tr>\n",
              "    <tr>\n",
              "      <th>1</th>\n",
              "      <td>PredDiff</td>\n",
              "      <td>3.877388</td>\n",
              "      <td>3.807688</td>\n",
              "    </tr>\n",
              "    <tr>\n",
              "      <th>2</th>\n",
              "      <td>IPW</td>\n",
              "      <td>3.609229</td>\n",
              "      <td>-</td>\n",
              "    </tr>\n",
              "    <tr>\n",
              "      <th>3</th>\n",
              "      <td>Pred-IPW</td>\n",
              "      <td>3.609484</td>\n",
              "      <td>-</td>\n",
              "    </tr>\n",
              "  </tbody>\n",
              "</table>\n",
              "</div>\n",
              "      <button class=\"colab-df-convert\" onclick=\"convertToInteractive('df-f9ee2aed-93bb-4a5c-ba71-f64c93b8f340')\"\n",
              "              title=\"Convert this dataframe to an interactive table.\"\n",
              "              style=\"display:none;\">\n",
              "        \n",
              "  <svg xmlns=\"http://www.w3.org/2000/svg\" height=\"24px\"viewBox=\"0 0 24 24\"\n",
              "       width=\"24px\">\n",
              "    <path d=\"M0 0h24v24H0V0z\" fill=\"none\"/>\n",
              "    <path d=\"M18.56 5.44l.94 2.06.94-2.06 2.06-.94-2.06-.94-.94-2.06-.94 2.06-2.06.94zm-11 1L8.5 8.5l.94-2.06 2.06-.94-2.06-.94L8.5 2.5l-.94 2.06-2.06.94zm10 10l.94 2.06.94-2.06 2.06-.94-2.06-.94-.94-2.06-.94 2.06-2.06.94z\"/><path d=\"M17.41 7.96l-1.37-1.37c-.4-.4-.92-.59-1.43-.59-.52 0-1.04.2-1.43.59L10.3 9.45l-7.72 7.72c-.78.78-.78 2.05 0 2.83L4 21.41c.39.39.9.59 1.41.59.51 0 1.02-.2 1.41-.59l7.78-7.78 2.81-2.81c.8-.78.8-2.07 0-2.86zM5.41 20L4 18.59l7.72-7.72 1.47 1.35L5.41 20z\"/>\n",
              "  </svg>\n",
              "      </button>\n",
              "      \n",
              "  <style>\n",
              "    .colab-df-container {\n",
              "      display:flex;\n",
              "      flex-wrap:wrap;\n",
              "      gap: 12px;\n",
              "    }\n",
              "\n",
              "    .colab-df-convert {\n",
              "      background-color: #E8F0FE;\n",
              "      border: none;\n",
              "      border-radius: 50%;\n",
              "      cursor: pointer;\n",
              "      display: none;\n",
              "      fill: #1967D2;\n",
              "      height: 32px;\n",
              "      padding: 0 0 0 0;\n",
              "      width: 32px;\n",
              "    }\n",
              "\n",
              "    .colab-df-convert:hover {\n",
              "      background-color: #E2EBFA;\n",
              "      box-shadow: 0px 1px 2px rgba(60, 64, 67, 0.3), 0px 1px 3px 1px rgba(60, 64, 67, 0.15);\n",
              "      fill: #174EA6;\n",
              "    }\n",
              "\n",
              "    [theme=dark] .colab-df-convert {\n",
              "      background-color: #3B4455;\n",
              "      fill: #D2E3FC;\n",
              "    }\n",
              "\n",
              "    [theme=dark] .colab-df-convert:hover {\n",
              "      background-color: #434B5C;\n",
              "      box-shadow: 0px 1px 3px 1px rgba(0, 0, 0, 0.15);\n",
              "      filter: drop-shadow(0px 1px 2px rgba(0, 0, 0, 0.3));\n",
              "      fill: #FFFFFF;\n",
              "    }\n",
              "  </style>\n",
              "\n",
              "      <script>\n",
              "        const buttonEl =\n",
              "          document.querySelector('#df-f9ee2aed-93bb-4a5c-ba71-f64c93b8f340 button.colab-df-convert');\n",
              "        buttonEl.style.display =\n",
              "          google.colab.kernel.accessAllowed ? 'block' : 'none';\n",
              "\n",
              "        async function convertToInteractive(key) {\n",
              "          const element = document.querySelector('#df-f9ee2aed-93bb-4a5c-ba71-f64c93b8f340');\n",
              "          const dataTable =\n",
              "            await google.colab.kernel.invokeFunction('convertToInteractive',\n",
              "                                                     [key], {});\n",
              "          if (!dataTable) return;\n",
              "\n",
              "          const docLinkHtml = 'Like what you see? Visit the ' +\n",
              "            '<a target=\"_blank\" href=https://colab.research.google.com/notebooks/data_table.ipynb>data table notebook</a>'\n",
              "            + ' to learn more about interactive tables.';\n",
              "          element.innerHTML = '';\n",
              "          dataTable['output_type'] = 'display_data';\n",
              "          await google.colab.output.renderOutput(dataTable, element);\n",
              "          const docLink = document.createElement('div');\n",
              "          docLink.innerHTML = docLinkHtml;\n",
              "          element.appendChild(docLink);\n",
              "        }\n",
              "      </script>\n",
              "    </div>\n",
              "  </div>\n",
              "  "
            ]
          },
          "metadata": {},
          "execution_count": 54
        }
      ]
    },
    {
      "cell_type": "markdown",
      "source": [
        "With these approaches we are tied to:\n",
        "- average effects (ATEs).\n",
        "- Explaining existing data (training data).\n",
        "- Linear models.\n",
        "\n",
        "What if we want to:\n",
        "- allow for some heterogeneity (CATEs)?\n",
        "- make predictions for previously unseen data points?\n",
        "- use nonlinear models?"
      ],
      "metadata": {
        "id": "GPNToCDwNjGI"
      }
    },
    {
      "cell_type": "markdown",
      "metadata": {
        "id": "eqwQ6RAGPrfQ"
      },
      "source": [
        "## Step 5 - ML perspective"
      ]
    },
    {
      "cell_type": "markdown",
      "metadata": {
        "id": "ZKXEFTm8V5LB"
      },
      "source": [
        "We are going to use the following estimators here:\n",
        "- S-Learner\n",
        "- IPW\n",
        "- T-Learner\n",
        "- Doubly Robust\n",
        "- X-Learner\n",
        "\n",
        "We will use Random Forest regressors and classifiers as plugins/base learners.\n",
        "\n",
        "Goals:\n",
        "- Predict ATEs and CATEs.\n",
        "- Predict for existing and unseen data (train and test respectively)."
      ]
    },
    {
      "cell_type": "markdown",
      "metadata": {
        "id": "ickoIjajWi3V"
      },
      "source": [
        "### S-Learner"
      ]
    },
    {
      "cell_type": "markdown",
      "metadata": {
        "id": "WvFG0eBpv5t_"
      },
      "source": [
        "#### Description"
      ]
    },
    {
      "cell_type": "markdown",
      "metadata": {
        "id": "0nxFxw8Yv8Fj"
      },
      "source": [
        "With random forests we simply model $E[Y|X, T]$, that is, we regress Y on X and T. Once trained, the model predicts potential outcomes $\\hat{y}_t^{(i)}$. Thus, to obtain ITE predictions for each individual, we need to predict both $\\hat{y}_0$ and $\\hat{y}_1$, that is, predict the outcomes for both control and treated settings for each individual.\n",
        "\n",
        "By calculating the difference between the treated and control outcome, we can obtain the effect per given individual. In other words:\n",
        "\n",
        "$$\\widehat{ITE}^{(i)} = \\hat{y}_1^{(i)} - \\hat{y}_0^{(i)}$$"
      ]
    },
    {
      "cell_type": "markdown",
      "metadata": {
        "id": "w6Aj1em1v_Sa"
      },
      "source": [
        "#### Usage"
      ]
    },
    {
      "cell_type": "code",
      "metadata": {
        "id": "r-u0hCF1vhQ2"
      },
      "source": [
        "# Random Forest\n",
        "sl = RandomForestRegressor()\n",
        "\n",
        "# Merge X and t into Xt\n",
        "Xt_train = np.concatenate([X_train, t_train.reshape(-1, 1)], axis=1)\n",
        "sl.fit(Xt_train, y_train)\n",
        "\n",
        "# Predict Y_0 given [X, 0]\n",
        "Xt0_train = np.concatenate([X_train, np.zeros((X_train.shape[0], 1))], axis=1)\n",
        "# Predict Y_1 given [X, 1]\n",
        "Xt1_train = np.concatenate([X_train, np.ones((X_train.shape[0], 1))], axis=1)\n",
        "# CATE = Y_1 - Y_0\n",
        "sl_cate_train = sl.predict(Xt1_train) - sl.predict(Xt0_train)\n",
        "\n",
        "Xt0_test = np.concatenate([X_test, np.zeros((X_test.shape[0], 1))], axis=1)\n",
        "Xt1_test = np.concatenate([X_test, np.ones((X_test.shape[0], 1))], axis=1)\n",
        "sl_cate_test = sl.predict(Xt1_test) - sl.predict(Xt0_test)"
      ],
      "execution_count": 58,
      "outputs": []
    },
    {
      "cell_type": "code",
      "source": [
        "sl_ate_train = np.mean(sl_cate_train)\n",
        "sl_ate_test = np.mean(sl_cate_test)\n",
        "\n",
        "sl_ate = ate_error(sl_cate_test, expected_te)\n",
        "sl_pehe = pehe_error(sl_cate_test, expected_te)\n",
        "\n",
        "print(expected_ate)\n",
        "print(sl_ate_train)\n",
        "print(sl_ate)\n",
        "print(sl_pehe)"
      ],
      "metadata": {
        "colab": {
          "base_uri": "https://localhost:8080/"
        },
        "id": "r9f7yhUpOfEW",
        "outputId": "0b0a5420-eb96-4a46-f027-8ef375366973"
      },
      "execution_count": 72,
      "outputs": [
        {
          "output_type": "stream",
          "name": "stdout",
          "text": [
            "3.84\n",
            "3.6090431938243572\n",
            "0.18120800573437545\n",
            "0.6598899441124626\n"
          ]
        }
      ]
    },
    {
      "cell_type": "markdown",
      "metadata": {
        "id": "towjDjnOIAC1"
      },
      "source": [
        "### IPW"
      ]
    },
    {
      "cell_type": "markdown",
      "metadata": {
        "id": "CZlg6jhhwFF2"
      },
      "source": [
        "#### Description"
      ]
    },
    {
      "cell_type": "markdown",
      "metadata": {
        "id": "NGBRoR2swHi6"
      },
      "source": [
        "This is a similar approach to the previous one, but extends it further with the Inverse Propensity Weighting (IPW). We proceed as follows:\n",
        "\n",
        "1. Use random forest classifier to model unit's probability of receiving the treatment, that is, $P(t_i|x_i)$. Input: X, target: T. Note this is classic binary classification problem. $P(t_i|x_i)$ is called a **propensity score**.\n",
        "2. Use trained classifier to predict propensity scores for each individual. Compute weights per each sample as:\n",
        "\n",
        "$$w_i = \\frac{t_i}{P(t_i|x_i)} + \\frac{1-t_i}{1-P(t_i|x_i)}$$\n",
        "\n",
        "Intuition: Dominant group gets smaller weights. In practice, gives more importance to treated samples.\n",
        "\n",
        "3. Use sample weights in random forest regressor training.\n",
        "4. Proceed with predictions as in the previous section.\n",
        "\n",
        "We can compute the sample weights with the following function:"
      ]
    },
    {
      "cell_type": "code",
      "metadata": {
        "id": "wMTSqYIewYX5"
      },
      "source": [
        "def get_ps_weights(clf, x, t):\n",
        "  ti = np.squeeze(t)\n",
        "  clf.fit(x, ti)\n",
        "  ptx = clf.predict_proba(x).T[1].T + 0.0001\n",
        "  return ti / ptx + ((1.0 - ti) / (1.0 - ptx))"
      ],
      "execution_count": 61,
      "outputs": []
    },
    {
      "cell_type": "markdown",
      "metadata": {
        "id": "zTai68e3wHgb"
      },
      "source": [
        "#### Usage"
      ]
    },
    {
      "cell_type": "code",
      "metadata": {
        "id": "tfguw3FCwmYz"
      },
      "source": [
        "# Get the sample weights\n",
        "ex_rf = RandomForestClassifier()\n",
        "weights = get_ps_weights(ex_rf, X_train, t_train)\n",
        "\n",
        "# Random Forest\n",
        "rf_ipw = RandomForestRegressor()\n",
        "rf_ipw.fit(Xt_train, y_train, sample_weight=weights)\n",
        "\n",
        "ipw_cate_train = rf_ipw.predict(Xt1_train) - rf_ipw.predict(Xt0_train)\n",
        "ipw_cate_test = rf_ipw.predict(Xt1_test) - rf_ipw.predict(Xt0_test)"
      ],
      "execution_count": 62,
      "outputs": []
    },
    {
      "cell_type": "code",
      "source": [
        "rf_ipw_ate_train = np.mean(ipw_cate_train)\n",
        "rf_ipw_ate_test = np.mean(ipw_cate_test)\n",
        "\n",
        "rf_ipw_ate = ate_error(ipw_cate_test, expected_te)\n",
        "rf_ipw_pehe = pehe_error(ipw_cate_test, expected_te)\n",
        "\n",
        "print(expected_ate)\n",
        "print(rf_ipw_ate_train)\n",
        "print(rf_ipw_ate)\n",
        "print(rf_ipw_pehe)"
      ],
      "metadata": {
        "colab": {
          "base_uri": "https://localhost:8080/"
        },
        "id": "OveJ9qFxO7xs",
        "outputId": "64280165-4c49-4e78-cbf5-1a0bd48d8aa4"
      },
      "execution_count": 73,
      "outputs": [
        {
          "output_type": "stream",
          "name": "stdout",
          "text": [
            "3.84\n",
            "3.5951026820473535\n",
            "0.1907003523152211\n",
            "0.7145611000570701\n"
          ]
        }
      ]
    },
    {
      "cell_type": "markdown",
      "source": [
        "### T-Learner"
      ],
      "metadata": {
        "id": "Aee6Ema-pScs"
      }
    },
    {
      "cell_type": "markdown",
      "source": [
        "Similar approach as with PredDiff estimator, but we use Random Forest.\n",
        "\n",
        "Also, instead of manual code, we'll use EconML package."
      ],
      "metadata": {
        "id": "KkIP5ZexpXsY"
      }
    },
    {
      "cell_type": "code",
      "source": [
        "tl = TLearner(models=RandomForestRegressor())\n",
        "\n",
        "tl.fit(y_train, t_train, X=X_train)\n",
        "\n",
        "tl_cate_train = tl.effect(X_train)\n",
        "tl_cate_test = tl.effect(X_test)"
      ],
      "metadata": {
        "id": "Hr_qiRn_pWYi",
        "outputId": "085c6d1f-2ef8-4186-d883-690e2fa6fd07",
        "colab": {
          "base_uri": "https://localhost:8080/"
        }
      },
      "execution_count": 66,
      "outputs": [
        {
          "output_type": "stream",
          "name": "stderr",
          "text": [
            "Function get_feature_names is deprecated; get_feature_names is deprecated in 1.0 and will be removed in 1.2. Please use get_feature_names_out instead.\n"
          ]
        }
      ]
    },
    {
      "cell_type": "code",
      "source": [
        "tl_ate_train = np.mean(tl_cate_train)\n",
        "tl_ate_test = np.mean(tl_cate_test)\n",
        "\n",
        "tl_ate = ate_error(tl_cate_test, expected_te)\n",
        "tl_pehe = pehe_error(tl_cate_test, expected_te)\n",
        "\n",
        "print(expected_ate)\n",
        "print(tl_ate_train)\n",
        "print(tl_ate)\n",
        "print(tl_pehe)"
      ],
      "metadata": {
        "id": "29xTMq3DqDsk",
        "outputId": "9436c0c1-2067-4100-dcfb-f773b7f560b8",
        "colab": {
          "base_uri": "https://localhost:8080/"
        }
      },
      "execution_count": 74,
      "outputs": [
        {
          "output_type": "stream",
          "name": "stdout",
          "text": [
            "3.84\n",
            "3.694216570487408\n",
            "0.2624734645416642\n",
            "0.9357700935520035\n"
          ]
        }
      ]
    },
    {
      "cell_type": "markdown",
      "source": [
        "### Doubly Robust"
      ],
      "metadata": {
        "id": "CMzIjk2VPN_a"
      }
    },
    {
      "cell_type": "markdown",
      "source": [
        "Doubly Robust in EconML targets CATEs, so it's a bit more sophisticated than `standard' DR. More precisely, it's a two-stage model (similar idea to X-Learners). See [EconML docs](https://econml.azurewebsites.net/_autosummary/econml.dr.DRLearner.html#econml.dr.DRLearner) for more information."
      ],
      "metadata": {
        "id": "Ic9FcOk7PSHi"
      }
    },
    {
      "cell_type": "markdown",
      "source": [
        "#### Usage"
      ],
      "metadata": {
        "id": "bZnSj5fDPW2m"
      }
    },
    {
      "cell_type": "code",
      "source": [
        "dr = DRLearner(model_propensity=RandomForestClassifier(), model_regression=RandomForestRegressor(), model_final=RandomForestRegressor(), cv=5)\n",
        "dr.fit(y_train, t_train, X=X_train)\n",
        "\n",
        "dr_cate_train = dr.effect(X_train)\n",
        "dr_cate_test = dr.effect(X_test)"
      ],
      "metadata": {
        "colab": {
          "base_uri": "https://localhost:8080/"
        },
        "id": "UypLclVvPZtk",
        "outputId": "7d37faf6-b580-4bf9-f168-38c0873291b4"
      },
      "execution_count": 68,
      "outputs": [
        {
          "output_type": "stream",
          "name": "stderr",
          "text": [
            "Function get_feature_names is deprecated; get_feature_names is deprecated in 1.0 and will be removed in 1.2. Please use get_feature_names_out instead.\n"
          ]
        }
      ]
    },
    {
      "cell_type": "code",
      "source": [
        "dr_ate_train = np.mean(dr_cate_train)\n",
        "dr_ate_test = np.mean(dr_cate_test)\n",
        "\n",
        "dr_ate = ate_error(dr_cate_test, expected_te)\n",
        "dr_pehe = pehe_error(dr_cate_test, expected_te)\n",
        "\n",
        "print(expected_ate)\n",
        "print(dr_ate_train)\n",
        "print(dr_ate)\n",
        "print(dr_pehe)"
      ],
      "metadata": {
        "colab": {
          "base_uri": "https://localhost:8080/"
        },
        "id": "bgHWeX1wP4Su",
        "outputId": "bc1ac21e-3755-4321-b3f0-7b612c158cf2"
      },
      "execution_count": 75,
      "outputs": [
        {
          "output_type": "stream",
          "name": "stdout",
          "text": [
            "3.84\n",
            "3.7036190741051396\n",
            "0.2367728750134548\n",
            "1.2179993200663373\n"
          ]
        }
      ]
    },
    {
      "cell_type": "markdown",
      "metadata": {
        "id": "7Op8qjQsgn-f"
      },
      "source": [
        "### X-learner"
      ]
    },
    {
      "cell_type": "markdown",
      "metadata": {
        "id": "EgX0f71-voK2"
      },
      "source": [
        "#### Formal description"
      ]
    },
    {
      "cell_type": "markdown",
      "metadata": {
        "id": "j4IDYW7oiShp"
      },
      "source": [
        "A meta-learner implemented via EconML. Uses provided regressors and classifiers to solve smaller sub-problems. Models the effect directly instead of the outcomes, predicting ITEs as a consequence.\n",
        "\n",
        "Originally introduced in [(Künzel et al. 2019)](http://arxiv.org/abs/1706.03461). The modelling process of the X-learner can be divided into three stages.\n",
        "\n",
        "**Stage 1**\n",
        "\n",
        "Use provided regressors to model $\\mathcal{Y}_0$ and $\\mathcal{Y}_1$ separately. More formally, the response functions are:\n",
        "\n",
        "$$\\mu_0(x) = \\mathbb{E}[\\mathcal{Y}_0|X=x]$$\n",
        "$$\\mu_1(x) = \\mathbb{E}[\\mathcal{Y}_1|X=x]$$\n",
        "\n",
        "We denote estimated functions as $\\hat{\\mu}_0$ and $\\hat{\\mu}_1$.\n",
        "\n",
        "**Stage 2**\n",
        "\n",
        "Define imputed treatment effects as:\n",
        "\n",
        "$$\\mathcal{D}_0^{(i)} = \\hat{\\mu}_1(X_0^{(i)}) - \\mathcal{Y}_0^{(i)}$$\n",
        "$$\\mathcal{D}_1^{(i)} = \\mathcal{Y}_1^{(i)} - \\hat{\\mu}_0(X_1^{(i)})$$\n",
        "\n",
        "Use provided regressors to model $\\mathcal{D}_0$ and $\\mathcal{D}_1$ separately. The response functions are formally defined as:\n",
        "\n",
        "$$\\tau_0(x) = \\mathbb{E}[\\mathcal{D}_0|X=x]$$\n",
        "$$\\tau_1(x) = \\mathbb{E}[\\mathcal{D}_1|X=x]$$\n",
        "\n",
        "We denote estimated functions as $\\hat{\\tau}_0$ and $\\hat{\\tau}_1$.\n",
        "\n",
        "**Stage 3**\n",
        "\n",
        "The final treatment effect estimate is a weighted average of the two estimates from Stage 2:\n",
        "\n",
        "$$\\hat{\\tau}(x) = g(x)\\hat{\\tau}_0(x) + (1 - g(x))\\hat{\\tau}_1(x)$$\n",
        "\n",
        "Where $g \\in [0, 1]$ is a weight function. In practice, $g$ can be modelled as a propensity score function $e$, formally written as:\n",
        "\n",
        "$$e(x) = \\mathbb{E}[T|X=x]$$\n",
        "\n",
        "Using a provided classifier, we can obtain an estimate $\\hat{e}$ that can be used in place of $g$. That is:\n",
        "\n",
        "$$\\hat{\\tau}(x) = \\hat{e}(x)\\hat{\\tau}_0(x) + (1 - \\hat{e}(x))\\hat{\\tau}_1(x)$$\n",
        "\n",
        "In summary, we perform the following steps:\n",
        "1. Training (inputs: X, T, Y; outputs: $\\hat{\\tau}_0$, $\\hat{\\tau}_1$, $\\hat{e}$):\n",
        "  1. Model the outcomes with a provided regressor class and obtain estimators $\\hat{\\mu}_0$ and $\\hat{\\mu}_1$.\n",
        "  2. Make predictions $\\hat{\\mu}_1(X_0^{(i)})$ and $\\hat{\\mu}_0(X_1^{(i)})$.\n",
        "  3. Compute imputed treatment effects $\\mathcal{D}_0$ and $\\mathcal{D}_1$.\n",
        "  4. Model the imputed treatment effects with a provided regressor class and obtain estimators $\\hat{\\tau}_0$ and $\\hat{\\tau}_1$.\n",
        "  5. Model the propensity scores with a provided classifier class and obtain an estimator $\\hat{e}$.\n",
        "2. Prediction (inputs: X; outputs: $\\widehat{ITE}$):\n",
        "  1. Use estimator $\\hat{\\tau}$ to obtain individual treatment effect estimates."
      ]
    },
    {
      "cell_type": "markdown",
      "metadata": {
        "id": "MLWZ7k7KiWkc"
      },
      "source": [
        "#### Usage"
      ]
    },
    {
      "cell_type": "markdown",
      "metadata": {
        "id": "60Kh3Cv3wuUa"
      },
      "source": [
        "We continue with random forests here by providing the X-learner with RF regressor and RF classifier as base learners. Note it distinguishes X from T in its input - it is necessary to learn the propensity score estimator. Also, the final prediction does not depend on T! Though it does indirectly by predicting the propensity score internally."
      ]
    },
    {
      "cell_type": "code",
      "metadata": {
        "id": "4IWeKlOOvQfy",
        "colab": {
          "base_uri": "https://localhost:8080/"
        },
        "outputId": "7db72fb8-8c7d-4938-dc7d-779b23d21d36"
      },
      "source": [
        "# X-Learner\n",
        "xl = XLearner(models=RandomForestRegressor(), propensity_model=RandomForestClassifier())\n",
        "xl.fit(y_train, t_train, X=X_train)\n",
        "\n",
        "xl_cate_train = xl.effect(X_train)\n",
        "xl_cate_test = xl.effect(X_test)"
      ],
      "execution_count": 70,
      "outputs": [
        {
          "output_type": "stream",
          "name": "stderr",
          "text": [
            "Function get_feature_names is deprecated; get_feature_names is deprecated in 1.0 and will be removed in 1.2. Please use get_feature_names_out instead.\n"
          ]
        }
      ]
    },
    {
      "cell_type": "code",
      "source": [
        "xl_ate_train = np.mean(xl_cate_train)\n",
        "xl_ate_test = np.mean(xl_cate_test)\n",
        "\n",
        "xl_ate = ate_error(xl_cate_test, expected_te)\n",
        "xl_pehe = pehe_error(xl_cate_test, expected_te)\n",
        "\n",
        "print(expected_ate)\n",
        "print(xl_ate_train)\n",
        "print(xl_ate)\n",
        "print(xl_pehe)"
      ],
      "metadata": {
        "colab": {
          "base_uri": "https://localhost:8080/"
        },
        "id": "P44lJWZpNZlF",
        "outputId": "eafed456-038d-48d6-eef3-e0aa86215152"
      },
      "execution_count": 76,
      "outputs": [
        {
          "output_type": "stream",
          "name": "stdout",
          "text": [
            "3.84\n",
            "3.7021384668255037\n",
            "0.14329018833406826\n",
            "0.527464117632857\n"
          ]
        }
      ]
    },
    {
      "cell_type": "markdown",
      "source": [
        "## Step 6 - evaluation"
      ],
      "metadata": {
        "id": "kSMj5mbtQpE_"
      }
    },
    {
      "cell_type": "markdown",
      "metadata": {
        "id": "CacdEXLFiH9g"
      },
      "source": [
        "We will examine our estimators' performance from different perspectives:\n",
        "- ATE training predictions (classic vs. ML)\n",
        "- ATE and PEHE errors\n",
        "- Visualisations of predicted effects"
      ]
    },
    {
      "cell_type": "markdown",
      "source": [
        "### ATE predictions"
      ],
      "metadata": {
        "id": "3P6OG7V7sJy7"
      }
    },
    {
      "cell_type": "code",
      "source": [
        "results = []\n",
        "results.append(['True ATE', '-', expected_ate])\n",
        "results.append(['PredDiff', pred_diff_train, pred_diff_test])\n",
        "results.append(['IPW', ipw_train, '-'])\n",
        "results.append(['Pred-IPW', pred_ipw_train, '-'])\n",
        "results.append(['SL', sl_ate_train, sl_ate_test])\n",
        "results.append(['IPW (RF)', rf_ipw_ate_train, rf_ipw_ate_test])\n",
        "results.append(['TL', tl_ate_train, tl_ate_test])\n",
        "results.append(['DR', dr_ate_train, dr_ate_test])\n",
        "results.append(['XL', xl_ate_train, xl_ate_test])\n",
        "\n",
        "cols = ['Method', 'Train', 'Test']\n",
        "\n",
        "df = pd.DataFrame(results, columns=cols)\n",
        "df"
      ],
      "metadata": {
        "id": "qdXKkCFJsM3S",
        "outputId": "a3a1b2c3-a85d-45c9-c8a2-1f2bfcffba96",
        "colab": {
          "base_uri": "https://localhost:8080/",
          "height": 332
        }
      },
      "execution_count": 77,
      "outputs": [
        {
          "output_type": "execute_result",
          "data": {
            "text/plain": [
              "     Method     Train      Test\n",
              "0  True ATE         -      3.84\n",
              "1  PredDiff  3.877388  3.807688\n",
              "2       IPW  3.609229         -\n",
              "3  Pred-IPW  3.609484         -\n",
              "4        SL  3.609043  3.658792\n",
              "5  IPW (RF)  3.595103    3.6493\n",
              "6        TL  3.694217  3.577527\n",
              "7        DR  3.703619  3.603227\n",
              "8        XL  3.702138   3.69671"
            ],
            "text/html": [
              "\n",
              "  <div id=\"df-cd0bf2a9-e76a-4d28-b9de-3a1e037f504e\">\n",
              "    <div class=\"colab-df-container\">\n",
              "      <div>\n",
              "<style scoped>\n",
              "    .dataframe tbody tr th:only-of-type {\n",
              "        vertical-align: middle;\n",
              "    }\n",
              "\n",
              "    .dataframe tbody tr th {\n",
              "        vertical-align: top;\n",
              "    }\n",
              "\n",
              "    .dataframe thead th {\n",
              "        text-align: right;\n",
              "    }\n",
              "</style>\n",
              "<table border=\"1\" class=\"dataframe\">\n",
              "  <thead>\n",
              "    <tr style=\"text-align: right;\">\n",
              "      <th></th>\n",
              "      <th>Method</th>\n",
              "      <th>Train</th>\n",
              "      <th>Test</th>\n",
              "    </tr>\n",
              "  </thead>\n",
              "  <tbody>\n",
              "    <tr>\n",
              "      <th>0</th>\n",
              "      <td>True ATE</td>\n",
              "      <td>-</td>\n",
              "      <td>3.84</td>\n",
              "    </tr>\n",
              "    <tr>\n",
              "      <th>1</th>\n",
              "      <td>PredDiff</td>\n",
              "      <td>3.877388</td>\n",
              "      <td>3.807688</td>\n",
              "    </tr>\n",
              "    <tr>\n",
              "      <th>2</th>\n",
              "      <td>IPW</td>\n",
              "      <td>3.609229</td>\n",
              "      <td>-</td>\n",
              "    </tr>\n",
              "    <tr>\n",
              "      <th>3</th>\n",
              "      <td>Pred-IPW</td>\n",
              "      <td>3.609484</td>\n",
              "      <td>-</td>\n",
              "    </tr>\n",
              "    <tr>\n",
              "      <th>4</th>\n",
              "      <td>SL</td>\n",
              "      <td>3.609043</td>\n",
              "      <td>3.658792</td>\n",
              "    </tr>\n",
              "    <tr>\n",
              "      <th>5</th>\n",
              "      <td>IPW (RF)</td>\n",
              "      <td>3.595103</td>\n",
              "      <td>3.6493</td>\n",
              "    </tr>\n",
              "    <tr>\n",
              "      <th>6</th>\n",
              "      <td>TL</td>\n",
              "      <td>3.694217</td>\n",
              "      <td>3.577527</td>\n",
              "    </tr>\n",
              "    <tr>\n",
              "      <th>7</th>\n",
              "      <td>DR</td>\n",
              "      <td>3.703619</td>\n",
              "      <td>3.603227</td>\n",
              "    </tr>\n",
              "    <tr>\n",
              "      <th>8</th>\n",
              "      <td>XL</td>\n",
              "      <td>3.702138</td>\n",
              "      <td>3.69671</td>\n",
              "    </tr>\n",
              "  </tbody>\n",
              "</table>\n",
              "</div>\n",
              "      <button class=\"colab-df-convert\" onclick=\"convertToInteractive('df-cd0bf2a9-e76a-4d28-b9de-3a1e037f504e')\"\n",
              "              title=\"Convert this dataframe to an interactive table.\"\n",
              "              style=\"display:none;\">\n",
              "        \n",
              "  <svg xmlns=\"http://www.w3.org/2000/svg\" height=\"24px\"viewBox=\"0 0 24 24\"\n",
              "       width=\"24px\">\n",
              "    <path d=\"M0 0h24v24H0V0z\" fill=\"none\"/>\n",
              "    <path d=\"M18.56 5.44l.94 2.06.94-2.06 2.06-.94-2.06-.94-.94-2.06-.94 2.06-2.06.94zm-11 1L8.5 8.5l.94-2.06 2.06-.94-2.06-.94L8.5 2.5l-.94 2.06-2.06.94zm10 10l.94 2.06.94-2.06 2.06-.94-2.06-.94-.94-2.06-.94 2.06-2.06.94z\"/><path d=\"M17.41 7.96l-1.37-1.37c-.4-.4-.92-.59-1.43-.59-.52 0-1.04.2-1.43.59L10.3 9.45l-7.72 7.72c-.78.78-.78 2.05 0 2.83L4 21.41c.39.39.9.59 1.41.59.51 0 1.02-.2 1.41-.59l7.78-7.78 2.81-2.81c.8-.78.8-2.07 0-2.86zM5.41 20L4 18.59l7.72-7.72 1.47 1.35L5.41 20z\"/>\n",
              "  </svg>\n",
              "      </button>\n",
              "      \n",
              "  <style>\n",
              "    .colab-df-container {\n",
              "      display:flex;\n",
              "      flex-wrap:wrap;\n",
              "      gap: 12px;\n",
              "    }\n",
              "\n",
              "    .colab-df-convert {\n",
              "      background-color: #E8F0FE;\n",
              "      border: none;\n",
              "      border-radius: 50%;\n",
              "      cursor: pointer;\n",
              "      display: none;\n",
              "      fill: #1967D2;\n",
              "      height: 32px;\n",
              "      padding: 0 0 0 0;\n",
              "      width: 32px;\n",
              "    }\n",
              "\n",
              "    .colab-df-convert:hover {\n",
              "      background-color: #E2EBFA;\n",
              "      box-shadow: 0px 1px 2px rgba(60, 64, 67, 0.3), 0px 1px 3px 1px rgba(60, 64, 67, 0.15);\n",
              "      fill: #174EA6;\n",
              "    }\n",
              "\n",
              "    [theme=dark] .colab-df-convert {\n",
              "      background-color: #3B4455;\n",
              "      fill: #D2E3FC;\n",
              "    }\n",
              "\n",
              "    [theme=dark] .colab-df-convert:hover {\n",
              "      background-color: #434B5C;\n",
              "      box-shadow: 0px 1px 3px 1px rgba(0, 0, 0, 0.15);\n",
              "      filter: drop-shadow(0px 1px 2px rgba(0, 0, 0, 0.3));\n",
              "      fill: #FFFFFF;\n",
              "    }\n",
              "  </style>\n",
              "\n",
              "      <script>\n",
              "        const buttonEl =\n",
              "          document.querySelector('#df-cd0bf2a9-e76a-4d28-b9de-3a1e037f504e button.colab-df-convert');\n",
              "        buttonEl.style.display =\n",
              "          google.colab.kernel.accessAllowed ? 'block' : 'none';\n",
              "\n",
              "        async function convertToInteractive(key) {\n",
              "          const element = document.querySelector('#df-cd0bf2a9-e76a-4d28-b9de-3a1e037f504e');\n",
              "          const dataTable =\n",
              "            await google.colab.kernel.invokeFunction('convertToInteractive',\n",
              "                                                     [key], {});\n",
              "          if (!dataTable) return;\n",
              "\n",
              "          const docLinkHtml = 'Like what you see? Visit the ' +\n",
              "            '<a target=\"_blank\" href=https://colab.research.google.com/notebooks/data_table.ipynb>data table notebook</a>'\n",
              "            + ' to learn more about interactive tables.';\n",
              "          element.innerHTML = '';\n",
              "          dataTable['output_type'] = 'display_data';\n",
              "          await google.colab.output.renderOutput(dataTable, element);\n",
              "          const docLink = document.createElement('div');\n",
              "          docLink.innerHTML = docLinkHtml;\n",
              "          element.appendChild(docLink);\n",
              "        }\n",
              "      </script>\n",
              "    </div>\n",
              "  </div>\n",
              "  "
            ]
          },
          "metadata": {},
          "execution_count": 77
        }
      ]
    },
    {
      "cell_type": "markdown",
      "source": [
        "### Causal metrics"
      ],
      "metadata": {
        "id": "B0U4eCSLRZcP"
      }
    },
    {
      "cell_type": "code",
      "source": [
        "results = []\n",
        "results.append(['SL', sl_ate, sl_pehe])\n",
        "results.append(['IPW', rf_ipw_ate, rf_ipw_pehe])\n",
        "results.append(['TL', tl_ate, tl_pehe])\n",
        "results.append(['DR', dr_ate, dr_pehe])\n",
        "results.append(['XL', xl_ate, xl_pehe])\n",
        "\n",
        "cols = ['Method', 'ATE', 'PEHE']\n",
        "\n",
        "df = pd.DataFrame(results, columns=cols)\n",
        "df"
      ],
      "metadata": {
        "colab": {
          "base_uri": "https://localhost:8080/",
          "height": 206
        },
        "id": "Qnit-DuDQqmA",
        "outputId": "88da9505-4953-4127-d2ea-8ad792faac55"
      },
      "execution_count": 78,
      "outputs": [
        {
          "output_type": "execute_result",
          "data": {
            "text/plain": [
              "  Method       ATE      PEHE\n",
              "0     SL  0.181208  0.659890\n",
              "1    IPW  0.190700  0.714561\n",
              "2     TL  0.262473  0.935770\n",
              "3     DR  0.236773  1.217999\n",
              "4     XL  0.143290  0.527464"
            ],
            "text/html": [
              "\n",
              "  <div id=\"df-115cbd4c-583b-4a00-be4d-2abcef07b4a4\">\n",
              "    <div class=\"colab-df-container\">\n",
              "      <div>\n",
              "<style scoped>\n",
              "    .dataframe tbody tr th:only-of-type {\n",
              "        vertical-align: middle;\n",
              "    }\n",
              "\n",
              "    .dataframe tbody tr th {\n",
              "        vertical-align: top;\n",
              "    }\n",
              "\n",
              "    .dataframe thead th {\n",
              "        text-align: right;\n",
              "    }\n",
              "</style>\n",
              "<table border=\"1\" class=\"dataframe\">\n",
              "  <thead>\n",
              "    <tr style=\"text-align: right;\">\n",
              "      <th></th>\n",
              "      <th>Method</th>\n",
              "      <th>ATE</th>\n",
              "      <th>PEHE</th>\n",
              "    </tr>\n",
              "  </thead>\n",
              "  <tbody>\n",
              "    <tr>\n",
              "      <th>0</th>\n",
              "      <td>SL</td>\n",
              "      <td>0.181208</td>\n",
              "      <td>0.659890</td>\n",
              "    </tr>\n",
              "    <tr>\n",
              "      <th>1</th>\n",
              "      <td>IPW</td>\n",
              "      <td>0.190700</td>\n",
              "      <td>0.714561</td>\n",
              "    </tr>\n",
              "    <tr>\n",
              "      <th>2</th>\n",
              "      <td>TL</td>\n",
              "      <td>0.262473</td>\n",
              "      <td>0.935770</td>\n",
              "    </tr>\n",
              "    <tr>\n",
              "      <th>3</th>\n",
              "      <td>DR</td>\n",
              "      <td>0.236773</td>\n",
              "      <td>1.217999</td>\n",
              "    </tr>\n",
              "    <tr>\n",
              "      <th>4</th>\n",
              "      <td>XL</td>\n",
              "      <td>0.143290</td>\n",
              "      <td>0.527464</td>\n",
              "    </tr>\n",
              "  </tbody>\n",
              "</table>\n",
              "</div>\n",
              "      <button class=\"colab-df-convert\" onclick=\"convertToInteractive('df-115cbd4c-583b-4a00-be4d-2abcef07b4a4')\"\n",
              "              title=\"Convert this dataframe to an interactive table.\"\n",
              "              style=\"display:none;\">\n",
              "        \n",
              "  <svg xmlns=\"http://www.w3.org/2000/svg\" height=\"24px\"viewBox=\"0 0 24 24\"\n",
              "       width=\"24px\">\n",
              "    <path d=\"M0 0h24v24H0V0z\" fill=\"none\"/>\n",
              "    <path d=\"M18.56 5.44l.94 2.06.94-2.06 2.06-.94-2.06-.94-.94-2.06-.94 2.06-2.06.94zm-11 1L8.5 8.5l.94-2.06 2.06-.94-2.06-.94L8.5 2.5l-.94 2.06-2.06.94zm10 10l.94 2.06.94-2.06 2.06-.94-2.06-.94-.94-2.06-.94 2.06-2.06.94z\"/><path d=\"M17.41 7.96l-1.37-1.37c-.4-.4-.92-.59-1.43-.59-.52 0-1.04.2-1.43.59L10.3 9.45l-7.72 7.72c-.78.78-.78 2.05 0 2.83L4 21.41c.39.39.9.59 1.41.59.51 0 1.02-.2 1.41-.59l7.78-7.78 2.81-2.81c.8-.78.8-2.07 0-2.86zM5.41 20L4 18.59l7.72-7.72 1.47 1.35L5.41 20z\"/>\n",
              "  </svg>\n",
              "      </button>\n",
              "      \n",
              "  <style>\n",
              "    .colab-df-container {\n",
              "      display:flex;\n",
              "      flex-wrap:wrap;\n",
              "      gap: 12px;\n",
              "    }\n",
              "\n",
              "    .colab-df-convert {\n",
              "      background-color: #E8F0FE;\n",
              "      border: none;\n",
              "      border-radius: 50%;\n",
              "      cursor: pointer;\n",
              "      display: none;\n",
              "      fill: #1967D2;\n",
              "      height: 32px;\n",
              "      padding: 0 0 0 0;\n",
              "      width: 32px;\n",
              "    }\n",
              "\n",
              "    .colab-df-convert:hover {\n",
              "      background-color: #E2EBFA;\n",
              "      box-shadow: 0px 1px 2px rgba(60, 64, 67, 0.3), 0px 1px 3px 1px rgba(60, 64, 67, 0.15);\n",
              "      fill: #174EA6;\n",
              "    }\n",
              "\n",
              "    [theme=dark] .colab-df-convert {\n",
              "      background-color: #3B4455;\n",
              "      fill: #D2E3FC;\n",
              "    }\n",
              "\n",
              "    [theme=dark] .colab-df-convert:hover {\n",
              "      background-color: #434B5C;\n",
              "      box-shadow: 0px 1px 3px 1px rgba(0, 0, 0, 0.15);\n",
              "      filter: drop-shadow(0px 1px 2px rgba(0, 0, 0, 0.3));\n",
              "      fill: #FFFFFF;\n",
              "    }\n",
              "  </style>\n",
              "\n",
              "      <script>\n",
              "        const buttonEl =\n",
              "          document.querySelector('#df-115cbd4c-583b-4a00-be4d-2abcef07b4a4 button.colab-df-convert');\n",
              "        buttonEl.style.display =\n",
              "          google.colab.kernel.accessAllowed ? 'block' : 'none';\n",
              "\n",
              "        async function convertToInteractive(key) {\n",
              "          const element = document.querySelector('#df-115cbd4c-583b-4a00-be4d-2abcef07b4a4');\n",
              "          const dataTable =\n",
              "            await google.colab.kernel.invokeFunction('convertToInteractive',\n",
              "                                                     [key], {});\n",
              "          if (!dataTable) return;\n",
              "\n",
              "          const docLinkHtml = 'Like what you see? Visit the ' +\n",
              "            '<a target=\"_blank\" href=https://colab.research.google.com/notebooks/data_table.ipynb>data table notebook</a>'\n",
              "            + ' to learn more about interactive tables.';\n",
              "          element.innerHTML = '';\n",
              "          dataTable['output_type'] = 'display_data';\n",
              "          await google.colab.output.renderOutput(dataTable, element);\n",
              "          const docLink = document.createElement('div');\n",
              "          docLink.innerHTML = docLinkHtml;\n",
              "          element.appendChild(docLink);\n",
              "        }\n",
              "      </script>\n",
              "    </div>\n",
              "  </div>\n",
              "  "
            ]
          },
          "metadata": {},
          "execution_count": 78
        }
      ]
    },
    {
      "cell_type": "markdown",
      "metadata": {
        "id": "1s1ToJZljU7M"
      },
      "source": [
        "### Visual comparisons"
      ]
    },
    {
      "cell_type": "code",
      "source": [
        "id = 1\n",
        "\n",
        "plt.figure(figsize=(7, 5))\n",
        "plt.plot(X_test[:, id], expected_te, color='black', ls='--', label='Baseline')\n",
        "plt.scatter(X_test[:, id], sl_cate_test, label=\"SL\")\n",
        "plt.scatter(X_test[:, id], ipw_cate_test, label=\"IPW\")\n",
        "plt.scatter(X_test[:, id], tl_cate_test, label=\"TL\")\n",
        "plt.scatter(X_test[:, id], dr_cate_test, label=\"DR\")\n",
        "plt.scatter(X_test[:, id], xl_cate_test, label=\"XL\")\n",
        "plt.xlabel(f'$x_{id}$')\n",
        "plt.ylabel('Treatment Effect')\n",
        "plt.legend()\n",
        "plt.show()"
      ],
      "metadata": {
        "colab": {
          "base_uri": "https://localhost:8080/",
          "height": 336
        },
        "id": "1Oup4_3ASIhI",
        "outputId": "e8360ff8-1101-4df8-e403-6ab3689d81b2"
      },
      "execution_count": 80,
      "outputs": [
        {
          "output_type": "display_data",
          "data": {
            "text/plain": [
              "<Figure size 504x360 with 1 Axes>"
            ],
            "image/png": "[encoded data removed]"
          },
          "metadata": {
            "needs_background": "light"
          }
        }
      ]
    },
    {
      "cell_type": "code",
      "source": [
        "plt.violinplot([np.abs(sl_cate_test - expected_te), \n",
        "                np.abs(ipw_cate_test - expected_te),\n",
        "                np.abs(tl_cate_test - expected_te),\n",
        "                np.abs(dr_cate_test - expected_te),\n",
        "                np.abs(xl_cate_test - expected_te)\n",
        "               ], showmeans=True)\n",
        "plt.ylabel(\"Bias distribution\")\n",
        "plt.xticks([1, 2, 3, 4, 5, 6], ['SL', 'IPW', 'TL', 'DR', 'XL'])\n",
        "plt.show()"
      ],
      "metadata": {
        "colab": {
          "base_uri": "https://localhost:8080/",
          "height": 265
        },
        "id": "KWcieCWtS3p-",
        "outputId": "2287b4a1-e211-43c7-e66f-1697f474d82e"
      },
      "execution_count": 81,
      "outputs": [
        {
          "output_type": "display_data",
          "data": {
            "text/plain": [
              "<Figure size 432x288 with 1 Axes>"
            ],
            "image/png": "[encoded data removed]"
          },
          "metadata": {
            "needs_background": "light"
          }
        }
      ]
    },
    {
      "cell_type": "markdown",
      "source": [
        "## (optional) Hyperparameter tuning?"
      ],
      "metadata": {
        "id": "pN1D9H1sUBM5"
      }
    },
    {
      "cell_type": "code",
      "source": [],
      "metadata": {
        "id": "tt2gYWc1T5LR"
      },
      "execution_count": null,
      "outputs": []
    }
  ]
}