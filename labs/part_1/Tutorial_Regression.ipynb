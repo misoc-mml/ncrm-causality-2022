{
  "nbformat": 4,
  "nbformat_minor": 0,
  "metadata": {
    "colab": {
      "name": "Tutorial Regression.ipynb",
      "provenance": [],
      "collapsed_sections": [
        "jB-zAUUWz_Cj",
        "JXlMeeHj1oSO",
        "X9mP-wnM2h3m",
        "ljP4_G5yVn8P"
      ],
      "authorship_tag": "ABX9TyP+eTNzfIYvbug+QZ1vXyuK",
      "include_colab_link": true
    },
    "kernelspec": {
      "name": "python3",
      "display_name": "Python 3"
    },
    "language_info": {
      "name": "python"
    }
  },
  "cells": [
    {
      "cell_type": "markdown",
      "metadata": {
        "id": "view-in-github",
        "colab_type": "text"
      },
      "source": [
        "<a href=\"https://colab.research.google.com/github/misoc-mml/ncrm-causality-2022/blob/main/labs/part_1/Tutorial_Regression.ipynb\" target=\"_parent\"><img src=\"https://colab.research.google.com/assets/colab-badge.svg\" alt=\"Open In Colab\"/></a>"
      ]
    },
    {
      "cell_type": "markdown",
      "metadata": {
        "id": "MkhxK_TUwbny"
      },
      "source": [
        "# Regression - tutorial\n",
        "\n",
        "This is a guided example that involves a regression problem - [abalone](https://archive.ics.uci.edu/ml/datasets/abalone) dataset.\n",
        "\n",
        "## The plan\n",
        "1. Import necessary packages.\n",
        "2. Load and explore the dataset.\n",
        "3. Perform data pre-processing (transformations, scaling, splitting).\n",
        "4. Train and evaluate the models.\n",
        "5. (optional) Hyperparameter optimisation."
      ]
    },
    {
      "cell_type": "markdown",
      "metadata": {
        "id": "jB-zAUUWz_Cj"
      },
      "source": [
        "## Step 1 - packages"
      ]
    },
    {
      "cell_type": "code",
      "metadata": {
        "id": "WrTw6jFyIjQh"
      },
      "source": [
        "import pandas as pd\n",
        "import numpy as np\n",
        "import matplotlib.pyplot as plt\n",
        "import math\n",
        "\n",
        "from sklearn.linear_model import LinearRegression\n",
        "from sklearn.tree import DecisionTreeRegressor\n",
        "from sklearn.ensemble import RandomForestRegressor\n",
        "from sklearn.dummy import DummyRegressor\n",
        "\n",
        "from sklearn.model_selection import train_test_split, cross_val_score, GridSearchCV\n",
        "from sklearn.metrics import mean_squared_error\n",
        "from sklearn.preprocessing import MinMaxScaler"
      ],
      "execution_count": 1,
      "outputs": []
    },
    {
      "cell_type": "code",
      "source": [
        "def _trim_axs(axs, N):\n",
        "    axs = axs.flat\n",
        "    for ax in axs[N:]:\n",
        "        ax.remove()\n",
        "    return axs[:N]\n",
        "\n",
        "def plot_dist(data, columns=None, bins=10, size=(12, 8)):\n",
        "    if columns: # Let's trust the lengths match.\n",
        "        col_names = columns\n",
        "    elif isinstance(data, pd.DataFrame):\n",
        "        col_names = list(data.columns)\n",
        "    else: # If not DataFrame, assume it's numpy array.\n",
        "        col_names = [f'var {i+1}' for i in range(data.shape[1])]\n",
        "\n",
        "    if isinstance(data, pd.DataFrame):\n",
        "        data = data.to_numpy()\n",
        "\n",
        "    sq = math.sqrt(data.shape[1])\n",
        "    d_ceil = math.ceil(sq)\n",
        "    d_floor = math.floor(sq)\n",
        "\n",
        "    if (d_ceil * d_floor) >= data.shape[1]:\n",
        "        n_rows = d_floor\n",
        "        n_cols = d_ceil\n",
        "    else:\n",
        "        n_rows = n_cols = d_ceil\n",
        "\n",
        "    fig, axs = plt.subplots(n_rows, n_cols, figsize=size)\n",
        "\n",
        "    axs = _trim_axs(axs, data.shape[1])\n",
        "\n",
        "    for i, ax in enumerate(axs):\n",
        "        ax.set_ylabel('Freq')\n",
        "        ax.set_xlabel(col_names[i])\n",
        "        ax.hist(data[:, i], bins=bins)\n",
        "    \n",
        "    fig.tight_layout()\n",
        "    plt.show()"
      ],
      "metadata": {
        "id": "Sk41_4r_cfgv"
      },
      "execution_count": 2,
      "outputs": []
    },
    {
      "cell_type": "markdown",
      "metadata": {
        "id": "TZNEARHnyeOe"
      },
      "source": [
        "## Step 2 - data"
      ]
    },
    {
      "cell_type": "markdown",
      "metadata": {
        "id": "-n7sXQ3L5gj7"
      },
      "source": [
        "More information about the covariates:\n",
        "\n",
        "| Name           | Data Type  | Measurement Unit | Description                 |\n",
        "|----------------|------------|------------------|-----------------------------|\n",
        "| Sex            | nominal    | -                | M, F, and I (infant)        |\n",
        "| Length         | continuous | mm               | longest shell measurement   |\n",
        "| Diameter       | continuous | mm               | perpendicular to length     |\n",
        "| Height         | continuous | mm               | with meat in shell          |\n",
        "| Whole weight   | continuous | grams            | whole abalone               |\n",
        "| Shucked weight | continuous | grams            | weight of meat              |\n",
        "| Viscera weight | continuous | grams            | gut weight (after bleeding) |\n",
        "| Shell weight   | continuous | grams            | after being dried           |\n",
        "| Rings          | integer    | -                | +1.5 gives the age in years |"
      ]
    },
    {
      "cell_type": "code",
      "metadata": {
        "id": "hgP5KHl7HmJL"
      },
      "source": [
        "df_data = pd.read_csv('https://raw.githubusercontent.com/misoc-mml/ncrm-causality-2022/main/labs/part_1/data/abalone.csv')"
      ],
      "execution_count": 3,
      "outputs": []
    },
    {
      "cell_type": "code",
      "metadata": {
        "colab": {
          "base_uri": "https://localhost:8080/",
          "height": 206
        },
        "id": "bv2I8RnbH2j9",
        "outputId": "7f96e188-3d01-4f64-c7c0-aa3d3144f63d"
      },
      "source": [
        "df_data.head()"
      ],
      "execution_count": 4,
      "outputs": [
        {
          "output_type": "execute_result",
          "data": {
            "text/plain": [
              "   length  diameter  height  whole_weight  shucked_weight  viscera_weight  \\\n",
              "0   0.455     0.365   0.095        0.5140          0.2245          0.1010   \n",
              "1   0.350     0.265   0.090        0.2255          0.0995          0.0485   \n",
              "2   0.530     0.420   0.135        0.6770          0.2565          0.1415   \n",
              "3   0.440     0.365   0.125        0.5160          0.2155          0.1140   \n",
              "4   0.330     0.255   0.080        0.2050          0.0895          0.0395   \n",
              "\n",
              "   shell_weight  rings  sex_I  sex_M  \n",
              "0         0.150     15      0      1  \n",
              "1         0.070      7      0      1  \n",
              "2         0.210      9      0      0  \n",
              "3         0.155     10      0      1  \n",
              "4         0.055      7      1      0  "
            ],
            "text/html": [
              "\n",
              "  <div id=\"df-5f563d68-32dd-45e6-8e8c-3c114f9d1d56\">\n",
              "    <div class=\"colab-df-container\">\n",
              "      <div>\n",
              "<style scoped>\n",
              "    .dataframe tbody tr th:only-of-type {\n",
              "        vertical-align: middle;\n",
              "    }\n",
              "\n",
              "    .dataframe tbody tr th {\n",
              "        vertical-align: top;\n",
              "    }\n",
              "\n",
              "    .dataframe thead th {\n",
              "        text-align: right;\n",
              "    }\n",
              "</style>\n",
              "<table border=\"1\" class=\"dataframe\">\n",
              "  <thead>\n",
              "    <tr style=\"text-align: right;\">\n",
              "      <th></th>\n",
              "      <th>length</th>\n",
              "      <th>diameter</th>\n",
              "      <th>height</th>\n",
              "      <th>whole_weight</th>\n",
              "      <th>shucked_weight</th>\n",
              "      <th>viscera_weight</th>\n",
              "      <th>shell_weight</th>\n",
              "      <th>rings</th>\n",
              "      <th>sex_I</th>\n",
              "      <th>sex_M</th>\n",
              "    </tr>\n",
              "  </thead>\n",
              "  <tbody>\n",
              "    <tr>\n",
              "      <th>0</th>\n",
              "      <td>0.455</td>\n",
              "      <td>0.365</td>\n",
              "      <td>0.095</td>\n",
              "      <td>0.5140</td>\n",
              "      <td>0.2245</td>\n",
              "      <td>0.1010</td>\n",
              "      <td>0.150</td>\n",
              "      <td>15</td>\n",
              "      <td>0</td>\n",
              "      <td>1</td>\n",
              "    </tr>\n",
              "    <tr>\n",
              "      <th>1</th>\n",
              "      <td>0.350</td>\n",
              "      <td>0.265</td>\n",
              "      <td>0.090</td>\n",
              "      <td>0.2255</td>\n",
              "      <td>0.0995</td>\n",
              "      <td>0.0485</td>\n",
              "      <td>0.070</td>\n",
              "      <td>7</td>\n",
              "      <td>0</td>\n",
              "      <td>1</td>\n",
              "    </tr>\n",
              "    <tr>\n",
              "      <th>2</th>\n",
              "      <td>0.530</td>\n",
              "      <td>0.420</td>\n",
              "      <td>0.135</td>\n",
              "      <td>0.6770</td>\n",
              "      <td>0.2565</td>\n",
              "      <td>0.1415</td>\n",
              "      <td>0.210</td>\n",
              "      <td>9</td>\n",
              "      <td>0</td>\n",
              "      <td>0</td>\n",
              "    </tr>\n",
              "    <tr>\n",
              "      <th>3</th>\n",
              "      <td>0.440</td>\n",
              "      <td>0.365</td>\n",
              "      <td>0.125</td>\n",
              "      <td>0.5160</td>\n",
              "      <td>0.2155</td>\n",
              "      <td>0.1140</td>\n",
              "      <td>0.155</td>\n",
              "      <td>10</td>\n",
              "      <td>0</td>\n",
              "      <td>1</td>\n",
              "    </tr>\n",
              "    <tr>\n",
              "      <th>4</th>\n",
              "      <td>0.330</td>\n",
              "      <td>0.255</td>\n",
              "      <td>0.080</td>\n",
              "      <td>0.2050</td>\n",
              "      <td>0.0895</td>\n",
              "      <td>0.0395</td>\n",
              "      <td>0.055</td>\n",
              "      <td>7</td>\n",
              "      <td>1</td>\n",
              "      <td>0</td>\n",
              "    </tr>\n",
              "  </tbody>\n",
              "</table>\n",
              "</div>\n",
              "      <button class=\"colab-df-convert\" onclick=\"convertToInteractive('df-5f563d68-32dd-45e6-8e8c-3c114f9d1d56')\"\n",
              "              title=\"Convert this dataframe to an interactive table.\"\n",
              "              style=\"display:none;\">\n",
              "        \n",
              "  <svg xmlns=\"http://www.w3.org/2000/svg\" height=\"24px\"viewBox=\"0 0 24 24\"\n",
              "       width=\"24px\">\n",
              "    <path d=\"M0 0h24v24H0V0z\" fill=\"none\"/>\n",
              "    <path d=\"M18.56 5.44l.94 2.06.94-2.06 2.06-.94-2.06-.94-.94-2.06-.94 2.06-2.06.94zm-11 1L8.5 8.5l.94-2.06 2.06-.94-2.06-.94L8.5 2.5l-.94 2.06-2.06.94zm10 10l.94 2.06.94-2.06 2.06-.94-2.06-.94-.94-2.06-.94 2.06-2.06.94z\"/><path d=\"M17.41 7.96l-1.37-1.37c-.4-.4-.92-.59-1.43-.59-.52 0-1.04.2-1.43.59L10.3 9.45l-7.72 7.72c-.78.78-.78 2.05 0 2.83L4 21.41c.39.39.9.59 1.41.59.51 0 1.02-.2 1.41-.59l7.78-7.78 2.81-2.81c.8-.78.8-2.07 0-2.86zM5.41 20L4 18.59l7.72-7.72 1.47 1.35L5.41 20z\"/>\n",
              "  </svg>\n",
              "      </button>\n",
              "      \n",
              "  <style>\n",
              "    .colab-df-container {\n",
              "      display:flex;\n",
              "      flex-wrap:wrap;\n",
              "      gap: 12px;\n",
              "    }\n",
              "\n",
              "    .colab-df-convert {\n",
              "      background-color: #E8F0FE;\n",
              "      border: none;\n",
              "      border-radius: 50%;\n",
              "      cursor: pointer;\n",
              "      display: none;\n",
              "      fill: #1967D2;\n",
              "      height: 32px;\n",
              "      padding: 0 0 0 0;\n",
              "      width: 32px;\n",
              "    }\n",
              "\n",
              "    .colab-df-convert:hover {\n",
              "      background-color: #E2EBFA;\n",
              "      box-shadow: 0px 1px 2px rgba(60, 64, 67, 0.3), 0px 1px 3px 1px rgba(60, 64, 67, 0.15);\n",
              "      fill: #174EA6;\n",
              "    }\n",
              "\n",
              "    [theme=dark] .colab-df-convert {\n",
              "      background-color: #3B4455;\n",
              "      fill: #D2E3FC;\n",
              "    }\n",
              "\n",
              "    [theme=dark] .colab-df-convert:hover {\n",
              "      background-color: #434B5C;\n",
              "      box-shadow: 0px 1px 3px 1px rgba(0, 0, 0, 0.15);\n",
              "      filter: drop-shadow(0px 1px 2px rgba(0, 0, 0, 0.3));\n",
              "      fill: #FFFFFF;\n",
              "    }\n",
              "  </style>\n",
              "\n",
              "      <script>\n",
              "        const buttonEl =\n",
              "          document.querySelector('#df-5f563d68-32dd-45e6-8e8c-3c114f9d1d56 button.colab-df-convert');\n",
              "        buttonEl.style.display =\n",
              "          google.colab.kernel.accessAllowed ? 'block' : 'none';\n",
              "\n",
              "        async function convertToInteractive(key) {\n",
              "          const element = document.querySelector('#df-5f563d68-32dd-45e6-8e8c-3c114f9d1d56');\n",
              "          const dataTable =\n",
              "            await google.colab.kernel.invokeFunction('convertToInteractive',\n",
              "                                                     [key], {});\n",
              "          if (!dataTable) return;\n",
              "\n",
              "          const docLinkHtml = 'Like what you see? Visit the ' +\n",
              "            '<a target=\"_blank\" href=https://colab.research.google.com/notebooks/data_table.ipynb>data table notebook</a>'\n",
              "            + ' to learn more about interactive tables.';\n",
              "          element.innerHTML = '';\n",
              "          dataTable['output_type'] = 'display_data';\n",
              "          await google.colab.output.renderOutput(dataTable, element);\n",
              "          const docLink = document.createElement('div');\n",
              "          docLink.innerHTML = docLinkHtml;\n",
              "          element.appendChild(docLink);\n",
              "        }\n",
              "      </script>\n",
              "    </div>\n",
              "  </div>\n",
              "  "
            ]
          },
          "metadata": {},
          "execution_count": 4
        }
      ]
    },
    {
      "cell_type": "code",
      "metadata": {
        "colab": {
          "base_uri": "https://localhost:8080/",
          "height": 585
        },
        "id": "rK2A6hoHJwIA",
        "outputId": "cc396506-82a0-4976-e9cf-5895abcd84bd"
      },
      "source": [
        "plot_dist(df_data, bins=20)"
      ],
      "execution_count": 6,
      "outputs": [
        {
          "output_type": "display_data",
          "data": {
            "text/plain": [
              "<Figure size 864x576 with 10 Axes>"
            ],
            "image/png": "[encoded data removed]"
          },
          "metadata": {
            "needs_background": "light"
          }
        }
      ]
    },
    {
      "cell_type": "markdown",
      "metadata": {
        "id": "JXlMeeHj1oSO"
      },
      "source": [
        "## Step 3 - data pre-processing"
      ]
    },
    {
      "cell_type": "markdown",
      "metadata": {
        "id": "cKVTC4T65pcW"
      },
      "source": [
        "1. Separate background covariates (X) from the target (y).\n",
        "2. Split into training and testing data.\n",
        "3. Scale the data."
      ]
    },
    {
      "cell_type": "code",
      "metadata": {
        "id": "RiLlctTuPmAE"
      },
      "source": [
        "X = df_data.drop(columns=['rings']).to_numpy()\n",
        "y = df_data['rings'].to_numpy()"
      ],
      "execution_count": null,
      "outputs": []
    },
    {
      "cell_type": "code",
      "metadata": {
        "colab": {
          "base_uri": "https://localhost:8080/"
        },
        "id": "9Fi4Y7AkP1JZ",
        "outputId": "38f2fb4e-2a4f-4638-cf00-9bb5353f521e"
      },
      "source": [
        "print(X.shape)\n",
        "print(y.shape)"
      ],
      "execution_count": null,
      "outputs": [
        {
          "output_type": "stream",
          "name": "stdout",
          "text": [
            "(4177, 9)\n",
            "(4177,)\n"
          ]
        }
      ]
    },
    {
      "cell_type": "code",
      "metadata": {
        "colab": {
          "base_uri": "https://localhost:8080/"
        },
        "id": "7RWgTKqTQWXy",
        "outputId": "b7cf863a-aab6-4112-c67c-53b2c7ab1466"
      },
      "source": [
        "X_train, X_test, y_train, y_test = train_test_split(X, y, test_size=0.2)\n",
        "\n",
        "scaler_x = MinMaxScaler()\n",
        "\n",
        "scaler_x.fit(X_train)\n",
        "X_train = scaler_x.transform(X_train)\n",
        "\n",
        "X_test = scaler_x.transform(X_test)\n",
        "\n",
        "print(X_train.shape)\n",
        "print(y_train.shape)\n",
        "print(X_test.shape)\n",
        "print(y_test.shape)"
      ],
      "execution_count": null,
      "outputs": [
        {
          "output_type": "stream",
          "name": "stdout",
          "text": [
            "(3341, 9)\n",
            "(3341,)\n",
            "(836, 9)\n",
            "(836,)\n"
          ]
        }
      ]
    },
    {
      "cell_type": "markdown",
      "metadata": {
        "id": "X9mP-wnM2h3m"
      },
      "source": [
        "## Step 4 - train the models"
      ]
    },
    {
      "cell_type": "markdown",
      "metadata": {
        "id": "wRJGWntz5tyW"
      },
      "source": [
        "1. Dummy model (sanity check).\n",
        "2. Linear regression.\n",
        "3. Decision tree.\n",
        "4. Random forest.\n",
        "\n",
        "For each of the above, we do the following:\n",
        "1. Fit the model on the training data (X and y).\n",
        "2. Make predictions for the test data (X).\n",
        "3. Compare obtained predictions to the ground truth (y).\n",
        "\n",
        "We will use the Mean Squared Error (MSE) metric to evaluate our models' performance.\n",
        "\n",
        "$$MSE = \\frac{1}{n} \\sum \\limits_{i=1}^{n}(y_i - \\hat{y}_i)^2$$"
      ]
    },
    {
      "cell_type": "code",
      "metadata": {
        "colab": {
          "base_uri": "https://localhost:8080/"
        },
        "id": "G6xNAJDWSawh",
        "outputId": "28165c1d-2fef-4515-fe3f-b62dc3cc8320"
      },
      "source": [
        "dr = DummyRegressor()\n",
        "dr.fit(X_train, y_train)\n",
        "\n",
        "y_pred_test = dr.predict(X_test)\n",
        "\n",
        "dr_mse_test = mean_squared_error(y_test, y_pred_test)\n",
        "\n",
        "print(dr_mse_test)"
      ],
      "execution_count": null,
      "outputs": [
        {
          "output_type": "stream",
          "name": "stdout",
          "text": [
            "10.034875989137802\n"
          ]
        }
      ]
    },
    {
      "cell_type": "code",
      "metadata": {
        "colab": {
          "base_uri": "https://localhost:8080/"
        },
        "id": "5ChjK4HCVMbf",
        "outputId": "bd0d826a-a4de-4c16-cbd2-945c8bba2467"
      },
      "source": [
        "lr = LinearRegression()\n",
        "lr.fit(X_train, y_train)\n",
        "\n",
        "y_pred_test = lr.predict(X_test)\n",
        "\n",
        "lr_mse_test = mean_squared_error(y_test, y_pred_test)\n",
        "\n",
        "print(lr_mse_test)"
      ],
      "execution_count": null,
      "outputs": [
        {
          "output_type": "stream",
          "name": "stdout",
          "text": [
            "4.652027364007254\n"
          ]
        }
      ]
    },
    {
      "cell_type": "code",
      "metadata": {
        "colab": {
          "base_uri": "https://localhost:8080/"
        },
        "id": "p7ndqhrvU_vy",
        "outputId": "971f2968-4ca8-435a-beab-ae771ba2112c"
      },
      "source": [
        "dt = DecisionTreeRegressor(max_depth=5)\n",
        "dt.fit(X_train, y_train)\n",
        "\n",
        "y_pred_test = dt.predict(X_test)\n",
        "\n",
        "dt_mse_test = mean_squared_error(y_test, y_pred_test)\n",
        "\n",
        "print(dt_mse_test)"
      ],
      "execution_count": null,
      "outputs": [
        {
          "output_type": "stream",
          "name": "stdout",
          "text": [
            "5.3204004013564115\n"
          ]
        }
      ]
    },
    {
      "cell_type": "code",
      "metadata": {
        "colab": {
          "base_uri": "https://localhost:8080/"
        },
        "id": "ywD3Ib7PVbm2",
        "outputId": "c4fbceb8-5233-4792-d90d-83ceafaa46b0"
      },
      "source": [
        "rf = RandomForestRegressor(max_depth=5)\n",
        "rf.fit(X_train, y_train.flatten())\n",
        "\n",
        "y_pred_test = rf.predict(X_test)\n",
        "\n",
        "rf_mse_test = mean_squared_error(y_test, y_pred_test)\n",
        "\n",
        "print(rf_mse_test)"
      ],
      "execution_count": null,
      "outputs": [
        {
          "output_type": "stream",
          "name": "stdout",
          "text": [
            "4.889626851025618\n"
          ]
        }
      ]
    },
    {
      "cell_type": "markdown",
      "metadata": {
        "id": "6-QVccW73xyi"
      },
      "source": [
        "Compare all obtained results to each other"
      ]
    },
    {
      "cell_type": "code",
      "metadata": {
        "colab": {
          "base_uri": "https://localhost:8080/"
        },
        "id": "b4jE1Zfb3w5v",
        "outputId": "ecd87795-05fe-4039-857c-70235cff4859"
      },
      "source": [
        "print(f'Dummy: {dr_mse_test:.3f}')\n",
        "print(f'LR: {lr_mse_test:.3f}')\n",
        "print(f'DT: {dt_mse_test:.3f}')\n",
        "print(f'RF: {rf_mse_test:.3f}')"
      ],
      "execution_count": null,
      "outputs": [
        {
          "output_type": "stream",
          "name": "stdout",
          "text": [
            "Dummy: 10.035\n",
            "LR: 4.652\n",
            "DT: 5.320\n",
            "RF: 4.890\n"
          ]
        }
      ]
    },
    {
      "cell_type": "markdown",
      "metadata": {
        "id": "ljP4_G5yVn8P"
      },
      "source": [
        "## Step 5 (optional) - hyperparameter tuning"
      ]
    },
    {
      "cell_type": "markdown",
      "metadata": {
        "id": "c7YY3J3253qk"
      },
      "source": [
        "1. Manual search via cross-validation.\n",
        "2. More automated approach with GridSearchCV."
      ]
    },
    {
      "cell_type": "markdown",
      "metadata": {
        "id": "FKcscAy954VN"
      },
      "source": [
        "![](https://scikit-learn.org/stable/_images/grid_search_cross_validation.png)"
      ]
    },
    {
      "cell_type": "markdown",
      "metadata": {
        "id": "ht8BCWrT6O-M"
      },
      "source": [
        "### Manual"
      ]
    },
    {
      "cell_type": "code",
      "metadata": {
        "colab": {
          "base_uri": "https://localhost:8080/"
        },
        "id": "pYCOZBrhVm4x",
        "outputId": "4b3d8c2e-18a5-4ddd-fc8e-b2b548f59fea"
      },
      "source": [
        "# max_depth, more?\n",
        "rf_cv = RandomForestRegressor(max_depth=5)\n",
        "score = cross_val_score(rf_cv, X_train, y_train, cv=5, n_jobs=-1)\n",
        "\n",
        "print(f'{score.mean():.3f} +- {score.std():.3f}')"
      ],
      "execution_count": null,
      "outputs": [
        {
          "output_type": "stream",
          "name": "stdout",
          "text": [
            "0.532 +- 0.015\n"
          ]
        }
      ]
    },
    {
      "cell_type": "markdown",
      "metadata": {
        "id": "bWJ3LZJcbSQh"
      },
      "source": [
        "### GridSearchCV"
      ]
    },
    {
      "cell_type": "code",
      "metadata": {
        "colab": {
          "base_uri": "https://localhost:8080/"
        },
        "id": "I_KXH7wzXpiE",
        "outputId": "86ae0ef5-ab7e-4d95-a731-acc8353cdd70"
      },
      "source": [
        "rf_gs = RandomForestRegressor()\n",
        "params = {'max_depth': [2, 5, 10, None], 'min_samples_leaf': [1, 2, 5, 10]}\n",
        "gs_cv = GridSearchCV(rf_gs, cv=5, param_grid=params, n_jobs=-1)\n",
        "\n",
        "gs_cv.fit(X_train, y_train)"
      ],
      "execution_count": null,
      "outputs": [
        {
          "output_type": "execute_result",
          "data": {
            "text/plain": [
              "GridSearchCV(cv=5, estimator=RandomForestRegressor(), n_jobs=-1,\n",
              "             param_grid={'max_depth': [2, 5, 10, None],\n",
              "                         'min_samples_leaf': [1, 2, 5, 10]})"
            ]
          },
          "metadata": {},
          "execution_count": 35
        }
      ]
    },
    {
      "cell_type": "code",
      "metadata": {
        "colab": {
          "base_uri": "https://localhost:8080/"
        },
        "id": "_Li-wdkhb9Yi",
        "outputId": "2baa013d-51ce-460f-9db4-e955d1ec0d22"
      },
      "source": [
        "gs_cv.best_params_"
      ],
      "execution_count": null,
      "outputs": [
        {
          "output_type": "execute_result",
          "data": {
            "text/plain": [
              "{'max_depth': None, 'min_samples_leaf': 10}"
            ]
          },
          "metadata": {},
          "execution_count": 36
        }
      ]
    },
    {
      "cell_type": "code",
      "metadata": {
        "colab": {
          "base_uri": "https://localhost:8080/"
        },
        "id": "NleyKX_8cDK1",
        "outputId": "8bf0c8bd-44b9-4156-dc21-127d8db09aa0"
      },
      "source": [
        "gs_cv.best_score_"
      ],
      "execution_count": null,
      "outputs": [
        {
          "output_type": "execute_result",
          "data": {
            "text/plain": [
              "0.5547140606780149"
            ]
          },
          "metadata": {},
          "execution_count": 37
        }
      ]
    },
    {
      "cell_type": "code",
      "metadata": {
        "colab": {
          "base_uri": "https://localhost:8080/"
        },
        "id": "XmlvU_KqcGK7",
        "outputId": "7ed2bc1a-ee13-43ce-e3df-dcce2e18a385"
      },
      "source": [
        "y_pred_test = gs_cv.predict(X_test)\n",
        "\n",
        "gs_mse_test = mean_squared_error(y_test, y_pred_test)\n",
        "\n",
        "print(gs_mse_test)"
      ],
      "execution_count": null,
      "outputs": [
        {
          "output_type": "stream",
          "name": "stdout",
          "text": [
            "4.584358533902919\n"
          ]
        }
      ]
    },
    {
      "cell_type": "code",
      "metadata": {
        "id": "0rK_nvaP1a1o",
        "outputId": "6b7ca4b5-9556-4fe7-d02b-d91bf81e3aa0",
        "colab": {
          "base_uri": "https://localhost:8080/"
        }
      },
      "source": [
        "print(f'Dummy: {dr_mse_test:.3f}')\n",
        "print(f'LR: {lr_mse_test:.3f}')\n",
        "print(f'DT: {dt_mse_test:.3f}')\n",
        "print(f'RF: {rf_mse_test:.3f}')\n",
        "print(f'RF tuned: {gs_mse_test:.3f}')"
      ],
      "execution_count": null,
      "outputs": [
        {
          "output_type": "stream",
          "name": "stdout",
          "text": [
            "Dummy: 10.035\n",
            "LR: 4.652\n",
            "DT: 5.320\n",
            "RF: 4.890\n",
            "RF tuned: 4.584\n"
          ]
        }
      ]
    }
  ]
}