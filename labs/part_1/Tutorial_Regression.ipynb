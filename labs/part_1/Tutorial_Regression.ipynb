{
  "cells": [
    {
      "cell_type": "markdown",
      "metadata": {
        "colab_type": "text",
        "id": "view-in-github"
      },
      "source": [
        "<a href=\"https://colab.research.google.com/github/dmachlanski/ncrm-causality-2021/blob/main/labs/day_1/Tutorial_Regression.ipynb\" target=\"_parent\"><img src=\"https://colab.research.google.com/assets/colab-badge.svg\" alt=\"Open In Colab\"/></a>"
      ]
    },
    {
      "cell_type": "markdown",
      "metadata": {
        "id": "MkhxK_TUwbny"
      },
      "source": [
        "# Regression - tutorial\n",
        "\n",
        "This is a guided example that involves a regression problem - [abalone](https://archive.ics.uci.edu/ml/datasets/abalone) dataset.\n",
        "\n",
        "## The plan\n",
        "1. Import necessary packages.\n",
        "2. Load and explore the dataset.\n",
        "3. Perform data pre-processing (transformations, scaling, splitting).\n",
        "4. Train and evaluate the models.\n",
        "5. Hyperparameter optimisation."
      ]
    },
    {
      "cell_type": "markdown",
      "metadata": {
        "id": "jB-zAUUWz_Cj"
      },
      "source": [
        "## Step 1 - packages"
      ]
    },
    {
      "cell_type": "code",
      "execution_count": 24,
      "metadata": {
        "id": "WrTw6jFyIjQh"
      },
      "outputs": [],
      "source": [
        "import pandas as pd\n",
        "import numpy as np\n",
        "import sys\n",
        "sys.path.append(\"../\")\n",
        "import utils as ut\n",
        "\n",
        "from sklearn.linear_model import LinearRegression\n",
        "from sklearn.tree import DecisionTreeRegressor\n",
        "from sklearn.ensemble import RandomForestRegressor\n",
        "from sklearn.dummy import DummyRegressor\n",
        "\n",
        "from sklearn.model_selection import train_test_split\n",
        "from sklearn.metrics import mean_squared_error\n",
        "from sklearn.preprocessing import MinMaxScaler"
      ]
    },
    {
      "cell_type": "markdown",
      "metadata": {
        "id": "TZNEARHnyeOe"
      },
      "source": [
        "## Step 2 - data"
      ]
    },
    {
      "cell_type": "markdown",
      "metadata": {
        "id": "-n7sXQ3L5gj7"
      },
      "source": [
        "More information about the covariates:\n",
        "\n",
        "| Name           | Data Type  | Measurement Unit | Description                 |\n",
        "|----------------|------------|------------------|-----------------------------|\n",
        "| Sex            | nominal    | -                | M, F, and I (infant)        |\n",
        "| Length         | continuous | mm               | longest shell measurement   |\n",
        "| Diameter       | continuous | mm               | perpendicular to length     |\n",
        "| Height         | continuous | mm               | with meat in shell          |\n",
        "| Whole weight   | continuous | grams            | whole abalone               |\n",
        "| Shucked weight | continuous | grams            | weight of meat              |\n",
        "| Viscera weight | continuous | grams            | gut weight (after bleeding) |\n",
        "| Shell weight   | continuous | grams            | after being dried           |\n",
        "| Rings          | integer    | -                | +1.5 gives the age in years |"
      ]
    },
    {
      "cell_type": "code",
      "execution_count": 25,
      "metadata": {
        "id": "hgP5KHl7HmJL"
      },
      "outputs": [],
      "source": [
        "df_data = pd.read_csv('https://raw.githubusercontent.com/misoc-mml/ncrm-causality-2022/main/labs/part_1/data/abalone.csv')"
      ]
    },
    {
      "cell_type": "code",
      "execution_count": 26,
      "metadata": {
        "colab": {
          "base_uri": "https://localhost:8080/",
          "height": 204
        },
        "id": "bv2I8RnbH2j9",
        "outputId": "1783c29b-94d3-48a8-c359-0b31474bd5ec"
      },
      "outputs": [
        {
          "data": {
            "text/html": [
              "<div>\n",
              "<style scoped>\n",
              "    .dataframe tbody tr th:only-of-type {\n",
              "        vertical-align: middle;\n",
              "    }\n",
              "\n",
              "    .dataframe tbody tr th {\n",
              "        vertical-align: top;\n",
              "    }\n",
              "\n",
              "    .dataframe thead th {\n",
              "        text-align: right;\n",
              "    }\n",
              "</style>\n",
              "<table border=\"1\" class=\"dataframe\">\n",
              "  <thead>\n",
              "    <tr style=\"text-align: right;\">\n",
              "      <th></th>\n",
              "      <th>length</th>\n",
              "      <th>diameter</th>\n",
              "      <th>height</th>\n",
              "      <th>whole_weight</th>\n",
              "      <th>shucked_weight</th>\n",
              "      <th>viscera_weight</th>\n",
              "      <th>shell_weight</th>\n",
              "      <th>rings</th>\n",
              "      <th>sex_I</th>\n",
              "      <th>sex_M</th>\n",
              "    </tr>\n",
              "  </thead>\n",
              "  <tbody>\n",
              "    <tr>\n",
              "      <th>0</th>\n",
              "      <td>0.455</td>\n",
              "      <td>0.365</td>\n",
              "      <td>0.095</td>\n",
              "      <td>0.5140</td>\n",
              "      <td>0.2245</td>\n",
              "      <td>0.1010</td>\n",
              "      <td>0.150</td>\n",
              "      <td>15</td>\n",
              "      <td>0</td>\n",
              "      <td>1</td>\n",
              "    </tr>\n",
              "    <tr>\n",
              "      <th>1</th>\n",
              "      <td>0.350</td>\n",
              "      <td>0.265</td>\n",
              "      <td>0.090</td>\n",
              "      <td>0.2255</td>\n",
              "      <td>0.0995</td>\n",
              "      <td>0.0485</td>\n",
              "      <td>0.070</td>\n",
              "      <td>7</td>\n",
              "      <td>0</td>\n",
              "      <td>1</td>\n",
              "    </tr>\n",
              "    <tr>\n",
              "      <th>2</th>\n",
              "      <td>0.530</td>\n",
              "      <td>0.420</td>\n",
              "      <td>0.135</td>\n",
              "      <td>0.6770</td>\n",
              "      <td>0.2565</td>\n",
              "      <td>0.1415</td>\n",
              "      <td>0.210</td>\n",
              "      <td>9</td>\n",
              "      <td>0</td>\n",
              "      <td>0</td>\n",
              "    </tr>\n",
              "    <tr>\n",
              "      <th>3</th>\n",
              "      <td>0.440</td>\n",
              "      <td>0.365</td>\n",
              "      <td>0.125</td>\n",
              "      <td>0.5160</td>\n",
              "      <td>0.2155</td>\n",
              "      <td>0.1140</td>\n",
              "      <td>0.155</td>\n",
              "      <td>10</td>\n",
              "      <td>0</td>\n",
              "      <td>1</td>\n",
              "    </tr>\n",
              "    <tr>\n",
              "      <th>4</th>\n",
              "      <td>0.330</td>\n",
              "      <td>0.255</td>\n",
              "      <td>0.080</td>\n",
              "      <td>0.2050</td>\n",
              "      <td>0.0895</td>\n",
              "      <td>0.0395</td>\n",
              "      <td>0.055</td>\n",
              "      <td>7</td>\n",
              "      <td>1</td>\n",
              "      <td>0</td>\n",
              "    </tr>\n",
              "  </tbody>\n",
              "</table>\n",
              "</div>"
            ],
            "text/plain": [
              "   length  diameter  height  whole_weight  shucked_weight  viscera_weight  \\\n",
              "0   0.455     0.365   0.095        0.5140          0.2245          0.1010   \n",
              "1   0.350     0.265   0.090        0.2255          0.0995          0.0485   \n",
              "2   0.530     0.420   0.135        0.6770          0.2565          0.1415   \n",
              "3   0.440     0.365   0.125        0.5160          0.2155          0.1140   \n",
              "4   0.330     0.255   0.080        0.2050          0.0895          0.0395   \n",
              "\n",
              "   shell_weight  rings  sex_I  sex_M  \n",
              "0         0.150     15      0      1  \n",
              "1         0.070      7      0      1  \n",
              "2         0.210      9      0      0  \n",
              "3         0.155     10      0      1  \n",
              "4         0.055      7      1      0  "
            ]
          },
          "execution_count": 26,
          "metadata": {},
          "output_type": "execute_result"
        }
      ],
      "source": [
        "df_data.head()"
      ]
    },
    {
      "cell_type": "code",
      "execution_count": 29,
      "metadata": {
        "colab": {
          "base_uri": "https://localhost:8080/",
          "height": 585
        },
        "id": "rK2A6hoHJwIA",
        "outputId": "be82f054-5739-4b99-a8cc-727b71632319"
      },
      "outputs": [
        {
          "data": {
            "image/png": "[encoded data removed]",
            "text/plain": [
              "<Figure size 1200x800 with 10 Axes>"
            ]
          },
          "metadata": {},
          "output_type": "display_data"
        }
      ],
      "source": [
        "ut.plot_dist(df_data.to_numpy(), 20, (12, 8))"
      ]
    },
    {
      "cell_type": "markdown",
      "metadata": {
        "id": "JXlMeeHj1oSO"
      },
      "source": [
        "## Step 3 - data pre-processing"
      ]
    },
    {
      "cell_type": "markdown",
      "metadata": {
        "id": "cKVTC4T65pcW"
      },
      "source": [
        "1. Separate background covariates (X) from the target (y).\n",
        "2. Split into training and testing data.\n",
        "3. Scale the data."
      ]
    },
    {
      "cell_type": "code",
      "execution_count": 30,
      "metadata": {
        "id": "RiLlctTuPmAE"
      },
      "outputs": [],
      "source": [
        "X = df_data.drop(columns=['rings']).to_numpy()\n",
        "y = df_data['rings'].to_numpy()"
      ]
    },
    {
      "cell_type": "code",
      "execution_count": 31,
      "metadata": {
        "colab": {
          "base_uri": "https://localhost:8080/"
        },
        "id": "9Fi4Y7AkP1JZ",
        "outputId": "f6be3c31-527d-4a2e-df22-736c9d6f669f"
      },
      "outputs": [
        {
          "name": "stdout",
          "output_type": "stream",
          "text": [
            "(4177, 9)\n",
            "(4177,)\n"
          ]
        }
      ],
      "source": [
        "print(X.shape)\n",
        "print(y.shape)"
      ]
    },
    {
      "cell_type": "code",
      "execution_count": 32,
      "metadata": {
        "colab": {
          "base_uri": "https://localhost:8080/"
        },
        "id": "7RWgTKqTQWXy",
        "outputId": "fd7c51e6-fd5c-4504-f687-0e708b2264e9"
      },
      "outputs": [
        {
          "name": "stdout",
          "output_type": "stream",
          "text": [
            "(3341, 9)\n",
            "(3341,)\n",
            "(836, 9)\n",
            "(836,)\n"
          ]
        }
      ],
      "source": [
        "X_train, X_test, y_train, y_test = train_test_split(X, y, test_size=0.2)\n",
        "\n",
        "scaler_x = MinMaxScaler()\n",
        "\n",
        "scaler_x.fit(X_train)\n",
        "X_train = scaler_x.transform(X_train)\n",
        "\n",
        "X_test = scaler_x.transform(X_test)\n",
        "\n",
        "print(X_train.shape)\n",
        "print(y_train.shape)\n",
        "print(X_test.shape)\n",
        "print(y_test.shape)"
      ]
    },
    {
      "cell_type": "markdown",
      "metadata": {
        "id": "X9mP-wnM2h3m"
      },
      "source": [
        "## Step 4 - train the models"
      ]
    },
    {
      "cell_type": "markdown",
      "metadata": {
        "id": "wRJGWntz5tyW"
      },
      "source": [
        "1. Dummy model (sanity check).\n",
        "2. Linear regression.\n",
        "3. Decision tree.\n",
        "4. Random forest.\n",
        "\n",
        "For each of the above, we do the following:\n",
        "1. Fit the model on the training data (X and y).\n",
        "2. Make predictions for the test data (X).\n",
        "3. Compare obtained predictions to the ground truth (y).\n",
        "\n",
        "We will use the Mean Squared Error (MSE) metric to evaluate our models' performance.\n",
        "\n",
        "$$MSE = \\frac{1}{n} \\sum \\limits_{i=1}^{n}(y_i - \\hat{y}_i)^2$$"
      ]
    },
    {
      "cell_type": "code",
      "execution_count": 33,
      "metadata": {
        "colab": {
          "base_uri": "https://localhost:8080/"
        },
        "id": "G6xNAJDWSawh",
        "outputId": "79375130-e418-41a1-a2dc-654817c26a88"
      },
      "outputs": [
        {
          "name": "stdout",
          "output_type": "stream",
          "text": [
            "8.700504884801655\n"
          ]
        }
      ],
      "source": [
        "dr = DummyRegressor()\n",
        "dr.fit(X_train, y_train)\n",
        "\n",
        "y_pred_test = dr.predict(X_test)\n",
        "\n",
        "dr_mse_test = mean_squared_error(y_test, y_pred_test)\n",
        "\n",
        "print(dr_mse_test)"
      ]
    },
    {
      "cell_type": "code",
      "execution_count": 34,
      "metadata": {
        "colab": {
          "base_uri": "https://localhost:8080/"
        },
        "id": "5ChjK4HCVMbf",
        "outputId": "f54f08b9-d1b4-4e34-a52b-80a8337ae06d"
      },
      "outputs": [
        {
          "name": "stdout",
          "output_type": "stream",
          "text": [
            "4.245031665739695\n"
          ]
        }
      ],
      "source": [
        "lr = LinearRegression()\n",
        "lr.fit(X_train, y_train)\n",
        "\n",
        "y_pred_test = lr.predict(X_test)\n",
        "\n",
        "lr_mse_test = mean_squared_error(y_test, y_pred_test)\n",
        "\n",
        "print(lr_mse_test)"
      ]
    },
    {
      "cell_type": "code",
      "execution_count": 63,
      "metadata": {
        "colab": {
          "base_uri": "https://localhost:8080/"
        },
        "id": "p7ndqhrvU_vy",
        "outputId": "b3979c99-af5c-483c-f854-cbf1d00f0b92"
      },
      "outputs": [
        {
          "name": "stdout",
          "output_type": "stream",
          "text": [
            "4.7211267989882675\n"
          ]
        }
      ],
      "source": [
        "dt = DecisionTreeRegressor(max_depth=5)\n",
        "dt.fit(X_train, y_train)\n",
        "\n",
        "y_pred_test = dt.predict(X_test)\n",
        "\n",
        "dt_mse_test = mean_squared_error(y_test, y_pred_test)\n",
        "\n",
        "print(dt_mse_test)"
      ]
    },
    {
      "cell_type": "code",
      "execution_count": 74,
      "metadata": {
        "colab": {
          "base_uri": "https://localhost:8080/"
        },
        "id": "ywD3Ib7PVbm2",
        "outputId": "0375bd3f-d604-4a5a-a580-f00d84469537"
      },
      "outputs": [
        {
          "name": "stdout",
          "output_type": "stream",
          "text": [
            "4.181809260241781\n"
          ]
        }
      ],
      "source": [
        "rf = RandomForestRegressor(n_estimators=100, max_depth=5)\n",
        "rf.fit(X_train, y_train.flatten())\n",
        "\n",
        "y_pred_test = rf.predict(X_test)\n",
        "\n",
        "rf_mse_test = mean_squared_error(y_test, y_pred_test)\n",
        "\n",
        "print(rf_mse_test)"
      ]
    },
    {
      "cell_type": "markdown",
      "metadata": {
        "id": "6-QVccW73xyi"
      },
      "source": [
        "Compare all obtained results to each other"
      ]
    },
    {
      "cell_type": "code",
      "execution_count": 75,
      "metadata": {
        "colab": {
          "base_uri": "https://localhost:8080/"
        },
        "id": "b4jE1Zfb3w5v",
        "outputId": "35587c87-87dc-40fb-9a31-441a059fe7cf"
      },
      "outputs": [
        {
          "name": "stdout",
          "output_type": "stream",
          "text": [
            "Dummy: 8.701\n",
            "LR: 4.245\n",
            "DT: 4.721\n",
            "RF: 4.182\n"
          ]
        }
      ],
      "source": [
        "print(f'Dummy: {dr_mse_test:.3f}')\n",
        "print(f'LR: {lr_mse_test:.3f}')\n",
        "print(f'DT: {dt_mse_test:.3f}')\n",
        "print(f'RF: {rf_mse_test:.3f}')"
      ]
    }
  ],
  "metadata": {
    "colab": {
      "authorship_tag": "ABX9TyOxqXl0tUB0wUAmRs4J0gVS",
      "collapsed_sections": [
        "jB-zAUUWz_Cj",
        "JXlMeeHj1oSO",
        "X9mP-wnM2h3m",
        "ljP4_G5yVn8P"
      ],
      "include_colab_link": true,
      "name": "Tutorial Regression.ipynb",
      "provenance": []
    },
    "kernelspec": {
      "display_name": "Python 3.8.5 ('causal')",
      "language": "python",
      "name": "python3"
    },
    "language_info": {
      "codemirror_mode": {
        "name": "ipython",
        "version": 3
      },
      "file_extension": ".py",
      "mimetype": "text/x-python",
      "name": "python",
      "nbconvert_exporter": "python",
      "pygments_lexer": "ipython3",
      "version": "3.8.5"
    },
    "vscode": {
      "interpreter": {
        "hash": "32b8cbadb476d3601dee7a7c36897793fa4ac1e25934ec79cb9f1ee5b85fbbb7"
      }
    }
  },
  "nbformat": 4,
  "nbformat_minor": 0
}
