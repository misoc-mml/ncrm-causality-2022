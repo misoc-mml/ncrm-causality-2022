{
  "nbformat": 4,
  "nbformat_minor": 0,
  "metadata": {
    "colab": {
      "name": "Tutorial Regression.ipynb",
      "provenance": [],
      "collapsed_sections": [
        "jB-zAUUWz_Cj",
        "JXlMeeHj1oSO",
        "X9mP-wnM2h3m",
        "ljP4_G5yVn8P"
      ],
      "authorship_tag": "ABX9TyOxqXl0tUB0wUAmRs4J0gVS",
      "include_colab_link": true
    },
    "kernelspec": {
      "name": "python3",
      "display_name": "Python 3"
    },
    "language_info": {
      "name": "python"
    }
  },
  "cells": [
    {
      "cell_type": "markdown",
      "metadata": {
        "id": "view-in-github",
        "colab_type": "text"
      },
      "source": [
        "<a href=\"https://colab.research.google.com/github/dmachlanski/ncrm-causality-2021/blob/main/labs/day_1/Tutorial_Regression.ipynb\" target=\"_parent\"><img src=\"https://colab.research.google.com/assets/colab-badge.svg\" alt=\"Open In Colab\"/></a>"
      ]
    },
    {
      "cell_type": "markdown",
      "metadata": {
        "id": "MkhxK_TUwbny"
      },
      "source": [
        "# Regression - tutorial\n",
        "\n",
        "This is a guided example that involves a regression problem - [abalone](https://archive.ics.uci.edu/ml/datasets/abalone) dataset.\n",
        "\n",
        "## The plan\n",
        "1. Import necessary packages.\n",
        "2. Load and explore the dataset.\n",
        "3. Perform data pre-processing (transformations, scaling, splitting).\n",
        "4. Train and evaluate the models.\n",
        "5. Hyperparameter optimisation."
      ]
    },
    {
      "cell_type": "markdown",
      "metadata": {
        "id": "jB-zAUUWz_Cj"
      },
      "source": [
        "## Step 1 - packages"
      ]
    },
    {
      "cell_type": "code",
      "metadata": {
        "id": "WrTw6jFyIjQh"
      },
      "source": [
        "import pandas as pd\n",
        "import numpy as np\n",
        "import matplotlib.pyplot as plt\n",
        "import math\n",
        "\n",
        "from sklearn.linear_model import LinearRegression\n",
        "from sklearn.tree import DecisionTreeRegressor\n",
        "from sklearn.ensemble import RandomForestRegressor\n",
        "from sklearn.dummy import DummyRegressor\n",
        "\n",
        "from sklearn.model_selection import train_test_split, cross_val_score, GridSearchCV\n",
        "from sklearn.metrics import mean_squared_error\n",
        "from sklearn.preprocessing import MinMaxScaler"
      ],
      "execution_count": 1,
      "outputs": []
    },
    {
      "cell_type": "markdown",
      "metadata": {
        "id": "TZNEARHnyeOe"
      },
      "source": [
        "## Step 2 - data"
      ]
    },
    {
      "cell_type": "markdown",
      "metadata": {
        "id": "-n7sXQ3L5gj7"
      },
      "source": [
        "More information about the covariates:\n",
        "\n",
        "| Name           | Data Type  | Measurement Unit | Description                 |\n",
        "|----------------|------------|------------------|-----------------------------|\n",
        "| Sex            | nominal    | -                | M, F, and I (infant)        |\n",
        "| Length         | continuous | mm               | longest shell measurement   |\n",
        "| Diameter       | continuous | mm               | perpendicular to length     |\n",
        "| Height         | continuous | mm               | with meat in shell          |\n",
        "| Whole weight   | continuous | grams            | whole abalone               |\n",
        "| Shucked weight | continuous | grams            | weight of meat              |\n",
        "| Viscera weight | continuous | grams            | gut weight (after bleeding) |\n",
        "| Shell weight   | continuous | grams            | after being dried           |\n",
        "| Rings          | integer    | -                | +1.5 gives the age in years |"
      ]
    },
    {
      "cell_type": "code",
      "metadata": {
        "id": "hgP5KHl7HmJL"
      },
      "source": [
        "df_data = pd.read_csv('https://raw.githubusercontent.com/dmachlanski/ncrm-causality-2021/main/labs/day_1/data/abalone.csv')"
      ],
      "execution_count": 2,
      "outputs": []
    },
    {
      "cell_type": "code",
      "metadata": {
        "colab": {
          "base_uri": "https://localhost:8080/",
          "height": 204
        },
        "id": "bv2I8RnbH2j9",
        "outputId": "1783c29b-94d3-48a8-c359-0b31474bd5ec"
      },
      "source": [
        "df_data.head()"
      ],
      "execution_count": 3,
      "outputs": [
        {
          "output_type": "execute_result",
          "data": {
            "text/html": [
              "<div>\n",
              "<style scoped>\n",
              "    .dataframe tbody tr th:only-of-type {\n",
              "        vertical-align: middle;\n",
              "    }\n",
              "\n",
              "    .dataframe tbody tr th {\n",
              "        vertical-align: top;\n",
              "    }\n",
              "\n",
              "    .dataframe thead th {\n",
              "        text-align: right;\n",
              "    }\n",
              "</style>\n",
              "<table border=\"1\" class=\"dataframe\">\n",
              "  <thead>\n",
              "    <tr style=\"text-align: right;\">\n",
              "      <th></th>\n",
              "      <th>sex</th>\n",
              "      <th>length</th>\n",
              "      <th>diameter</th>\n",
              "      <th>height</th>\n",
              "      <th>whole_weight</th>\n",
              "      <th>shucked_weight</th>\n",
              "      <th>viscera_weight</th>\n",
              "      <th>shell_weight</th>\n",
              "      <th>rings</th>\n",
              "    </tr>\n",
              "  </thead>\n",
              "  <tbody>\n",
              "    <tr>\n",
              "      <th>0</th>\n",
              "      <td>M</td>\n",
              "      <td>0.455</td>\n",
              "      <td>0.365</td>\n",
              "      <td>0.095</td>\n",
              "      <td>0.5140</td>\n",
              "      <td>0.2245</td>\n",
              "      <td>0.1010</td>\n",
              "      <td>0.150</td>\n",
              "      <td>15</td>\n",
              "    </tr>\n",
              "    <tr>\n",
              "      <th>1</th>\n",
              "      <td>M</td>\n",
              "      <td>0.350</td>\n",
              "      <td>0.265</td>\n",
              "      <td>0.090</td>\n",
              "      <td>0.2255</td>\n",
              "      <td>0.0995</td>\n",
              "      <td>0.0485</td>\n",
              "      <td>0.070</td>\n",
              "      <td>7</td>\n",
              "    </tr>\n",
              "    <tr>\n",
              "      <th>2</th>\n",
              "      <td>F</td>\n",
              "      <td>0.530</td>\n",
              "      <td>0.420</td>\n",
              "      <td>0.135</td>\n",
              "      <td>0.6770</td>\n",
              "      <td>0.2565</td>\n",
              "      <td>0.1415</td>\n",
              "      <td>0.210</td>\n",
              "      <td>9</td>\n",
              "    </tr>\n",
              "    <tr>\n",
              "      <th>3</th>\n",
              "      <td>M</td>\n",
              "      <td>0.440</td>\n",
              "      <td>0.365</td>\n",
              "      <td>0.125</td>\n",
              "      <td>0.5160</td>\n",
              "      <td>0.2155</td>\n",
              "      <td>0.1140</td>\n",
              "      <td>0.155</td>\n",
              "      <td>10</td>\n",
              "    </tr>\n",
              "    <tr>\n",
              "      <th>4</th>\n",
              "      <td>I</td>\n",
              "      <td>0.330</td>\n",
              "      <td>0.255</td>\n",
              "      <td>0.080</td>\n",
              "      <td>0.2050</td>\n",
              "      <td>0.0895</td>\n",
              "      <td>0.0395</td>\n",
              "      <td>0.055</td>\n",
              "      <td>7</td>\n",
              "    </tr>\n",
              "  </tbody>\n",
              "</table>\n",
              "</div>"
            ],
            "text/plain": [
              "  sex  length  diameter  ...  viscera_weight  shell_weight  rings\n",
              "0   M   0.455     0.365  ...          0.1010         0.150     15\n",
              "1   M   0.350     0.265  ...          0.0485         0.070      7\n",
              "2   F   0.530     0.420  ...          0.1415         0.210      9\n",
              "3   M   0.440     0.365  ...          0.1140         0.155     10\n",
              "4   I   0.330     0.255  ...          0.0395         0.055      7\n",
              "\n",
              "[5 rows x 9 columns]"
            ]
          },
          "metadata": {
            "tags": []
          },
          "execution_count": 3
        }
      ]
    },
    {
      "cell_type": "code",
      "metadata": {
        "id": "7vMC3LiFJiKN"
      },
      "source": [
        "def _trim_axs(axs, N):\n",
        "    axs = axs.flat\n",
        "    for ax in axs[N:]:\n",
        "        ax.remove()\n",
        "    return axs[:N]\n",
        "\n",
        "def plot_dist(data, bins=10):\n",
        "    sq = math.sqrt(data.shape[1])\n",
        "    d_ceil = math.ceil(sq)\n",
        "    d_floor = math.floor(sq)\n",
        "\n",
        "    if (d_ceil * d_floor) >= data.shape[1]:\n",
        "        n_rows = d_floor\n",
        "        n_cols = d_ceil\n",
        "    else:\n",
        "        n_rows = n_cols = d_ceil\n",
        "\n",
        "    fig, axs = plt.subplots(n_rows, n_cols, figsize=(10, 8))\n",
        "    axs = _trim_axs(axs, data.shape[1])\n",
        "\n",
        "    for i, ax in enumerate(axs):\n",
        "        ax.hist(data[:, i], bins=bins)\n",
        "    \n",
        "    fig.tight_layout()\n",
        "    plt.show()"
      ],
      "execution_count": 4,
      "outputs": []
    },
    {
      "cell_type": "code",
      "metadata": {
        "colab": {
          "base_uri": "https://localhost:8080/",
          "height": 585
        },
        "id": "rK2A6hoHJwIA",
        "outputId": "be82f054-5739-4b99-a8cc-727b71632319"
      },
      "source": [
        "plot_dist(df_data.to_numpy(), 20)"
      ],
      "execution_count": 5,
      "outputs": [
        {
          "output_type": "display_data",
          "data": {
            "image/png": "[encoded data removed]",
            "text/plain": [
              "<Figure size 720x576 with 9 Axes>"
            ]
          },
          "metadata": {
            "tags": [],
            "needs_background": "light"
          }
        }
      ]
    },
    {
      "cell_type": "markdown",
      "metadata": {
        "id": "JXlMeeHj1oSO"
      },
      "source": [
        "## Step 3 - data pre-processing"
      ]
    },
    {
      "cell_type": "markdown",
      "metadata": {
        "id": "cKVTC4T65pcW"
      },
      "source": [
        "1. Transform categorical variable 'Sex' to one-hot representation.\n",
        "2. Separate background covariates (X) from the target (y).\n",
        "3. Split into training and testing data.\n",
        "4. Scale the data."
      ]
    },
    {
      "cell_type": "code",
      "metadata": {
        "colab": {
          "base_uri": "https://localhost:8080/",
          "height": 204
        },
        "id": "wiNt8PcBIiNo",
        "outputId": "17b59568-f248-4855-d4cc-df012baa80c8"
      },
      "source": [
        "df_data_new = pd.get_dummies(df_data, columns=['sex'], drop_first=True)\n",
        "df_data_new.head()"
      ],
      "execution_count": 6,
      "outputs": [
        {
          "output_type": "execute_result",
          "data": {
            "text/html": [
              "<div>\n",
              "<style scoped>\n",
              "    .dataframe tbody tr th:only-of-type {\n",
              "        vertical-align: middle;\n",
              "    }\n",
              "\n",
              "    .dataframe tbody tr th {\n",
              "        vertical-align: top;\n",
              "    }\n",
              "\n",
              "    .dataframe thead th {\n",
              "        text-align: right;\n",
              "    }\n",
              "</style>\n",
              "<table border=\"1\" class=\"dataframe\">\n",
              "  <thead>\n",
              "    <tr style=\"text-align: right;\">\n",
              "      <th></th>\n",
              "      <th>length</th>\n",
              "      <th>diameter</th>\n",
              "      <th>height</th>\n",
              "      <th>whole_weight</th>\n",
              "      <th>shucked_weight</th>\n",
              "      <th>viscera_weight</th>\n",
              "      <th>shell_weight</th>\n",
              "      <th>rings</th>\n",
              "      <th>sex_I</th>\n",
              "      <th>sex_M</th>\n",
              "    </tr>\n",
              "  </thead>\n",
              "  <tbody>\n",
              "    <tr>\n",
              "      <th>0</th>\n",
              "      <td>0.455</td>\n",
              "      <td>0.365</td>\n",
              "      <td>0.095</td>\n",
              "      <td>0.5140</td>\n",
              "      <td>0.2245</td>\n",
              "      <td>0.1010</td>\n",
              "      <td>0.150</td>\n",
              "      <td>15</td>\n",
              "      <td>0</td>\n",
              "      <td>1</td>\n",
              "    </tr>\n",
              "    <tr>\n",
              "      <th>1</th>\n",
              "      <td>0.350</td>\n",
              "      <td>0.265</td>\n",
              "      <td>0.090</td>\n",
              "      <td>0.2255</td>\n",
              "      <td>0.0995</td>\n",
              "      <td>0.0485</td>\n",
              "      <td>0.070</td>\n",
              "      <td>7</td>\n",
              "      <td>0</td>\n",
              "      <td>1</td>\n",
              "    </tr>\n",
              "    <tr>\n",
              "      <th>2</th>\n",
              "      <td>0.530</td>\n",
              "      <td>0.420</td>\n",
              "      <td>0.135</td>\n",
              "      <td>0.6770</td>\n",
              "      <td>0.2565</td>\n",
              "      <td>0.1415</td>\n",
              "      <td>0.210</td>\n",
              "      <td>9</td>\n",
              "      <td>0</td>\n",
              "      <td>0</td>\n",
              "    </tr>\n",
              "    <tr>\n",
              "      <th>3</th>\n",
              "      <td>0.440</td>\n",
              "      <td>0.365</td>\n",
              "      <td>0.125</td>\n",
              "      <td>0.5160</td>\n",
              "      <td>0.2155</td>\n",
              "      <td>0.1140</td>\n",
              "      <td>0.155</td>\n",
              "      <td>10</td>\n",
              "      <td>0</td>\n",
              "      <td>1</td>\n",
              "    </tr>\n",
              "    <tr>\n",
              "      <th>4</th>\n",
              "      <td>0.330</td>\n",
              "      <td>0.255</td>\n",
              "      <td>0.080</td>\n",
              "      <td>0.2050</td>\n",
              "      <td>0.0895</td>\n",
              "      <td>0.0395</td>\n",
              "      <td>0.055</td>\n",
              "      <td>7</td>\n",
              "      <td>1</td>\n",
              "      <td>0</td>\n",
              "    </tr>\n",
              "  </tbody>\n",
              "</table>\n",
              "</div>"
            ],
            "text/plain": [
              "   length  diameter  height  whole_weight  ...  shell_weight  rings  sex_I  sex_M\n",
              "0   0.455     0.365   0.095        0.5140  ...         0.150     15      0      1\n",
              "1   0.350     0.265   0.090        0.2255  ...         0.070      7      0      1\n",
              "2   0.530     0.420   0.135        0.6770  ...         0.210      9      0      0\n",
              "3   0.440     0.365   0.125        0.5160  ...         0.155     10      0      1\n",
              "4   0.330     0.255   0.080        0.2050  ...         0.055      7      1      0\n",
              "\n",
              "[5 rows x 10 columns]"
            ]
          },
          "metadata": {
            "tags": []
          },
          "execution_count": 6
        }
      ]
    },
    {
      "cell_type": "code",
      "metadata": {
        "colab": {
          "base_uri": "https://localhost:8080/",
          "height": 585
        },
        "id": "UGvk7nROOU1r",
        "outputId": "11b03e09-f5bb-46f1-d2ba-58d25e301002"
      },
      "source": [
        "plot_dist(df_data_new.to_numpy(), 20)"
      ],
      "execution_count": 7,
      "outputs": [
        {
          "output_type": "display_data",
          "data": {
            "image/png": "[encoded data removed]",
            "text/plain": [
              "<Figure size 720x576 with 10 Axes>"
            ]
          },
          "metadata": {
            "tags": [],
            "needs_background": "light"
          }
        }
      ]
    },
    {
      "cell_type": "code",
      "metadata": {
        "id": "RiLlctTuPmAE"
      },
      "source": [
        "X = df_data_new.drop(columns=['rings']).to_numpy()\n",
        "y = df_data_new['rings'].to_numpy()"
      ],
      "execution_count": 8,
      "outputs": []
    },
    {
      "cell_type": "code",
      "metadata": {
        "colab": {
          "base_uri": "https://localhost:8080/"
        },
        "id": "9Fi4Y7AkP1JZ",
        "outputId": "f6be3c31-527d-4a2e-df22-736c9d6f669f"
      },
      "source": [
        "print(X.shape)\n",
        "print(y.shape)"
      ],
      "execution_count": 9,
      "outputs": [
        {
          "output_type": "stream",
          "text": [
            "(4177, 9)\n",
            "(4177,)\n"
          ],
          "name": "stdout"
        }
      ]
    },
    {
      "cell_type": "code",
      "metadata": {
        "colab": {
          "base_uri": "https://localhost:8080/"
        },
        "id": "J2bcBJ0OSmSM",
        "outputId": "bf1680c7-8fa8-404a-9546-9aebd15bfa99"
      },
      "source": [
        "y = y.reshape(-1, 1)\n",
        "print(y.shape)"
      ],
      "execution_count": 10,
      "outputs": [
        {
          "output_type": "stream",
          "text": [
            "(4177, 1)\n"
          ],
          "name": "stdout"
        }
      ]
    },
    {
      "cell_type": "code",
      "metadata": {
        "colab": {
          "base_uri": "https://localhost:8080/"
        },
        "id": "7RWgTKqTQWXy",
        "outputId": "fd7c51e6-fd5c-4504-f687-0e708b2264e9"
      },
      "source": [
        "X_train, X_test, y_train, y_test = train_test_split(X, y, test_size=0.2)\n",
        "\n",
        "scaler_x = MinMaxScaler()\n",
        "\n",
        "scaler_x.fit(X_train)\n",
        "X_train = scaler_x.transform(X_train)\n",
        "\n",
        "X_test = scaler_x.transform(X_test)\n",
        "\n",
        "print(X_train.shape)\n",
        "print(y_train.shape)\n",
        "print(X_test.shape)\n",
        "print(y_test.shape)"
      ],
      "execution_count": 11,
      "outputs": [
        {
          "output_type": "stream",
          "text": [
            "(3341, 9)\n",
            "(3341, 1)\n",
            "(836, 9)\n",
            "(836, 1)\n"
          ],
          "name": "stdout"
        }
      ]
    },
    {
      "cell_type": "markdown",
      "metadata": {
        "id": "X9mP-wnM2h3m"
      },
      "source": [
        "## Step 4 - train the models"
      ]
    },
    {
      "cell_type": "markdown",
      "metadata": {
        "id": "wRJGWntz5tyW"
      },
      "source": [
        "1. Dummy model (sanity check).\n",
        "2. Linear regression.\n",
        "3. Decision tree.\n",
        "4. Random forest.\n",
        "\n",
        "For each of the above, we do the following:\n",
        "1. Fit the model on the training data (X and y).\n",
        "2. Make predictions for the test data (X).\n",
        "3. Compare obtained predictions to the ground truth (y).\n",
        "\n",
        "We will use the Mean Squared Error (MSE) metric to evaluate our models' performance.\n",
        "\n",
        "$$MSE = \\frac{1}{n} \\sum \\limits_{i=1}^{n}(y_i - \\hat{y}_i)^2$$"
      ]
    },
    {
      "cell_type": "code",
      "metadata": {
        "colab": {
          "base_uri": "https://localhost:8080/"
        },
        "id": "G6xNAJDWSawh",
        "outputId": "79375130-e418-41a1-a2dc-654817c26a88"
      },
      "source": [
        "dr = DummyRegressor()\n",
        "dr.fit(X_train, y_train)\n",
        "\n",
        "y_pred_test = dr.predict(X_test)\n",
        "\n",
        "dr_mse_test = mean_squared_error(y_test, y_pred_test)\n",
        "\n",
        "print(dr_mse_test)"
      ],
      "execution_count": 12,
      "outputs": [
        {
          "output_type": "stream",
          "text": [
            "12.056335135912175\n"
          ],
          "name": "stdout"
        }
      ]
    },
    {
      "cell_type": "code",
      "metadata": {
        "colab": {
          "base_uri": "https://localhost:8080/"
        },
        "id": "5ChjK4HCVMbf",
        "outputId": "f54f08b9-d1b4-4e34-a52b-80a8337ae06d"
      },
      "source": [
        "lr = LinearRegression()\n",
        "lr.fit(X_train, y_train)\n",
        "\n",
        "y_pred_test = lr.predict(X_test)\n",
        "\n",
        "lr_mse_test = mean_squared_error(y_test, y_pred_test)\n",
        "\n",
        "print(lr_mse_test)"
      ],
      "execution_count": 13,
      "outputs": [
        {
          "output_type": "stream",
          "text": [
            "5.317967022794526\n"
          ],
          "name": "stdout"
        }
      ]
    },
    {
      "cell_type": "code",
      "metadata": {
        "colab": {
          "base_uri": "https://localhost:8080/"
        },
        "id": "p7ndqhrvU_vy",
        "outputId": "b3979c99-af5c-483c-f854-cbf1d00f0b92"
      },
      "source": [
        "dt = DecisionTreeRegressor()\n",
        "dt.fit(X_train, y_train)\n",
        "\n",
        "y_pred_test = dt.predict(X_test)\n",
        "\n",
        "dt_mse_test = mean_squared_error(y_test, y_pred_test)\n",
        "\n",
        "print(dt_mse_test)"
      ],
      "execution_count": 14,
      "outputs": [
        {
          "output_type": "stream",
          "text": [
            "9.629186602870814\n"
          ],
          "name": "stdout"
        }
      ]
    },
    {
      "cell_type": "code",
      "metadata": {
        "colab": {
          "base_uri": "https://localhost:8080/"
        },
        "id": "ywD3Ib7PVbm2",
        "outputId": "0375bd3f-d604-4a5a-a580-f00d84469537"
      },
      "source": [
        "rf = RandomForestRegressor()\n",
        "rf.fit(X_train, y_train.flatten())\n",
        "\n",
        "y_pred_test = rf.predict(X_test)\n",
        "\n",
        "rf_mse_test = mean_squared_error(y_test, y_pred_test)\n",
        "\n",
        "print(rf_mse_test)"
      ],
      "execution_count": 15,
      "outputs": [
        {
          "output_type": "stream",
          "text": [
            "5.270041866028708\n"
          ],
          "name": "stdout"
        }
      ]
    },
    {
      "cell_type": "markdown",
      "metadata": {
        "id": "6-QVccW73xyi"
      },
      "source": [
        "Compare all obtained results to each other"
      ]
    },
    {
      "cell_type": "code",
      "metadata": {
        "colab": {
          "base_uri": "https://localhost:8080/"
        },
        "id": "b4jE1Zfb3w5v",
        "outputId": "35587c87-87dc-40fb-9a31-441a059fe7cf"
      },
      "source": [
        "print(f'Dummy: {dr_mse_test}')\n",
        "print(f'LR: {lr_mse_test}')\n",
        "print(f'DT: {dt_mse_test}')\n",
        "print(f'RF: {rf_mse_test}')"
      ],
      "execution_count": 16,
      "outputs": [
        {
          "output_type": "stream",
          "text": [
            "Dummy: 12.056335135912175\n",
            "LR: 5.317967022794526\n",
            "DT: 9.629186602870814\n",
            "RF: 5.270041866028708\n"
          ],
          "name": "stdout"
        }
      ]
    },
    {
      "cell_type": "markdown",
      "metadata": {
        "id": "ljP4_G5yVn8P"
      },
      "source": [
        "## Step 5 - hyperparameter tuning"
      ]
    },
    {
      "cell_type": "markdown",
      "metadata": {
        "id": "c7YY3J3253qk"
      },
      "source": [
        "1. Manual search via cross-validation.\n",
        "2. More automated approach with GridSearchCV."
      ]
    },
    {
      "cell_type": "markdown",
      "metadata": {
        "id": "FKcscAy954VN"
      },
      "source": [
        "![](https://scikit-learn.org/stable/_images/grid_search_cross_validation.png)"
      ]
    },
    {
      "cell_type": "markdown",
      "metadata": {
        "id": "ht8BCWrT6O-M"
      },
      "source": [
        "### Manual"
      ]
    },
    {
      "cell_type": "code",
      "metadata": {
        "colab": {
          "base_uri": "https://localhost:8080/"
        },
        "id": "pYCOZBrhVm4x",
        "outputId": "3bd76362-e343-46fe-ad43-471742d8e1d5"
      },
      "source": [
        "# max_depth, max_leaf_nodes\n",
        "dt_cv = DecisionTreeRegressor(max_depth=5, min_samples_split=5)\n",
        "score = cross_val_score(dt_cv, X_train, y_train, cv=10)\n",
        "\n",
        "print(score)\n",
        "print(score.mean())\n",
        "print(score.std())"
      ],
      "execution_count": 20,
      "outputs": [
        {
          "output_type": "stream",
          "text": [
            "[0.47637243 0.50254338 0.34601667 0.50737247 0.46099976 0.47343082\n",
            " 0.44850109 0.42405368 0.47323319 0.4883807 ]\n",
            "0.4600904188235768\n",
            "0.04461008454202712\n"
          ],
          "name": "stdout"
        }
      ]
    },
    {
      "cell_type": "markdown",
      "metadata": {
        "id": "bWJ3LZJcbSQh"
      },
      "source": [
        "### GridSearchCV"
      ]
    },
    {
      "cell_type": "code",
      "metadata": {
        "colab": {
          "base_uri": "https://localhost:8080/"
        },
        "id": "I_KXH7wzXpiE",
        "outputId": "72349b9b-be64-41dc-a4f4-2710256123a0"
      },
      "source": [
        "dt_gs = DecisionTreeRegressor()\n",
        "params = {'max_depth': [1, 2, 5, 10, 20, None], 'max_leaf_nodes': [2, 5, 10, 20, 30, None]}\n",
        "gs_cv = GridSearchCV(dt_gs, cv=10, param_grid=params)\n",
        "\n",
        "gs_cv.fit(X_train, y_train)"
      ],
      "execution_count": 21,
      "outputs": [
        {
          "output_type": "execute_result",
          "data": {
            "text/plain": [
              "GridSearchCV(cv=10, error_score=nan,\n",
              "             estimator=DecisionTreeRegressor(ccp_alpha=0.0, criterion='mse',\n",
              "                                             max_depth=None, max_features=None,\n",
              "                                             max_leaf_nodes=None,\n",
              "                                             min_impurity_decrease=0.0,\n",
              "                                             min_impurity_split=None,\n",
              "                                             min_samples_leaf=1,\n",
              "                                             min_samples_split=2,\n",
              "                                             min_weight_fraction_leaf=0.0,\n",
              "                                             presort='deprecated',\n",
              "                                             random_state=None,\n",
              "                                             splitter='best'),\n",
              "             iid='deprecated', n_jobs=None,\n",
              "             param_grid={'max_depth': [1, 2, 5, 10, 20, None],\n",
              "                         'max_leaf_nodes': [2, 5, 10, 20, 30, None]},\n",
              "             pre_dispatch='2*n_jobs', refit=True, return_train_score=False,\n",
              "             scoring=None, verbose=0)"
            ]
          },
          "metadata": {
            "tags": []
          },
          "execution_count": 21
        }
      ]
    },
    {
      "cell_type": "code",
      "metadata": {
        "colab": {
          "base_uri": "https://localhost:8080/"
        },
        "id": "_Li-wdkhb9Yi",
        "outputId": "fb8a4f65-fa6d-4d15-f6cf-b2780711bbc4"
      },
      "source": [
        "gs_cv.best_params_"
      ],
      "execution_count": 22,
      "outputs": [
        {
          "output_type": "execute_result",
          "data": {
            "text/plain": [
              "{'max_depth': 5, 'max_leaf_nodes': 30}"
            ]
          },
          "metadata": {
            "tags": []
          },
          "execution_count": 22
        }
      ]
    },
    {
      "cell_type": "code",
      "metadata": {
        "colab": {
          "base_uri": "https://localhost:8080/"
        },
        "id": "NleyKX_8cDK1",
        "outputId": "d158c8b1-cf2a-4b1e-d426-cca913e66311"
      },
      "source": [
        "gs_cv.best_score_"
      ],
      "execution_count": 23,
      "outputs": [
        {
          "output_type": "execute_result",
          "data": {
            "text/plain": [
              "0.46058208797022643"
            ]
          },
          "metadata": {
            "tags": []
          },
          "execution_count": 23
        }
      ]
    },
    {
      "cell_type": "code",
      "metadata": {
        "colab": {
          "base_uri": "https://localhost:8080/"
        },
        "id": "XmlvU_KqcGK7",
        "outputId": "ca6222d0-d506-4828-e943-9034fc57797c"
      },
      "source": [
        "y_pred_test = gs_cv.predict(X_test)\n",
        "\n",
        "gs_mse_test = mean_squared_error(y_test, y_pred_test)\n",
        "\n",
        "print(gs_mse_test)"
      ],
      "execution_count": 24,
      "outputs": [
        {
          "output_type": "stream",
          "text": [
            "6.7184684888698945\n"
          ],
          "name": "stdout"
        }
      ]
    },
    {
      "cell_type": "code",
      "metadata": {
        "id": "0rK_nvaP1a1o",
        "outputId": "b5ef1a34-54ee-4dc6-f970-42da90598884",
        "colab": {
          "base_uri": "https://localhost:8080/"
        }
      },
      "source": [
        "print(f'Dummy: {dr_mse_test}')\n",
        "print(f'LR: {lr_mse_test}')\n",
        "print(f'DT: {dt_mse_test}')\n",
        "print(f'RF: {rf_mse_test}')"
      ],
      "execution_count": 25,
      "outputs": [
        {
          "output_type": "stream",
          "text": [
            "Dummy: 12.056335135912175\n",
            "LR: 5.317967022794526\n",
            "DT: 9.629186602870814\n",
            "RF: 5.270041866028708\n"
          ],
          "name": "stdout"
        }
      ]
    },
    {
      "cell_type": "code",
      "metadata": {
        "id": "8Z3iaiN31bQ1"
      },
      "source": [
        ""
      ],
      "execution_count": null,
      "outputs": []
    }
  ]
}