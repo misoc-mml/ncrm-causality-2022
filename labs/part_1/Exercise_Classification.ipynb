{
  "nbformat": 4,
  "nbformat_minor": 0,
  "metadata": {
    "colab": {
      "name": "Exercise Classification.ipynb",
      "provenance": [],
      "collapsed_sections": [],
      "authorship_tag": "ABX9TyPBzCGbv2TGH6s7AOfsOfTr",
      "include_colab_link": true
    },
    "kernelspec": {
      "name": "python3",
      "display_name": "Python 3"
    },
    "language_info": {
      "name": "python"
    }
  },
  "cells": [
    {
      "cell_type": "markdown",
      "metadata": {
        "id": "view-in-github",
        "colab_type": "text"
      },
      "source": [
        "<a href=\"https://colab.research.google.com/github/dmachlanski/ncrm-causality-2021/blob/main/labs/day_1/Exercise_Classification.ipynb\" target=\"_parent\"><img src=\"https://colab.research.google.com/assets/colab-badge.svg\" alt=\"Open In Colab\"/></a>"
      ]
    },
    {
      "cell_type": "markdown",
      "metadata": {
        "id": "fcyQR4AQQ11d"
      },
      "source": [
        "# Classification - exercise\n",
        "\n",
        "We will follow the same pattern as in the classification tutorial but using a different dataset - [diabetes](https://raw.githubusercontent.com/jbrownlee/Datasets/master/pima-indians-diabetes.names).\n",
        "\n",
        "| Index | Description                                                              |\n",
        "|-------|--------------------------------------------------------------------------|\n",
        "| 1     | Number of times pregnant                                                 |\n",
        "| 2     | Plasma glucose concentration a 2 hours in an oral glucose tolerance test |\n",
        "| 3     | Diastolic blood pressure (mm Hg)                                         |\n",
        "| 4     | Triceps skin fold thickness (mm)                                         |\n",
        "| 5     | 2-Hour serum insulin (mu U/ml)                                           |\n",
        "| 6     | Body mass index (weight in kg/(height in m)^2)                           |\n",
        "| 7     | Diabetes pedigree function                                               |\n",
        "| 8     | Age (years)                                                              |\n",
        "| 9     | Class variable (0 or 1)                                                  |"
      ]
    },
    {
      "cell_type": "markdown",
      "metadata": {
        "id": "ODo7hB6arabC"
      },
      "source": [
        "## Suggested steps\n",
        "\n",
        "1. Import packages.\n",
        "2. Load the data.\n",
        "    1. Use pd.read_csv().\n",
        "    2. URL for the data: https://raw.githubusercontent.com/dmachlanski/ncrm-causality-2021/main/labs/day_1/data/pima-indians-diabetes.csv\n",
        "3. Explore it.\n",
        "    1. Print a few rows.\n",
        "    2. Plot distributions (plot_dist function or your own).\n",
        "4. Data pre-processing.\n",
        "    1. Separate X from y.\n",
        "    2. Train/test splitting.\n",
        "    3. Scaling.\n",
        "5. Train and evaluate selected models (which and how many - up to you).\n",
        "    1. Use already presented classifiers or see [here](https://scikit-learn.org/stable/supervised_learning.html#supervised-learning) for an inspiration.\n",
        "    2. classification_report and confusion_matrix functions.\n",
        "6. Hyperparameter tuning (cross_val_score or GridSearchCV).\n",
        "\n",
        "Overall, feel free to re-use the code from the tutorial as much as you want. Try to avoid copying and pasting the code that you do not understand. In case anything is unclear - ask!"
      ]
    },
    {
      "cell_type": "code",
      "metadata": {
        "id": "vJ7rHacFroxr"
      },
      "source": [
        ""
      ],
      "execution_count": null,
      "outputs": []
    }
  ]
}