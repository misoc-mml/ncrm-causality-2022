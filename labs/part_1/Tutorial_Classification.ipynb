{
  "nbformat": 4,
  "nbformat_minor": 0,
  "metadata": {
    "colab": {
      "name": "Tutorial Classification.ipynb",
      "provenance": [],
      "collapsed_sections": [
        "V0A-vEb9pY6q"
      ],
      "authorship_tag": "ABX9TyMJWeEGSSwTod7uLrr51Kgt",
      "include_colab_link": true
    },
    "kernelspec": {
      "name": "python3",
      "display_name": "Python 3"
    },
    "language_info": {
      "name": "python"
    }
  },
  "cells": [
    {
      "cell_type": "markdown",
      "metadata": {
        "id": "view-in-github",
        "colab_type": "text"
      },
      "source": [
        "<a href=\"https://colab.research.google.com/github/dmachlanski/ncrm-causality-2021/blob/main/labs/day_1/Tutorial_Classification.ipynb\" target=\"_parent\"><img src=\"https://colab.research.google.com/assets/colab-badge.svg\" alt=\"Open In Colab\"/></a>"
      ]
    },
    {
      "cell_type": "markdown",
      "metadata": {
        "id": "z_99RRyoMayD"
      },
      "source": [
        "# Classification - tutorial\n",
        "\n",
        "This is a guided example that involves a classification problem - spirals dataset. This data is completely synthetic and has been generated via [spiral_generate.py](https://github.com/dmachlanski/ncrm-causality-2021/blob/main/labs/day_1/spiral_generate.py) script (feel free to have a look).\n",
        "\n",
        "## The plan\n",
        "\n",
        "1. Import necessary packages.\n",
        "2. Load and explore the dataset.\n",
        "3. Perform data pre-processing (transformations, scaling, splitting).\n",
        "4. Train and evaluate the models.\n",
        "5. Hyperparameter optimisation."
      ]
    },
    {
      "cell_type": "markdown",
      "metadata": {
        "id": "fqp3Vu_QNULi"
      },
      "source": [
        "## Step 1 - packages"
      ]
    },
    {
      "cell_type": "code",
      "metadata": {
        "id": "14yNd4lwIqjA"
      },
      "source": [
        "import pandas as pd\n",
        "import numpy as np\n",
        "import matplotlib.pyplot as plt\n",
        "import math\n",
        "\n",
        "from sklearn.linear_model import LogisticRegression\n",
        "from sklearn.tree import DecisionTreeClassifier\n",
        "from sklearn.ensemble import RandomForestClassifier\n",
        "from sklearn.dummy import DummyClassifier\n",
        "\n",
        "from sklearn.model_selection import train_test_split, cross_val_score, GridSearchCV\n",
        "from sklearn.metrics import classification_report, confusion_matrix, ConfusionMatrixDisplay\n",
        "from sklearn.preprocessing import MinMaxScaler"
      ],
      "execution_count": null,
      "outputs": []
    },
    {
      "cell_type": "markdown",
      "metadata": {
        "id": "JWTItPS3MaRZ"
      },
      "source": [
        "## Step 2 - data"
      ]
    },
    {
      "cell_type": "markdown",
      "metadata": {
        "id": "TYJjO0OfNely"
      },
      "source": [
        "You can either upload the file manually to Colab (everytime you start the notebook), or use the following command that does that for you."
      ]
    },
    {
      "cell_type": "code",
      "metadata": {
        "colab": {
          "base_uri": "https://localhost:8080/"
        },
        "id": "9Sq3QON3jdP4",
        "outputId": "d8de5d9b-0843-46b1-845e-4b1ea1b4c477"
      },
      "source": [
        "!wget https://github.com/dmachlanski/ncrm-causality-2021/raw/main/labs/day_1/data/spirals.npz"
      ],
      "execution_count": null,
      "outputs": [
        {
          "output_type": "stream",
          "text": [
            "--2021-06-14 22:05:04--  https://github.com/dmachlanski/ncrm-causality-2021/raw/main/labs/day_1/data/spirals.npz\n",
            "Resolving github.com (github.com)... 140.82.113.3\n",
            "Connecting to github.com (github.com)|140.82.113.3|:443... connected.\n",
            "HTTP request sent, awaiting response... 302 Found\n",
            "Location: https://raw.githubusercontent.com/dmachlanski/ncrm-causality-2021/main/labs/day_1/data/spirals.npz [following]\n",
            "--2021-06-14 22:05:04--  https://raw.githubusercontent.com/dmachlanski/ncrm-causality-2021/main/labs/day_1/data/spirals.npz\n",
            "Resolving raw.githubusercontent.com (raw.githubusercontent.com)... 185.199.108.133, 185.199.109.133, 185.199.110.133, ...\n",
            "Connecting to raw.githubusercontent.com (raw.githubusercontent.com)|185.199.108.133|:443... connected.\n",
            "HTTP request sent, awaiting response... 200 OK\n",
            "Length: 48490 (47K) [application/octet-stream]\n",
            "Saving to: ‘spirals.npz’\n",
            "\n",
            "spirals.npz         100%[===================>]  47.35K  --.-KB/s    in 0.01s   \n",
            "\n",
            "2021-06-14 22:05:04 (4.54 MB/s) - ‘spirals.npz’ saved [48490/48490]\n",
            "\n"
          ],
          "name": "stdout"
        }
      ]
    },
    {
      "cell_type": "code",
      "metadata": {
        "id": "TMBCd151iiUg"
      },
      "source": [
        "data = np.load('spirals.npz')"
      ],
      "execution_count": null,
      "outputs": []
    },
    {
      "cell_type": "code",
      "metadata": {
        "colab": {
          "base_uri": "https://localhost:8080/"
        },
        "id": "MxX0Xwx9i6pf",
        "outputId": "7291d912-2ef5-4c3d-e02f-fabfbb8b8c55"
      },
      "source": [
        "data.files"
      ],
      "execution_count": null,
      "outputs": [
        {
          "output_type": "execute_result",
          "data": {
            "text/plain": [
              "['x', 'y']"
            ]
          },
          "metadata": {
            "tags": []
          },
          "execution_count": 9
        }
      ]
    },
    {
      "cell_type": "code",
      "metadata": {
        "colab": {
          "base_uri": "https://localhost:8080/"
        },
        "id": "JUi8LFFXjyt9",
        "outputId": "0070d2eb-4fdf-4798-f98b-87a0804ce93f"
      },
      "source": [
        "print(data['x'].shape)\n",
        "print(data['y'].shape)"
      ],
      "execution_count": null,
      "outputs": [
        {
          "output_type": "stream",
          "text": [
            "(2000, 2)\n",
            "(2000,)\n"
          ],
          "name": "stdout"
        }
      ]
    },
    {
      "cell_type": "code",
      "metadata": {
        "id": "1lARfghkkYQY"
      },
      "source": [
        "X = data['x']\n",
        "y = data['y']"
      ],
      "execution_count": null,
      "outputs": []
    },
    {
      "cell_type": "code",
      "metadata": {
        "colab": {
          "base_uri": "https://localhost:8080/",
          "height": 282
        },
        "id": "Fad0ANjYkJHw",
        "outputId": "0a3c03e7-3161-4736-9d43-42d4adc3fa6b"
      },
      "source": [
        "plt.scatter(X[y == 0, 0], X[y == 0, 1], c='red')\n",
        "plt.scatter(X[y == 1, 0], X[y == 1, 1], c='blue')"
      ],
      "execution_count": null,
      "outputs": [
        {
          "output_type": "execute_result",
          "data": {
            "text/plain": [
              "<matplotlib.collections.PathCollection at 0x7fe291978a90>"
            ]
          },
          "metadata": {
            "tags": []
          },
          "execution_count": 12
        },
        {
          "output_type": "display_data",
          "data": {
            "image/png": "[encoded data removed]",
            "text/plain": [
              "<Figure size 432x288 with 1 Axes>"
            ]
          },
          "metadata": {
            "tags": [],
            "needs_background": "light"
          }
        }
      ]
    },
    {
      "cell_type": "code",
      "metadata": {
        "id": "siYvH4eDmQ7V"
      },
      "source": [
        "def _trim_axs(axs, N):\n",
        "    axs = axs.flat\n",
        "    for ax in axs[N:]:\n",
        "        ax.remove()\n",
        "    return axs[:N]\n",
        "\n",
        "def plot_dist(data, bins=10):\n",
        "    fig, axs = plt.subplots(1, 3, figsize=(10, 4))\n",
        "    axs = _trim_axs(axs, data.shape[1])\n",
        "\n",
        "    for i, ax in enumerate(axs):\n",
        "        ax.hist(data[:, i], bins=bins)\n",
        "    \n",
        "    fig.tight_layout()\n",
        "    plt.show()"
      ],
      "execution_count": null,
      "outputs": []
    },
    {
      "cell_type": "code",
      "metadata": {
        "colab": {
          "base_uri": "https://localhost:8080/",
          "height": 297
        },
        "id": "eWtBo1OlmR-V",
        "outputId": "7b116156-dde2-4367-ef36-8d772475da15"
      },
      "source": [
        "plot_dist(np.concatenate([X, y.reshape(-1, 1)], axis=1), 20)"
      ],
      "execution_count": null,
      "outputs": [
        {
          "output_type": "display_data",
          "data": {
            "image/png": "[encoded data removed]",
            "text/plain": [
              "<Figure size 720x288 with 3 Axes>"
            ]
          },
          "metadata": {
            "tags": [],
            "needs_background": "light"
          }
        }
      ]
    },
    {
      "cell_type": "markdown",
      "metadata": {
        "id": "VFn2FXkAN5b_"
      },
      "source": [
        "## Step 3 - data pre-processing"
      ]
    },
    {
      "cell_type": "code",
      "metadata": {
        "colab": {
          "base_uri": "https://localhost:8080/"
        },
        "id": "Q9yq7TMzlfTy",
        "outputId": "50c82b2b-3519-46ef-c195-d5149aba02ca"
      },
      "source": [
        "X_train, X_test, y_train, y_test = train_test_split(X, y, test_size=0.2)\n",
        "\n",
        "# Scale X only (Y is binary so it's unnecessary).\n",
        "scaler = MinMaxScaler()\n",
        "X_train = scaler.fit_transform(X_train)\n",
        "X_test = scaler.transform(X_test)\n",
        "\n",
        "print(X_train.shape)\n",
        "print(y_train.shape)\n",
        "print(X_test.shape)\n",
        "print(y_test.shape)"
      ],
      "execution_count": null,
      "outputs": [
        {
          "output_type": "stream",
          "text": [
            "(1600, 2)\n",
            "(1600,)\n",
            "(400, 2)\n",
            "(400,)\n"
          ],
          "name": "stdout"
        }
      ]
    },
    {
      "cell_type": "markdown",
      "metadata": {
        "id": "J9L7TX9WN8Zf"
      },
      "source": [
        "## Step 4 - train and evaluate"
      ]
    },
    {
      "cell_type": "markdown",
      "metadata": {
        "id": "Uakut6BwOvdZ"
      },
      "source": [
        "We train the following models here:\n",
        "1. Dummy model (sanity check).\n",
        "2. Logistic regression.\n",
        "3. Decision tree.\n",
        "4. Random forest.\n",
        "\n",
        "General approach:\n",
        "1. Train on the training data (X and y).\n",
        "2. Make predictions on the test data (X).\n",
        "3. Compare obtained predictions to the ground truth (y).\n",
        "\n",
        "Useful classification metrics to take into account:\n",
        "- accuracy\n",
        "- precision\n",
        "- recall\n",
        "- F1 score\n",
        "\n",
        "We will also plot confusion matrices to visualise the ratio of type I and type II errors our models make."
      ]
    },
    {
      "cell_type": "code",
      "metadata": {
        "colab": {
          "base_uri": "https://localhost:8080/",
          "height": 485
        },
        "id": "Qdh_HIwVmE4N",
        "outputId": "47ce14b8-37a9-40ad-fcd8-614c2c12560b"
      },
      "source": [
        "dc = DummyClassifier()\n",
        "dc.fit(X_train, y_train)\n",
        "\n",
        "y_pred_test = dc.predict(X_test)\n",
        "\n",
        "dc_report = classification_report(y_test, y_pred_test)\n",
        "print(dc_report)\n",
        "\n",
        "dc_conf_mat = confusion_matrix(y_test, y_pred_test, labels=dc.classes_, normalize='all')\n",
        "disp = ConfusionMatrixDisplay(dc_conf_mat, display_labels=dc.classes_)\n",
        "disp.plot()"
      ],
      "execution_count": null,
      "outputs": [
        {
          "output_type": "stream",
          "text": [
            "              precision    recall  f1-score   support\n",
            "\n",
            "         0.0       0.48      0.52      0.50       191\n",
            "         1.0       0.52      0.48      0.50       209\n",
            "\n",
            "    accuracy                           0.50       400\n",
            "   macro avg       0.50      0.50      0.50       400\n",
            "weighted avg       0.50      0.50      0.50       400\n",
            "\n"
          ],
          "name": "stdout"
        },
        {
          "output_type": "stream",
          "text": [
            "/usr/local/lib/python3.7/dist-packages/sklearn/dummy.py:132: FutureWarning: The default value of strategy will change from stratified to prior in 0.24.\n",
            "  \"stratified to prior in 0.24.\", FutureWarning)\n"
          ],
          "name": "stderr"
        },
        {
          "output_type": "execute_result",
          "data": {
            "text/plain": [
              "<sklearn.metrics._plot.confusion_matrix.ConfusionMatrixDisplay at 0x7fe29198d2d0>"
            ]
          },
          "metadata": {
            "tags": []
          },
          "execution_count": 28
        },
        {
          "output_type": "display_data",
          "data": {
            "image/png": "[encoded data removed]",
            "text/plain": [
              "<Figure size 432x288 with 2 Axes>"
            ]
          },
          "metadata": {
            "tags": [],
            "needs_background": "light"
          }
        }
      ]
    },
    {
      "cell_type": "code",
      "metadata": {
        "colab": {
          "base_uri": "https://localhost:8080/",
          "height": 447
        },
        "id": "_nFlDqDEonlk",
        "outputId": "881133ae-bb96-40b8-c3e0-d54a91d205ac"
      },
      "source": [
        "lr = LogisticRegression()\n",
        "lr.fit(X_train, y_train)\n",
        "\n",
        "y_pred_test = lr.predict(X_test)\n",
        "\n",
        "lr_report = classification_report(y_test, y_pred_test)\n",
        "print(lr_report)\n",
        "\n",
        "lr_conf_mat = confusion_matrix(y_test, y_pred_test, labels=lr.classes_, normalize='all')\n",
        "disp = ConfusionMatrixDisplay(lr_conf_mat, display_labels=lr.classes_)\n",
        "disp.plot()"
      ],
      "execution_count": null,
      "outputs": [
        {
          "output_type": "stream",
          "text": [
            "              precision    recall  f1-score   support\n",
            "\n",
            "         0.0       0.58      0.66      0.62       191\n",
            "         1.0       0.65      0.57      0.61       209\n",
            "\n",
            "    accuracy                           0.61       400\n",
            "   macro avg       0.62      0.61      0.61       400\n",
            "weighted avg       0.62      0.61      0.61       400\n",
            "\n"
          ],
          "name": "stdout"
        },
        {
          "output_type": "execute_result",
          "data": {
            "text/plain": [
              "<sklearn.metrics._plot.confusion_matrix.ConfusionMatrixDisplay at 0x7fe291405ed0>"
            ]
          },
          "metadata": {
            "tags": []
          },
          "execution_count": 29
        },
        {
          "output_type": "display_data",
          "data": {
            "image/png": "[encoded data removed]",
            "text/plain": [
              "<Figure size 432x288 with 2 Axes>"
            ]
          },
          "metadata": {
            "tags": [],
            "needs_background": "light"
          }
        }
      ]
    },
    {
      "cell_type": "code",
      "metadata": {
        "colab": {
          "base_uri": "https://localhost:8080/",
          "height": 447
        },
        "id": "RuJKTN_XoySx",
        "outputId": "c7601d24-6fdc-45e6-a770-aac536fb1dfe"
      },
      "source": [
        "dt = DecisionTreeClassifier()\n",
        "dt.fit(X_train, y_train)\n",
        "\n",
        "y_pred_test = dt.predict(X_test)\n",
        "\n",
        "dt_report = classification_report(y_test, y_pred_test)\n",
        "print(dt_report)\n",
        "\n",
        "dt_conf_mat = confusion_matrix(y_test, y_pred_test, labels=dt.classes_, normalize='all')\n",
        "disp = ConfusionMatrixDisplay(dt_conf_mat, display_labels=dt.classes_)\n",
        "disp.plot()"
      ],
      "execution_count": null,
      "outputs": [
        {
          "output_type": "stream",
          "text": [
            "              precision    recall  f1-score   support\n",
            "\n",
            "         0.0       0.98      0.99      0.99       191\n",
            "         1.0       1.00      0.99      0.99       209\n",
            "\n",
            "    accuracy                           0.99       400\n",
            "   macro avg       0.99      0.99      0.99       400\n",
            "weighted avg       0.99      0.99      0.99       400\n",
            "\n"
          ],
          "name": "stdout"
        },
        {
          "output_type": "execute_result",
          "data": {
            "text/plain": [
              "<sklearn.metrics._plot.confusion_matrix.ConfusionMatrixDisplay at 0x7fe288d05fd0>"
            ]
          },
          "metadata": {
            "tags": []
          },
          "execution_count": 30
        },
        {
          "output_type": "display_data",
          "data": {
            "image/png": "[encoded data removed]",
            "text/plain": [
              "<Figure size 432x288 with 2 Axes>"
            ]
          },
          "metadata": {
            "tags": [],
            "needs_background": "light"
          }
        }
      ]
    },
    {
      "cell_type": "code",
      "metadata": {
        "colab": {
          "base_uri": "https://localhost:8080/",
          "height": 447
        },
        "id": "7xIFK9Q1oyQf",
        "outputId": "98e3d5b1-d9e1-4f1a-8691-ff152578ed3e"
      },
      "source": [
        "rf = RandomForestClassifier()\n",
        "rf.fit(X_train, y_train)\n",
        "\n",
        "y_pred_test = rf.predict(X_test)\n",
        "\n",
        "rf_report = classification_report(y_test, y_pred_test)\n",
        "print(rf_report)\n",
        "\n",
        "rf_conf_mat = confusion_matrix(y_test, y_pred_test, labels=rf.classes_, normalize='all')\n",
        "disp = ConfusionMatrixDisplay(rf_conf_mat, display_labels=rf.classes_)\n",
        "disp.plot()"
      ],
      "execution_count": null,
      "outputs": [
        {
          "output_type": "stream",
          "text": [
            "              precision    recall  f1-score   support\n",
            "\n",
            "         0.0       0.99      1.00      1.00       191\n",
            "         1.0       1.00      1.00      1.00       209\n",
            "\n",
            "    accuracy                           1.00       400\n",
            "   macro avg       1.00      1.00      1.00       400\n",
            "weighted avg       1.00      1.00      1.00       400\n",
            "\n"
          ],
          "name": "stdout"
        },
        {
          "output_type": "execute_result",
          "data": {
            "text/plain": [
              "<sklearn.metrics._plot.confusion_matrix.ConfusionMatrixDisplay at 0x7fe288c23490>"
            ]
          },
          "metadata": {
            "tags": []
          },
          "execution_count": 31
        },
        {
          "output_type": "display_data",
          "data": {
            "image/png": "[encoded data removed]",
            "text/plain": [
              "<Figure size 432x288 with 2 Axes>"
            ]
          },
          "metadata": {
            "tags": [],
            "needs_background": "light"
          }
        }
      ]
    },
    {
      "cell_type": "markdown",
      "metadata": {
        "id": "V0A-vEb9pY6q"
      },
      "source": [
        "## Step 5 - hyperparameter search"
      ]
    },
    {
      "cell_type": "code",
      "metadata": {
        "colab": {
          "base_uri": "https://localhost:8080/"
        },
        "id": "ISZ_BfjWpfMp",
        "outputId": "64ceb979-d781-4edf-8047-a7a382e2c804"
      },
      "source": [
        "clf = DecisionTreeClassifier()\n",
        "params = {'max_depth': [1, 2, 5, 10, 20, None], 'max_leaf_nodes': [2, 5, 10, 20, 30, None]}\n",
        "gs = GridSearchCV(clf, params, cv=10)\n",
        "\n",
        "gs.fit(X_train, y_train)"
      ],
      "execution_count": null,
      "outputs": [
        {
          "output_type": "execute_result",
          "data": {
            "text/plain": [
              "GridSearchCV(cv=10, error_score=nan,\n",
              "             estimator=DecisionTreeClassifier(ccp_alpha=0.0, class_weight=None,\n",
              "                                              criterion='gini', max_depth=None,\n",
              "                                              max_features=None,\n",
              "                                              max_leaf_nodes=None,\n",
              "                                              min_impurity_decrease=0.0,\n",
              "                                              min_impurity_split=None,\n",
              "                                              min_samples_leaf=1,\n",
              "                                              min_samples_split=2,\n",
              "                                              min_weight_fraction_leaf=0.0,\n",
              "                                              presort='deprecated',\n",
              "                                              random_state=None,\n",
              "                                              splitter='best'),\n",
              "             iid='deprecated', n_jobs=None,\n",
              "             param_grid={'max_depth': [1, 2, 5, 10, 20, None],\n",
              "                         'max_leaf_nodes': [2, 5, 10, 20, 30, None]},\n",
              "             pre_dispatch='2*n_jobs', refit=True, return_train_score=False,\n",
              "             scoring=None, verbose=0)"
            ]
          },
          "metadata": {
            "tags": []
          },
          "execution_count": 32
        }
      ]
    },
    {
      "cell_type": "code",
      "metadata": {
        "colab": {
          "base_uri": "https://localhost:8080/"
        },
        "id": "rR_t5yxAp_4m",
        "outputId": "1846b871-e882-4d58-ff54-2f673ef91eba"
      },
      "source": [
        "gs.best_params_"
      ],
      "execution_count": null,
      "outputs": [
        {
          "output_type": "execute_result",
          "data": {
            "text/plain": [
              "{'max_depth': None, 'max_leaf_nodes': 30}"
            ]
          },
          "metadata": {
            "tags": []
          },
          "execution_count": 34
        }
      ]
    },
    {
      "cell_type": "code",
      "metadata": {
        "colab": {
          "base_uri": "https://localhost:8080/"
        },
        "id": "TEAzp24oqCOR",
        "outputId": "9753238d-bfef-4c41-e824-4ba875d47659"
      },
      "source": [
        "gs.best_score_"
      ],
      "execution_count": null,
      "outputs": [
        {
          "output_type": "execute_result",
          "data": {
            "text/plain": [
              "0.9893750000000001"
            ]
          },
          "metadata": {
            "tags": []
          },
          "execution_count": 35
        }
      ]
    },
    {
      "cell_type": "code",
      "metadata": {
        "colab": {
          "base_uri": "https://localhost:8080/",
          "height": 447
        },
        "id": "xgpebdkwqGDj",
        "outputId": "754e6465-2c46-4ed1-f913-9a98355b76e4"
      },
      "source": [
        "y_pred_test = gs.predict(X_test)\n",
        "\n",
        "gs_report = classification_report(y_test, y_pred_test)\n",
        "print(gs_report)\n",
        "\n",
        "gs_conf_mat = confusion_matrix(y_test, y_pred_test, labels=gs.classes_, normalize='all')\n",
        "disp = ConfusionMatrixDisplay(gs_conf_mat, display_labels=gs.classes_)\n",
        "disp.plot()"
      ],
      "execution_count": null,
      "outputs": [
        {
          "output_type": "stream",
          "text": [
            "              precision    recall  f1-score   support\n",
            "\n",
            "         0.0       0.98      0.99      0.99       191\n",
            "         1.0       1.00      0.99      0.99       209\n",
            "\n",
            "    accuracy                           0.99       400\n",
            "   macro avg       0.99      0.99      0.99       400\n",
            "weighted avg       0.99      0.99      0.99       400\n",
            "\n"
          ],
          "name": "stdout"
        },
        {
          "output_type": "execute_result",
          "data": {
            "text/plain": [
              "<sklearn.metrics._plot.confusion_matrix.ConfusionMatrixDisplay at 0x7fe288fd6fd0>"
            ]
          },
          "metadata": {
            "tags": []
          },
          "execution_count": 36
        },
        {
          "output_type": "display_data",
          "data": {
            "image/png": "[encoded data removed]",
            "text/plain": [
              "<Figure size 432x288 with 2 Axes>"
            ]
          },
          "metadata": {
            "tags": [],
            "needs_background": "light"
          }
        }
      ]
    }
  ]
}