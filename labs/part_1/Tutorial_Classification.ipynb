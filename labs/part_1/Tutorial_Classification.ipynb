{
  "nbformat": 4,
  "nbformat_minor": 0,
  "metadata": {
    "colab": {
      "name": "Tutorial Classification.ipynb",
      "provenance": [],
      "collapsed_sections": [
        "V0A-vEb9pY6q"
      ],
      "authorship_tag": "ABX9TyN2IOyQNmRBnm3v8JfyhDXQ",
      "include_colab_link": true
    },
    "kernelspec": {
      "name": "python3",
      "display_name": "Python 3"
    },
    "language_info": {
      "name": "python"
    }
  },
  "cells": [
    {
      "cell_type": "markdown",
      "metadata": {
        "id": "view-in-github",
        "colab_type": "text"
      },
      "source": [
        "<a href=\"https://colab.research.google.com/github/misoc-mml/ncrm-causality-2022/blob/main/labs/part_1/Tutorial_Classification.ipynb\" target=\"_parent\"><img src=\"https://colab.research.google.com/assets/colab-badge.svg\" alt=\"Open In Colab\"/></a>"
      ]
    },
    {
      "cell_type": "markdown",
      "metadata": {
        "id": "z_99RRyoMayD"
      },
      "source": [
        "# Classification - tutorial\n",
        "\n",
        "This is a guided example that involves a classification problem - spirals dataset. This data is completely synthetic.\n",
        "\n",
        "## The plan\n",
        "\n",
        "1. Import necessary packages.\n",
        "2. Load and explore the dataset.\n",
        "3. Perform data pre-processing (transformations, scaling, splitting).\n",
        "4. Train and evaluate the models."
      ]
    },
    {
      "cell_type": "markdown",
      "metadata": {
        "id": "fqp3Vu_QNULi"
      },
      "source": [
        "## Step 1 - packages"
      ]
    },
    {
      "cell_type": "code",
      "metadata": {
        "id": "14yNd4lwIqjA"
      },
      "source": [
        "import pandas as pd\n",
        "import numpy as np\n",
        "import matplotlib.pyplot as plt\n",
        "import math\n",
        "\n",
        "from sklearn.linear_model import LogisticRegression\n",
        "from sklearn.tree import DecisionTreeClassifier\n",
        "from sklearn.ensemble import RandomForestClassifier\n",
        "from sklearn.dummy import DummyClassifier\n",
        "\n",
        "from sklearn.model_selection import train_test_split\n",
        "from sklearn.metrics import accuracy_score\n",
        "from sklearn.preprocessing import MinMaxScaler"
      ],
      "execution_count": 1,
      "outputs": []
    },
    {
      "cell_type": "code",
      "source": [
        "def _trim_axs(axs, N):\n",
        "    axs = axs.flat\n",
        "    for ax in axs[N:]:\n",
        "        ax.remove()\n",
        "    return axs[:N]\n",
        "\n",
        "def plot_dist(data, bins=10, size=(12, 8)):\n",
        "    sq = math.sqrt(data.shape[1])\n",
        "    d_ceil = math.ceil(sq)\n",
        "    d_floor = math.floor(sq)\n",
        "\n",
        "    if (d_ceil * d_floor) >= data.shape[1]:\n",
        "        n_rows = d_floor\n",
        "        n_cols = d_ceil\n",
        "    else:\n",
        "        n_rows = n_cols = d_ceil\n",
        "\n",
        "    fig, axs = plt.subplots(n_rows, n_cols, figsize=size)\n",
        "    axs = _trim_axs(axs, data.shape[1])\n",
        "\n",
        "    for i, ax in enumerate(axs):\n",
        "        ax.hist(data[:, i], bins=bins)\n",
        "    \n",
        "    fig.tight_layout()\n",
        "    plt.show()"
      ],
      "metadata": {
        "id": "QXqKEJ3huP_q"
      },
      "execution_count": 2,
      "outputs": []
    },
    {
      "cell_type": "markdown",
      "metadata": {
        "id": "JWTItPS3MaRZ"
      },
      "source": [
        "## Step 2 - data"
      ]
    },
    {
      "cell_type": "markdown",
      "metadata": {
        "id": "TYJjO0OfNely"
      },
      "source": [
        "You can either upload the file manually to Colab (everytime you start the notebook), or use the following command that does that for you."
      ]
    },
    {
      "cell_type": "code",
      "metadata": {
        "colab": {
          "base_uri": "https://localhost:8080/"
        },
        "id": "9Sq3QON3jdP4",
        "outputId": "4fd4d211-8468-4da6-bc7a-0ad367777188"
      },
      "source": [
        "!wget https://github.com/misoc-mml/ncrm-causality-2022/raw/main/labs/part_1/data/spirals.npz"
      ],
      "execution_count": 3,
      "outputs": [
        {
          "output_type": "stream",
          "name": "stdout",
          "text": [
            "--2022-10-07 13:54:45--  https://github.com/misoc-mml/ncrm-causality-2022/raw/main/labs/part_1/data/spirals.npz\n",
            "Resolving github.com (github.com)... 140.82.114.3\n",
            "Connecting to github.com (github.com)|140.82.114.3|:443... connected.\n",
            "HTTP request sent, awaiting response... 302 Found\n",
            "Location: https://raw.githubusercontent.com/misoc-mml/ncrm-causality-2022/main/labs/part_1/data/spirals.npz [following]\n",
            "--2022-10-07 13:54:45--  https://raw.githubusercontent.com/misoc-mml/ncrm-causality-2022/main/labs/part_1/data/spirals.npz\n",
            "Resolving raw.githubusercontent.com (raw.githubusercontent.com)... 185.199.108.133, 185.199.109.133, 185.199.110.133, ...\n",
            "Connecting to raw.githubusercontent.com (raw.githubusercontent.com)|185.199.108.133|:443... connected.\n",
            "HTTP request sent, awaiting response... 200 OK\n",
            "Length: 48490 (47K) [application/octet-stream]\n",
            "Saving to: ‘spirals.npz’\n",
            "\n",
            "spirals.npz         100%[===================>]  47.35K  --.-KB/s    in 0.005s  \n",
            "\n",
            "2022-10-07 13:54:45 (8.86 MB/s) - ‘spirals.npz’ saved [48490/48490]\n",
            "\n"
          ]
        }
      ]
    },
    {
      "cell_type": "code",
      "metadata": {
        "id": "TMBCd151iiUg"
      },
      "source": [
        "data = np.load('spirals.npz')"
      ],
      "execution_count": 4,
      "outputs": []
    },
    {
      "cell_type": "code",
      "metadata": {
        "colab": {
          "base_uri": "https://localhost:8080/"
        },
        "id": "MxX0Xwx9i6pf",
        "outputId": "d9dd026b-b96b-4a67-c26a-52c46460d03d"
      },
      "source": [
        "data.files"
      ],
      "execution_count": 5,
      "outputs": [
        {
          "output_type": "execute_result",
          "data": {
            "text/plain": [
              "['x', 'y']"
            ]
          },
          "metadata": {},
          "execution_count": 5
        }
      ]
    },
    {
      "cell_type": "code",
      "metadata": {
        "colab": {
          "base_uri": "https://localhost:8080/"
        },
        "id": "JUi8LFFXjyt9",
        "outputId": "1666a51b-5f35-4978-c46a-26e4344e23c5"
      },
      "source": [
        "print(data['x'].shape)\n",
        "print(data['y'].shape)"
      ],
      "execution_count": 6,
      "outputs": [
        {
          "output_type": "stream",
          "name": "stdout",
          "text": [
            "(2000, 2)\n",
            "(2000,)\n"
          ]
        }
      ]
    },
    {
      "cell_type": "code",
      "metadata": {
        "id": "1lARfghkkYQY"
      },
      "source": [
        "X = data['x']\n",
        "y = data['y']"
      ],
      "execution_count": 7,
      "outputs": []
    },
    {
      "cell_type": "code",
      "metadata": {
        "colab": {
          "base_uri": "https://localhost:8080/",
          "height": 282
        },
        "id": "Fad0ANjYkJHw",
        "outputId": "9353655c-f692-4cc0-ccbb-483cba78d38b"
      },
      "source": [
        "plt.scatter(X[y == 0, 0], X[y == 0, 1], c='red')\n",
        "plt.scatter(X[y == 1, 0], X[y == 1, 1], c='blue')"
      ],
      "execution_count": 8,
      "outputs": [
        {
          "output_type": "execute_result",
          "data": {
            "text/plain": [
              "<matplotlib.collections.PathCollection at 0x7fc74496edd0>"
            ]
          },
          "metadata": {},
          "execution_count": 8
        },
        {
          "output_type": "display_data",
          "data": {
            "text/plain": [
              "<Figure size 432x288 with 1 Axes>"
            ],
            "image/png": "[encoded data removed]"
          },
          "metadata": {
            "needs_background": "light"
          }
        }
      ]
    },
    {
      "cell_type": "code",
      "metadata": {
        "colab": {
          "base_uri": "https://localhost:8080/",
          "height": 585
        },
        "id": "eWtBo1OlmR-V",
        "outputId": "e4499384-ab2a-43b3-b376-1706f5bb9d2f"
      },
      "source": [
        "plot_dist(np.concatenate([X, y.reshape(-1, 1)], axis=1), 20)"
      ],
      "execution_count": 9,
      "outputs": [
        {
          "output_type": "display_data",
          "data": {
            "text/plain": [
              "<Figure size 864x576 with 3 Axes>"
            ],
            "image/png": "[encoded data removed]"
          },
          "metadata": {
            "needs_background": "light"
          }
        }
      ]
    },
    {
      "cell_type": "markdown",
      "metadata": {
        "id": "VFn2FXkAN5b_"
      },
      "source": [
        "## Step 3 - data pre-processing"
      ]
    },
    {
      "cell_type": "code",
      "metadata": {
        "colab": {
          "base_uri": "https://localhost:8080/"
        },
        "id": "Q9yq7TMzlfTy",
        "outputId": "8e9b94e6-73d7-4d3f-e759-8bccc5af55d0"
      },
      "source": [
        "X_train, X_test, y_train, y_test = train_test_split(X, y, test_size=0.2)\n",
        "\n",
        "scaler = MinMaxScaler()\n",
        "X_train = scaler.fit_transform(X_train)\n",
        "X_test = scaler.transform(X_test)\n",
        "\n",
        "print(X_train.shape)\n",
        "print(y_train.shape)\n",
        "print(X_test.shape)\n",
        "print(y_test.shape)"
      ],
      "execution_count": 10,
      "outputs": [
        {
          "output_type": "stream",
          "name": "stdout",
          "text": [
            "(1600, 2)\n",
            "(1600,)\n",
            "(400, 2)\n",
            "(400,)\n"
          ]
        }
      ]
    },
    {
      "cell_type": "markdown",
      "metadata": {
        "id": "J9L7TX9WN8Zf"
      },
      "source": [
        "## Step 4 - train and evaluate"
      ]
    },
    {
      "cell_type": "markdown",
      "metadata": {
        "id": "Uakut6BwOvdZ"
      },
      "source": [
        "We train the following models here:\n",
        "1. Dummy model (sanity check).\n",
        "2. Logistic regression.\n",
        "3. Decision tree.\n",
        "4. Random forest.\n",
        "\n",
        "General approach:\n",
        "1. Train on the training data (X and y).\n",
        "2. Make predictions on the test data (X).\n",
        "3. Compare obtained predictions to the ground truth (y) -- accuracy."
      ]
    },
    {
      "cell_type": "code",
      "metadata": {
        "colab": {
          "base_uri": "https://localhost:8080/"
        },
        "id": "Qdh_HIwVmE4N",
        "outputId": "5c7ca416-d7f3-4e7d-95ce-5d84d0da41c4"
      },
      "source": [
        "dc = DummyClassifier()\n",
        "dc.fit(X_train, y_train)\n",
        "\n",
        "y_pred_test = dc.predict(X_test)\n",
        "\n",
        "dc_acc = accuracy_score(y_test, y_pred_test)\n",
        "print(dc_acc)"
      ],
      "execution_count": 11,
      "outputs": [
        {
          "output_type": "stream",
          "name": "stdout",
          "text": [
            "0.4975\n"
          ]
        }
      ]
    },
    {
      "cell_type": "code",
      "metadata": {
        "colab": {
          "base_uri": "https://localhost:8080/"
        },
        "id": "_nFlDqDEonlk",
        "outputId": "9a594b72-63df-4425-8d18-d073532bdfc2"
      },
      "source": [
        "lr = LogisticRegression()\n",
        "lr.fit(X_train, y_train)\n",
        "\n",
        "y_pred_test = lr.predict(X_test)\n",
        "\n",
        "lr_acc = accuracy_score(y_test, y_pred_test)\n",
        "print(lr_acc)"
      ],
      "execution_count": 12,
      "outputs": [
        {
          "output_type": "stream",
          "name": "stdout",
          "text": [
            "0.58\n"
          ]
        }
      ]
    },
    {
      "cell_type": "code",
      "metadata": {
        "colab": {
          "base_uri": "https://localhost:8080/"
        },
        "id": "RuJKTN_XoySx",
        "outputId": "a96fcfd1-b0a8-41d9-8c4a-57b23fe75ee3"
      },
      "source": [
        "dt = DecisionTreeClassifier()\n",
        "dt.fit(X_train, y_train)\n",
        "\n",
        "y_pred_test = dt.predict(X_test)\n",
        "\n",
        "dt_acc = accuracy_score(y_test, y_pred_test)\n",
        "print(dt_acc)"
      ],
      "execution_count": 13,
      "outputs": [
        {
          "output_type": "stream",
          "name": "stdout",
          "text": [
            "0.98\n"
          ]
        }
      ]
    },
    {
      "cell_type": "code",
      "metadata": {
        "colab": {
          "base_uri": "https://localhost:8080/"
        },
        "id": "7xIFK9Q1oyQf",
        "outputId": "8464373f-817a-408a-eeb0-d54d3d55d694"
      },
      "source": [
        "rf = RandomForestClassifier()\n",
        "rf.fit(X_train, y_train)\n",
        "\n",
        "y_pred_test = rf.predict(X_test)\n",
        "\n",
        "rf_acc = accuracy_score(y_test, y_pred_test)\n",
        "print(rf_acc)"
      ],
      "execution_count": 14,
      "outputs": [
        {
          "output_type": "stream",
          "name": "stdout",
          "text": [
            "0.9925\n"
          ]
        }
      ]
    },
    {
      "cell_type": "markdown",
      "source": [
        "## Hyperparameter optimisation?\n",
        "\n",
        "This can be done similarly to the regresison example."
      ],
      "metadata": {
        "id": "gTymmt5xvcLj"
      }
    }
  ]
}