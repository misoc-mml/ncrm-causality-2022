{
  "nbformat": 4,
  "nbformat_minor": 0,
  "metadata": {
    "colab": {
      "name": "Exercise Regression.ipynb",
      "provenance": [],
      "collapsed_sections": [],
      "authorship_tag": "ABX9TyOU53qj5iRGg2ky89zBe2JA",
      "include_colab_link": true
    },
    "kernelspec": {
      "name": "python3",
      "display_name": "Python 3"
    },
    "language_info": {
      "name": "python"
    }
  },
  "cells": [
    {
      "cell_type": "markdown",
      "metadata": {
        "id": "view-in-github",
        "colab_type": "text"
      },
      "source": [
        "<a href=\"https://colab.research.google.com/github/dmachlanski/ncrm-causality-2021/blob/main/labs/day_1/Exercise_Regression.ipynb\" target=\"_parent\"><img src=\"https://colab.research.google.com/assets/colab-badge.svg\" alt=\"Open In Colab\"/></a>"
      ]
    },
    {
      "cell_type": "markdown",
      "metadata": {
        "id": "A-ejZipQELA6"
      },
      "source": [
        "# Regression - exercise\n",
        "\n",
        "We will follow the same pattern as in the regression tutorial but with a different dataset - [housing](https://www.cs.toronto.edu/~delve/data/boston/bostonDetail.html).\n",
        "\n"
      ]
    },
    {
      "cell_type": "markdown",
      "metadata": {
        "id": "OQazl2XEHK7R"
      },
      "source": [
        "| Name    | Description                                                           |\n",
        "|---------|-----------------------------------------------------------------------|\n",
        "| CRIM    | per capita crime rate by town                                         |\n",
        "| ZN      | proportion of residential land zoned for lots over 25,000 sq.ft.      |\n",
        "| INDUS   | proportion of non-retail business acres per town                      |\n",
        "| CHAS    | Charles River dummy variable (= 1 if tract bounds river; 0 otherwise) |\n",
        "| NOX     | nitric oxides concentration (parts per 10 million)                    |\n",
        "| RM      | average number of rooms per dwelling                                  |\n",
        "| AGE     | proportion of owner-occupied units built prior to 1940                |\n",
        "| DIS     | weighted distances to five Boston employment centres                  |\n",
        "| RAD     | index of accessibility to radial highways                             |\n",
        "| TAX     | full-value property-tax rate per \\$10,000                              |\n",
        "| PTRATIO | pupil-teacher ratio by town                                           |\n",
        "| B       | 1000(Bk - 0.63)^2 where Bk is the proportion of blacks by town        |\n",
        "| LSTAT   | % lower status of the population                                      |\n",
        "| MEDV    | Median value of owner-occupied homes in $1000's                       |"
      ]
    },
    {
      "cell_type": "markdown",
      "metadata": {
        "id": "1LXLpUAZhWxl"
      },
      "source": [
        "## Suggested steps\n",
        "\n",
        "1. Import packages.\n",
        "2. Load the data.\n",
        "    1. Use pd.read_csv().\n",
        "    2. URL for the data: https://raw.githubusercontent.com/dmachlanski/ncrm-causality-2021/main/labs/day_1/data/housing.csv\n",
        "3. Explore it.\n",
        "    1. Print a few rows.\n",
        "    2. Plot distributions (plot_dist function or your own).\n",
        "4. Data pre-processing.\n",
        "    1. Separate X from y.\n",
        "    2. Train/test splitting.\n",
        "    3. Scaling.\n",
        "5. Train and evaluate selected models (which and how many - up to you).\n",
        "    1. Use already presented regressors or see [here](https://scikit-learn.org/stable/supervised_learning.html#supervised-learning) for an inspiration.\n",
        "6. Hyperparameter tuning (cross_val_score or GridSearchCV).\n",
        "\n",
        "Overall, feel free to re-use the code from the tutorial as much as you want. Try to avoid copying and pasting the code that you do not understand. In case anything is unclear - ask!"
      ]
    },
    {
      "cell_type": "code",
      "metadata": {
        "id": "Z14pJFIkLc_Q"
      },
      "source": [
        ""
      ],
      "execution_count": null,
      "outputs": []
    }
  ]
}